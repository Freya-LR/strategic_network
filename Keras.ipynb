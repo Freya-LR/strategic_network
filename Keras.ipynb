{
  "nbformat": 4,
  "nbformat_minor": 0,
  "metadata": {
    "colab": {
      "name": "Keras.ipynb",
      "provenance": [],
      "collapsed_sections": [],
      "mount_file_id": "1zlxxtBNTSHHvnSdayec0gJfTo0Ihkv72",
      "authorship_tag": "ABX9TyPrNstlxstQ8xsHR0MW9xdN",
      "include_colab_link": true
    },
    "kernelspec": {
      "name": "python3",
      "display_name": "Python 3"
    }
  },
  "cells": [
    {
      "cell_type": "markdown",
      "metadata": {
        "id": "view-in-github",
        "colab_type": "text"
      },
      "source": [
        "<a href=\"https://colab.research.google.com/github/Freya-LR/strategic_network/blob/master/Keras.ipynb\" target=\"_parent\"><img src=\"https://colab.research.google.com/assets/colab-badge.svg\" alt=\"Open In Colab\"/></a>"
      ]
    },
    {
      "cell_type": "code",
      "metadata": {
        "id": "9iJWK1hMwMpz",
        "colab_type": "code",
        "colab": {
          "base_uri": "https://localhost:8080/",
          "height": 139
        },
        "outputId": "6125bcb8-179b-463e-babd-2fa085dbcd59"
      },
      "source": [
        "\n",
        "import pandas as pd\n",
        "import networkx as nx\n",
        "import numpy as np\n",
        "import matplotlib.pyplot as plt\n",
        "from matplotlib.backends.backend_pdf import PdfPages, FigureCanvasPdf\n",
        "from matplotlib.figure import Figure\n",
        "import keras\n",
        "from keras.models import Model ,Sequential \n",
        "from keras import layers\n",
        "from keras.layers import Conv2D, MaxPooling2D, Dense, Flatten\n",
        "from keras.callbacks import EarlyStopping\n",
        "from keras.utils import to_categorical\n",
        "from keras.utils.vis_utils import model_to_dot\n",
        "from sklearn.model_selection import train_test_split\n",
        "\n",
        "import warnings\n",
        "import matplotlib.cbook\n",
        "from IPython.display import SVG\n",
        "warnings.filterwarnings(\"ignore\",category=matplotlib.cbook.mplDeprecation)\n",
        "from google.colab import drive\n",
        "drive.mount('/content/drive')\n"
      ],
      "execution_count": 1,
      "outputs": [
        {
          "output_type": "stream",
          "text": [
            "Using TensorFlow backend.\n"
          ],
          "name": "stderr"
        },
        {
          "output_type": "stream",
          "text": [
            "Go to this URL in a browser: https://accounts.google.com/o/oauth2/auth?client_id=947318989803-6bn6qk8qdgf4n4g3pfee6491hc0brc4i.apps.googleusercontent.com&redirect_uri=urn%3aietf%3awg%3aoauth%3a2.0%3aoob&response_type=code&scope=email%20https%3a%2f%2fwww.googleapis.com%2fauth%2fdocs.test%20https%3a%2f%2fwww.googleapis.com%2fauth%2fdrive%20https%3a%2f%2fwww.googleapis.com%2fauth%2fdrive.photos.readonly%20https%3a%2f%2fwww.googleapis.com%2fauth%2fpeopleapi.readonly\n",
            "\n",
            "Enter your authorization code:\n",
            "··········\n",
            "Mounted at /content/drive\n"
          ],
          "name": "stdout"
        }
      ]
    },
    {
      "cell_type": "code",
      "metadata": {
        "id": "C_gpJ1VUwRQA",
        "colab_type": "code",
        "colab": {}
      },
      "source": [
        "\n",
        "with pd.ExcelFile('/content/drive/My Drive/output_values/output_n10_3.xlsx') as reader:\n",
        "    \n",
        "    closeness_n10_3=pd.read_excel(reader,sheet_name=\"closeness_centrality\")\n",
        "    betweenness_n10_3=pd.read_excel(reader,sheet_name=\"betweenness_centrality\")\n",
        "    eigenvector_n10_3=pd.read_excel(reader,sheet_name=\"eigenvector_centrality\")\n",
        "    page_rank_n10_3=pd.read_excel(reader,sheet_name=\"page_rank\")\n",
        "    triangles_n10_3=pd.read_excel(reader,sheet_name=\"triangles\")\n",
        "    clustering_n10_3=pd.read_excel(reader,sheet_name=\"clustering\")\n",
        "    wiener_index_n10_3=pd.read_excel(reader,sheet_name=\"wiener_index\")\n",
        "    transitivity_n10_3=pd.read_excel(reader,sheet_name=\"transitivity\")\n",
        "    diameter_radius_center_periphery_density_n10_3=pd.read_excel(reader,sheet_name=\"d_r_c_p_d\")\n",
        "    Efficiency_loss_n10_3=pd.read_excel(reader,sheet_name=\"Efficiency_loss\")\n",
        "\n",
        "\n"
      ],
      "execution_count": 2,
      "outputs": []
    },
    {
      "cell_type": "code",
      "metadata": {
        "id": "89kbgPc5wT0B",
        "colab_type": "code",
        "colab": {}
      },
      "source": [
        "\n",
        "def com_data(n,closeness, betweenness, eigenvector,page_rank,triangles,clustering,wiener_index,transitivity,\n",
        "             diameter_radius_center_periphery_density,Efficiency_loss):\n",
        "    la=np.zeros((n,3))\n",
        "    for i in range(n):\n",
        "        la[i]=[wiener_index[0][i],transitivity[0][i],diameter_radius_center_periphery_density[4][i]]\n",
        "\n",
        "    Y = np.array(Efficiency_loss[0])\n",
        "    l=np.zeros((n,10,6))\n",
        "    for i in range(n):\n",
        "        for j in range(10):\n",
        "            l[i][j]=[closeness[j][i],betweenness[j][i],eigenvector[j][i],page_rank[j][i],triangles[j][i],clustering[j][i]]\n",
        "    print(l.shape)\n",
        "    print(Y.shape)\n",
        "    print(la.shape)\n",
        "    return l, la, Y\n",
        "\n",
        "\n",
        "\n",
        "\n"
      ],
      "execution_count": 3,
      "outputs": []
    },
    {
      "cell_type": "code",
      "metadata": {
        "id": "q5cDTv8mwbEf",
        "colab_type": "code",
        "colab": {}
      },
      "source": [
        "def DLSN(X,y):    #convolutional\n",
        "    #create model\n",
        "    X_train, X_test, y_train, y_test = train_test_split(X, y, test_size=0.13, random_state=42)\n",
        "    num_out_layer=int(max(y_train)+1)\n",
        "    X_train=np.expand_dims(X_train, axis=3)\n",
        "    X_test=np.expand_dims(X_test, axis=3)\n",
        "    num_filters = 8\n",
        "    filter_size = 3\n",
        "    pool_size = 2\n",
        "\n",
        "    model = Sequential([\n",
        "      Conv2D(num_filters, filter_size, input_shape=(10, 6, 1)),\n",
        "      MaxPooling2D(pool_size=pool_size),\n",
        "      Flatten(),\n",
        "      Dense(num_out_layer, activation='relu'),\n",
        "    ])\n",
        "    model.compile(optimizer='adam', loss='mean_squared_error',)\n",
        "    early_stopping_monitor = EarlyStopping(patience=3)\n",
        "    model.fit(X_train, to_categorical(y_train),\n",
        "              validation_data=(X_test, to_categorical(y_test,num_classes=num_out_layer)),\n",
        "              epochs=30, callbacks=[early_stopping_monitor],)\n",
        "    # Evaluate the model on the test data using `evaluate`\n",
        "    print(\"Evaluate on test data\")\n",
        "    results = model.evaluate(X_test, to_categorical(y_test,num_classes=num_out_layer), verbose=0)\n",
        "    print(\"test loss:\", results)\n",
        "    # Generate predictions (probabilities -- the output of the last layer)\n",
        "    # on new data using `predict`\n",
        "\n",
        "    print(\"Generate predictions for 3 samples\")\n",
        "    predictions = model.predict(X_test[:3])\n",
        "\n",
        "    print(predictions)\n",
        "    \n",
        "    return model\n",
        "\n",
        "\n",
        "\n"
      ],
      "execution_count": 4,
      "outputs": []
    },
    {
      "cell_type": "code",
      "metadata": {
        "id": "-wRGiZxpWXQA",
        "colab_type": "code",
        "colab": {
          "base_uri": "https://localhost:8080/",
          "height": 867
        },
        "outputId": "121f76ca-3345-4a1c-8ec2-b032ad4c3920"
      },
      "source": [
        "X, Xa, y=com_data(1000, closeness_n10_3, betweenness_n10_3, eigenvector_n10_3,page_rank_n10_3,triangles_n10_3,clustering_n10_3,\n",
        "\n",
        "        wiener_index_n10_3,transitivity_n10_3,diameter_radius_center_periphery_density_n10_3,Efficiency_loss_n10_3)\n",
        "\n",
        "\n",
        "model=DLSN(X,y)\n"
      ],
      "execution_count": 6,
      "outputs": [
        {
          "output_type": "stream",
          "text": [
            "(1000, 10, 6)\n",
            "(1000,)\n",
            "(1000, 3)\n",
            "Train on 870 samples, validate on 130 samples\n",
            "Epoch 1/30\n",
            "870/870 [==============================] - 0s 136us/step - loss: 4.2585 - val_loss: 1.1256\n",
            "Epoch 2/30\n",
            "870/870 [==============================] - 0s 64us/step - loss: 0.5038 - val_loss: 0.1498\n",
            "Epoch 3/30\n",
            "870/870 [==============================] - 0s 67us/step - loss: 0.0952 - val_loss: 0.0673\n",
            "Epoch 4/30\n",
            "870/870 [==============================] - 0s 64us/step - loss: 0.0655 - val_loss: 0.0612\n",
            "Epoch 5/30\n",
            "870/870 [==============================] - 0s 62us/step - loss: 0.0620 - val_loss: 0.0601\n",
            "Epoch 6/30\n",
            "870/870 [==============================] - 0s 67us/step - loss: 0.0608 - val_loss: 0.0597\n",
            "Epoch 7/30\n",
            "870/870 [==============================] - 0s 64us/step - loss: 0.0602 - val_loss: 0.0596\n",
            "Epoch 8/30\n",
            "870/870 [==============================] - 0s 75us/step - loss: 0.0598 - val_loss: 0.0594\n",
            "Epoch 9/30\n",
            "870/870 [==============================] - 0s 78us/step - loss: 0.0597 - val_loss: 0.0593\n",
            "Epoch 10/30\n",
            "870/870 [==============================] - 0s 73us/step - loss: 0.0594 - val_loss: 0.0593\n",
            "Epoch 11/30\n",
            "870/870 [==============================] - 0s 82us/step - loss: 0.0593 - val_loss: 0.0592\n",
            "Epoch 12/30\n",
            "870/870 [==============================] - 0s 70us/step - loss: 0.0592 - val_loss: 0.0592\n",
            "Epoch 13/30\n",
            "870/870 [==============================] - 0s 75us/step - loss: 0.0592 - val_loss: 0.0592\n",
            "Epoch 14/30\n",
            "870/870 [==============================] - 0s 86us/step - loss: 0.0591 - val_loss: 0.0592\n",
            "Epoch 15/30\n",
            "870/870 [==============================] - 0s 70us/step - loss: 0.0591 - val_loss: 0.0591\n",
            "Epoch 16/30\n",
            "870/870 [==============================] - 0s 72us/step - loss: 0.0590 - val_loss: 0.0591\n",
            "Epoch 17/30\n",
            "870/870 [==============================] - 0s 68us/step - loss: 0.0590 - val_loss: 0.0590\n",
            "Epoch 18/30\n",
            "870/870 [==============================] - 0s 78us/step - loss: 0.0590 - val_loss: 0.0591\n",
            "Epoch 19/30\n",
            "870/870 [==============================] - 0s 70us/step - loss: 0.0590 - val_loss: 0.0591\n",
            "Epoch 20/30\n",
            "870/870 [==============================] - 0s 65us/step - loss: 0.0589 - val_loss: 0.0591\n",
            "Evaluate on test data\n",
            "test loss: 0.059058050983227216\n",
            "Generate predictions for 3 samples\n",
            "[[0. 0. 0. 0. 0. 0. 0. 0. 0. 0. 0. 0. 0. 0. 0. 0. 0.]\n",
            " [0. 0. 0. 0. 0. 0. 0. 0. 0. 0. 0. 0. 0. 0. 0. 0. 0.]\n",
            " [0. 0. 0. 0. 0. 0. 0. 0. 0. 0. 0. 0. 0. 0. 0. 0. 0.]]\n"
          ],
          "name": "stdout"
        }
      ]
    },
    {
      "cell_type": "code",
      "metadata": {
        "id": "2KOLxM4X2db4",
        "colab_type": "code",
        "colab": {
          "base_uri": "https://localhost:8080/",
          "height": 730
        },
        "outputId": "b1453020-1279-42ba-a23a-8db1501d7a88"
      },
      "source": [
        "# Summary of neural network\n",
        "model.summary()\n",
        "\n",
        "# Output network visualization\n",
        "SVG(model_to_dot(model,show_layer_names=True, rankdir='TB',\n",
        "    expand_nested=False, dpi=70).create(prog='dot', format='svg'))"
      ],
      "execution_count": 7,
      "outputs": [
        {
          "output_type": "stream",
          "text": [
            "Model: \"sequential_2\"\n",
            "_________________________________________________________________\n",
            "Layer (type)                 Output Shape              Param #   \n",
            "=================================================================\n",
            "conv2d_2 (Conv2D)            (None, 8, 4, 8)           80        \n",
            "_________________________________________________________________\n",
            "max_pooling2d_2 (MaxPooling2 (None, 4, 2, 8)           0         \n",
            "_________________________________________________________________\n",
            "flatten_2 (Flatten)          (None, 64)                0         \n",
            "_________________________________________________________________\n",
            "dense_2 (Dense)              (None, 17)                1105      \n",
            "=================================================================\n",
            "Total params: 1,185\n",
            "Trainable params: 1,185\n",
            "Non-trainable params: 0\n",
            "_________________________________________________________________\n"
          ],
          "name": "stdout"
        },
        {
          "output_type": "execute_result",
          "data": {
            "text/plain": [
              "<IPython.core.display.SVG object>"
            ],
            "image/svg+xml": "<svg height=\"328pt\" viewBox=\"0.00 0.00 229.00 337.00\" width=\"223pt\" xmlns=\"http://www.w3.org/2000/svg\" xmlns:xlink=\"http://www.w3.org/1999/xlink\">\n<g class=\"graph\" id=\"graph0\" transform=\"scale(.9722 .9722) rotate(0) translate(4 333)\">\n<title>G</title>\n<polygon fill=\"#ffffff\" points=\"-4,4 -4,-333 225,-333 225,4 -4,4\" stroke=\"transparent\"/>\n<!-- 140057771827496 -->\n<g class=\"node\" id=\"node1\">\n<title>140057771827496</title>\n<polygon fill=\"none\" points=\"18.5,-292.5 18.5,-328.5 202.5,-328.5 202.5,-292.5 18.5,-292.5\" stroke=\"#000000\"/>\n<text fill=\"#000000\" font-family=\"Times,serif\" font-size=\"14.00\" text-anchor=\"middle\" x=\"110.5\" y=\"-306.8\">conv2d_2_input: InputLayer</text>\n</g>\n<!-- 140057785621696 -->\n<g class=\"node\" id=\"node2\">\n<title>140057785621696</title>\n<polygon fill=\"none\" points=\"44,-219.5 44,-255.5 177,-255.5 177,-219.5 44,-219.5\" stroke=\"#000000\"/>\n<text fill=\"#000000\" font-family=\"Times,serif\" font-size=\"14.00\" text-anchor=\"middle\" x=\"110.5\" y=\"-233.8\">conv2d_2: Conv2D</text>\n</g>\n<!-- 140057771827496&#45;&gt;140057785621696 -->\n<g class=\"edge\" id=\"edge1\">\n<title>140057771827496-&gt;140057785621696</title>\n<path d=\"M110.5,-292.4551C110.5,-284.3828 110.5,-274.6764 110.5,-265.6817\" fill=\"none\" stroke=\"#000000\"/>\n<polygon fill=\"#000000\" points=\"114.0001,-265.5903 110.5,-255.5904 107.0001,-265.5904 114.0001,-265.5903\" stroke=\"#000000\"/>\n</g>\n<!-- 140057785622032 -->\n<g class=\"node\" id=\"node3\">\n<title>140057785622032</title>\n<polygon fill=\"none\" points=\"0,-146.5 0,-182.5 221,-182.5 221,-146.5 0,-146.5\" stroke=\"#000000\"/>\n<text fill=\"#000000\" font-family=\"Times,serif\" font-size=\"14.00\" text-anchor=\"middle\" x=\"110.5\" y=\"-160.8\">max_pooling2d_2: MaxPooling2D</text>\n</g>\n<!-- 140057785621696&#45;&gt;140057785622032 -->\n<g class=\"edge\" id=\"edge2\">\n<title>140057785621696-&gt;140057785622032</title>\n<path d=\"M110.5,-219.4551C110.5,-211.3828 110.5,-201.6764 110.5,-192.6817\" fill=\"none\" stroke=\"#000000\"/>\n<polygon fill=\"#000000\" points=\"114.0001,-192.5903 110.5,-182.5904 107.0001,-192.5904 114.0001,-192.5903\" stroke=\"#000000\"/>\n</g>\n<!-- 140057785622200 -->\n<g class=\"node\" id=\"node4\">\n<title>140057785622200</title>\n<polygon fill=\"none\" points=\"54,-73.5 54,-109.5 167,-109.5 167,-73.5 54,-73.5\" stroke=\"#000000\"/>\n<text fill=\"#000000\" font-family=\"Times,serif\" font-size=\"14.00\" text-anchor=\"middle\" x=\"110.5\" y=\"-87.8\">flatten_2: Flatten</text>\n</g>\n<!-- 140057785622032&#45;&gt;140057785622200 -->\n<g class=\"edge\" id=\"edge3\">\n<title>140057785622032-&gt;140057785622200</title>\n<path d=\"M110.5,-146.4551C110.5,-138.3828 110.5,-128.6764 110.5,-119.6817\" fill=\"none\" stroke=\"#000000\"/>\n<polygon fill=\"#000000\" points=\"114.0001,-119.5903 110.5,-109.5904 107.0001,-119.5904 114.0001,-119.5903\" stroke=\"#000000\"/>\n</g>\n<!-- 140057785622312 -->\n<g class=\"node\" id=\"node5\">\n<title>140057785622312</title>\n<polygon fill=\"none\" points=\"57,-.5 57,-36.5 164,-36.5 164,-.5 57,-.5\" stroke=\"#000000\"/>\n<text fill=\"#000000\" font-family=\"Times,serif\" font-size=\"14.00\" text-anchor=\"middle\" x=\"110.5\" y=\"-14.8\">dense_2: Dense</text>\n</g>\n<!-- 140057785622200&#45;&gt;140057785622312 -->\n<g class=\"edge\" id=\"edge4\">\n<title>140057785622200-&gt;140057785622312</title>\n<path d=\"M110.5,-73.4551C110.5,-65.3828 110.5,-55.6764 110.5,-46.6817\" fill=\"none\" stroke=\"#000000\"/>\n<polygon fill=\"#000000\" points=\"114.0001,-46.5903 110.5,-36.5904 107.0001,-46.5904 114.0001,-46.5903\" stroke=\"#000000\"/>\n</g>\n</g>\n</svg>"
          },
          "metadata": {
            "tags": []
          },
          "execution_count": 7
        }
      ]
    },
    {
      "cell_type": "code",
      "metadata": {
        "id": "3_7fDMzy7sMj",
        "colab_type": "code",
        "colab": {}
      },
      "source": [
        "def DLSN_s(X,y):   # without convolutional\n",
        "    #create model\n",
        "    X_train, X_test, y_train, y_test = train_test_split(X, y, test_size=0.13, random_state=42)\n",
        "    num_out_layer=int(max(y_train)+1)\n",
        "    model = Sequential([\n",
        "      Dense(10, activation='relu',input_shape=(3, )),\n",
        "      Dense(10,activation='relu'),\n",
        "      Dense(num_out_layer),\n",
        "    ])\n",
        "    model.compile(optimizer='adam', loss='mean_squared_error',)\n",
        "    early_stopping_monitor = EarlyStopping(patience=3)\n",
        "    model.fit(X_train, to_categorical(y_train),\n",
        "              validation_data=(X_test, to_categorical(y_test,num_classes=num_out_layer)),\n",
        "              epochs=30, callbacks=[early_stopping_monitor],)\n",
        "    # Evaluate the model on the test data using `evaluate`\n",
        "    print(\"Evaluate on test data\")\n",
        "    results = model.evaluate(X_test, to_categorical(y_test,num_classes=num_out_layer), verbose=0)\n",
        "    print(\"test loss:\", results)\n",
        "    # Generate predictions (probabilities -- the output of the last layer)\n",
        "    # on new data using `predict`\n",
        "\n",
        "    print(\"Generate predictions for 3 samples\")\n",
        "    predictions = model.predict(X_test[:3])\n",
        "\n",
        "    print(predictions)\n",
        "    \n",
        "    return model\n",
        "\n",
        "\n"
      ],
      "execution_count": 8,
      "outputs": []
    },
    {
      "cell_type": "code",
      "metadata": {
        "id": "37K-iXx_WgIo",
        "colab_type": "code",
        "colab": {
          "base_uri": "https://localhost:8080/",
          "height": 1000
        },
        "outputId": "a0d93e53-0d28-497e-9975-e0542e0d444d"
      },
      "source": [
        "model_s=DLSN_s(Xa,y)\n",
        "# Summary of neural network\n",
        "model_s.summary()\n",
        "\n",
        "# Output network visualization\n",
        "SVG(model_to_dot(model_s,show_layer_names=True, rankdir='TB',\n",
        "    expand_nested=False, dpi=70).create(prog='dot', format='svg'))"
      ],
      "execution_count": 9,
      "outputs": [
        {
          "output_type": "stream",
          "text": [
            "Train on 870 samples, validate on 130 samples\n",
            "Epoch 1/30\n",
            "870/870 [==============================] - 0s 132us/step - loss: 20.3088 - val_loss: 10.9344\n",
            "Epoch 2/30\n",
            "870/870 [==============================] - 0s 44us/step - loss: 7.2839 - val_loss: 4.6171\n",
            "Epoch 3/30\n",
            "870/870 [==============================] - 0s 43us/step - loss: 3.4068 - val_loss: 2.4586\n",
            "Epoch 4/30\n",
            "870/870 [==============================] - 0s 43us/step - loss: 1.9275 - val_loss: 1.4942\n",
            "Epoch 5/30\n",
            "870/870 [==============================] - 0s 44us/step - loss: 1.2151 - val_loss: 0.9855\n",
            "Epoch 6/30\n",
            "870/870 [==============================] - 0s 53us/step - loss: 0.8219 - val_loss: 0.6886\n",
            "Epoch 7/30\n",
            "870/870 [==============================] - 0s 48us/step - loss: 0.5850 - val_loss: 0.5024\n",
            "Epoch 8/30\n",
            "870/870 [==============================] - 0s 45us/step - loss: 0.4329 - val_loss: 0.3799\n",
            "Epoch 9/30\n",
            "870/870 [==============================] - 0s 46us/step - loss: 0.3316 - val_loss: 0.2961\n",
            "Epoch 10/30\n",
            "870/870 [==============================] - 0s 50us/step - loss: 0.2614 - val_loss: 0.2368\n",
            "Epoch 11/30\n",
            "870/870 [==============================] - 0s 46us/step - loss: 0.2113 - val_loss: 0.1943\n",
            "Epoch 12/30\n",
            "870/870 [==============================] - 0s 46us/step - loss: 0.1749 - val_loss: 0.1630\n",
            "Epoch 13/30\n",
            "870/870 [==============================] - 0s 46us/step - loss: 0.1479 - val_loss: 0.1393\n",
            "Epoch 14/30\n",
            "870/870 [==============================] - 0s 47us/step - loss: 0.1274 - val_loss: 0.1214\n",
            "Epoch 15/30\n",
            "870/870 [==============================] - 0s 46us/step - loss: 0.1118 - val_loss: 0.1073\n",
            "Epoch 16/30\n",
            "870/870 [==============================] - 0s 48us/step - loss: 0.0997 - val_loss: 0.0965\n",
            "Epoch 17/30\n",
            "870/870 [==============================] - 0s 45us/step - loss: 0.0903 - val_loss: 0.0880\n",
            "Epoch 18/30\n",
            "870/870 [==============================] - 0s 44us/step - loss: 0.0829 - val_loss: 0.0810\n",
            "Epoch 19/30\n",
            "870/870 [==============================] - 0s 46us/step - loss: 0.0769 - val_loss: 0.0757\n",
            "Epoch 20/30\n",
            "870/870 [==============================] - 0s 45us/step - loss: 0.0722 - val_loss: 0.0713\n",
            "Epoch 21/30\n",
            "870/870 [==============================] - 0s 45us/step - loss: 0.0685 - val_loss: 0.0678\n",
            "Epoch 22/30\n",
            "870/870 [==============================] - 0s 55us/step - loss: 0.0656 - val_loss: 0.0652\n",
            "Epoch 23/30\n",
            "870/870 [==============================] - 0s 48us/step - loss: 0.0630 - val_loss: 0.0628\n",
            "Epoch 24/30\n",
            "870/870 [==============================] - 0s 45us/step - loss: 0.0611 - val_loss: 0.0609\n",
            "Epoch 25/30\n",
            "870/870 [==============================] - 0s 44us/step - loss: 0.0595 - val_loss: 0.0595\n",
            "Epoch 26/30\n",
            "870/870 [==============================] - 0s 45us/step - loss: 0.0582 - val_loss: 0.0582\n",
            "Epoch 27/30\n",
            "870/870 [==============================] - 0s 45us/step - loss: 0.0572 - val_loss: 0.0574\n",
            "Epoch 28/30\n",
            "870/870 [==============================] - 0s 51us/step - loss: 0.0564 - val_loss: 0.0566\n",
            "Epoch 29/30\n",
            "870/870 [==============================] - 0s 50us/step - loss: 0.0556 - val_loss: 0.0557\n",
            "Epoch 30/30\n",
            "870/870 [==============================] - 0s 62us/step - loss: 0.0552 - val_loss: 0.0553\n",
            "Evaluate on test data\n",
            "test loss: 0.05529925530919662\n",
            "Generate predictions for 3 samples\n",
            "[[-0.01859984  0.00546443  0.01046134 -0.02081054  0.01496035 -0.15980417\n",
            "   0.07453738  0.06114348  0.11212316  0.15604578  0.13942318  0.1589953\n",
            "   0.10673655  0.07492057  0.02810978  0.04395141  0.05000622]\n",
            " [-0.01137078 -0.00389875  0.00696942 -0.01346207  0.00944688 -0.14697236\n",
            "   0.08198139  0.06346214  0.11204229  0.14634784  0.14014567  0.1487628\n",
            "   0.09487119  0.07742406  0.02785626  0.04517159  0.04873769]\n",
            " [-0.01137078 -0.00389875  0.00696942 -0.01346207  0.00944688 -0.14697236\n",
            "   0.08198139  0.06346214  0.11204229  0.14634784  0.14014567  0.1487628\n",
            "   0.09487119  0.07742406  0.02785626  0.04517159  0.04873769]]\n",
            "Model: \"sequential_3\"\n",
            "_________________________________________________________________\n",
            "Layer (type)                 Output Shape              Param #   \n",
            "=================================================================\n",
            "dense_3 (Dense)              (None, 10)                40        \n",
            "_________________________________________________________________\n",
            "dense_4 (Dense)              (None, 10)                110       \n",
            "_________________________________________________________________\n",
            "dense_5 (Dense)              (None, 17)                187       \n",
            "=================================================================\n",
            "Total params: 337\n",
            "Trainable params: 337\n",
            "Non-trainable params: 0\n",
            "_________________________________________________________________\n"
          ],
          "name": "stdout"
        },
        {
          "output_type": "execute_result",
          "data": {
            "text/plain": [
              "<IPython.core.display.SVG object>"
            ],
            "image/svg+xml": "<svg height=\"257pt\" viewBox=\"0.00 0.00 181.00 264.00\" width=\"176pt\" xmlns=\"http://www.w3.org/2000/svg\" xmlns:xlink=\"http://www.w3.org/1999/xlink\">\n<g class=\"graph\" id=\"graph0\" transform=\"scale(.9722 .9722) rotate(0) translate(4 260)\">\n<title>G</title>\n<polygon fill=\"#ffffff\" points=\"-4,4 -4,-260 177,-260 177,4 -4,4\" stroke=\"transparent\"/>\n<!-- 140057768985600 -->\n<g class=\"node\" id=\"node1\">\n<title>140057768985600</title>\n<polygon fill=\"none\" points=\"0,-219.5 0,-255.5 173,-255.5 173,-219.5 0,-219.5\" stroke=\"#000000\"/>\n<text fill=\"#000000\" font-family=\"Times,serif\" font-size=\"14.00\" text-anchor=\"middle\" x=\"86.5\" y=\"-233.8\">dense_3_input: InputLayer</text>\n</g>\n<!-- 140057768987336 -->\n<g class=\"node\" id=\"node2\">\n<title>140057768987336</title>\n<polygon fill=\"none\" points=\"33,-146.5 33,-182.5 140,-182.5 140,-146.5 33,-146.5\" stroke=\"#000000\"/>\n<text fill=\"#000000\" font-family=\"Times,serif\" font-size=\"14.00\" text-anchor=\"middle\" x=\"86.5\" y=\"-160.8\">dense_3: Dense</text>\n</g>\n<!-- 140057768985600&#45;&gt;140057768987336 -->\n<g class=\"edge\" id=\"edge1\">\n<title>140057768985600-&gt;140057768987336</title>\n<path d=\"M86.5,-219.4551C86.5,-211.3828 86.5,-201.6764 86.5,-192.6817\" fill=\"none\" stroke=\"#000000\"/>\n<polygon fill=\"#000000\" points=\"90.0001,-192.5903 86.5,-182.5904 83.0001,-192.5904 90.0001,-192.5903\" stroke=\"#000000\"/>\n</g>\n<!-- 140057768985208 -->\n<g class=\"node\" id=\"node3\">\n<title>140057768985208</title>\n<polygon fill=\"none\" points=\"33,-73.5 33,-109.5 140,-109.5 140,-73.5 33,-73.5\" stroke=\"#000000\"/>\n<text fill=\"#000000\" font-family=\"Times,serif\" font-size=\"14.00\" text-anchor=\"middle\" x=\"86.5\" y=\"-87.8\">dense_4: Dense</text>\n</g>\n<!-- 140057768987336&#45;&gt;140057768985208 -->\n<g class=\"edge\" id=\"edge2\">\n<title>140057768987336-&gt;140057768985208</title>\n<path d=\"M86.5,-146.4551C86.5,-138.3828 86.5,-128.6764 86.5,-119.6817\" fill=\"none\" stroke=\"#000000\"/>\n<polygon fill=\"#000000\" points=\"90.0001,-119.5903 86.5,-109.5904 83.0001,-119.5904 90.0001,-119.5903\" stroke=\"#000000\"/>\n</g>\n<!-- 140057768984704 -->\n<g class=\"node\" id=\"node4\">\n<title>140057768984704</title>\n<polygon fill=\"none\" points=\"33,-.5 33,-36.5 140,-36.5 140,-.5 33,-.5\" stroke=\"#000000\"/>\n<text fill=\"#000000\" font-family=\"Times,serif\" font-size=\"14.00\" text-anchor=\"middle\" x=\"86.5\" y=\"-14.8\">dense_5: Dense</text>\n</g>\n<!-- 140057768985208&#45;&gt;140057768984704 -->\n<g class=\"edge\" id=\"edge3\">\n<title>140057768985208-&gt;140057768984704</title>\n<path d=\"M86.5,-73.4551C86.5,-65.3828 86.5,-55.6764 86.5,-46.6817\" fill=\"none\" stroke=\"#000000\"/>\n<polygon fill=\"#000000\" points=\"90.0001,-46.5903 86.5,-36.5904 83.0001,-46.5904 90.0001,-46.5903\" stroke=\"#000000\"/>\n</g>\n</g>\n</svg>"
          },
          "metadata": {
            "tags": []
          },
          "execution_count": 9
        }
      ]
    },
    {
      "cell_type": "code",
      "metadata": {
        "id": "ss56l70i308p",
        "colab_type": "code",
        "colab": {}
      },
      "source": [
        "def DLSN_mc(X,y):   # change numbers of filter in convolutional\n",
        "    #create model\n",
        "    X_train, X_test, y_train, y_test = train_test_split(X, y, test_size=0.13, random_state=42)\n",
        "    num_out_layer=int(max(y_train)+1)\n",
        "    X_train=np.expand_dims(X_train, axis=3)\n",
        "    X_test=np.expand_dims(X_test, axis=3)\n",
        "    num_filters = 32\n",
        "    filter_size = 4\n",
        "    pool_size = 2\n",
        "\n",
        "    model = Sequential([\n",
        "      Conv2D(num_filters, filter_size, input_shape=(10, 6, 1)),\n",
        "      MaxPooling2D(pool_size=pool_size),\n",
        "      Flatten(),\n",
        "      Dense(num_out_layer, activation='relu'),\n",
        "    ])\n",
        "    model.compile(optimizer='adam', loss='mean_squared_error',)\n",
        "    early_stopping_monitor = EarlyStopping(patience=3)\n",
        "    model.fit(X_train, to_categorical(y_train), \n",
        "              validation_data=(X_test, to_categorical(y_test,num_classes=num_out_layer)),\n",
        "              epochs=30, callbacks=[early_stopping_monitor],)\n",
        "    # Evaluate the model on the test data using `evaluate`\n",
        "    print(\"Evaluate on test data\")\n",
        "    results = model.evaluate(X_test, to_categorical(y_test,num_classes=num_out_layer), verbose=0)\n",
        "    print(\"test loss:\", results)\n",
        "    # Generate predictions (probabilities -- the output of the last layer)\n",
        "    # on new data using `predict`\n",
        "\n",
        "    print(\"Generate predictions for 3 samples\")\n",
        "    predictions = model.predict(X_test[:7])\n",
        "\n",
        "    print(predictions)\n",
        "    \n",
        "    return model\n",
        "\n",
        "\n"
      ],
      "execution_count": 10,
      "outputs": []
    },
    {
      "cell_type": "code",
      "metadata": {
        "id": "ywNH-U2VtnWY",
        "colab_type": "code",
        "colab": {
          "base_uri": "https://localhost:8080/",
          "height": 714
        },
        "outputId": "81e98bc6-9f5e-48d0-8419-ef79bda8b788"
      },
      "source": [
        "model_mc=DLSN_mc(X,y)\n",
        "\n"
      ],
      "execution_count": 12,
      "outputs": [
        {
          "output_type": "stream",
          "text": [
            "Train on 870 samples, validate on 130 samples\n",
            "Epoch 1/30\n",
            "870/870 [==============================] - 0s 142us/step - loss: 0.8170 - val_loss: 0.0597\n",
            "Epoch 2/30\n",
            "870/870 [==============================] - 0s 84us/step - loss: 0.0591 - val_loss: 0.0582\n",
            "Epoch 3/30\n",
            "870/870 [==============================] - 0s 72us/step - loss: 0.0587 - val_loss: 0.0582\n",
            "Epoch 4/30\n",
            "870/870 [==============================] - 0s 68us/step - loss: 0.0586 - val_loss: 0.0583\n",
            "Epoch 5/30\n",
            "870/870 [==============================] - 0s 65us/step - loss: 0.0586 - val_loss: 0.0581\n",
            "Epoch 6/30\n",
            "870/870 [==============================] - 0s 75us/step - loss: 0.0586 - val_loss: 0.0583\n",
            "Epoch 7/30\n",
            "870/870 [==============================] - 0s 64us/step - loss: 0.0586 - val_loss: 0.0582\n",
            "Epoch 8/30\n",
            "870/870 [==============================] - 0s 62us/step - loss: 0.0586 - val_loss: 0.0585\n",
            "Evaluate on test data\n",
            "test loss: 0.05846380734672913\n",
            "Generate predictions for 3 samples\n",
            "[[0.         0.         0.         0.         0.         0.\n",
            "  0.         0.         0.         0.         0.         0.\n",
            "  0.         0.         0.         0.         0.        ]\n",
            " [0.         0.         0.         0.         0.         0.\n",
            "  0.         0.         0.         0.         0.         0.\n",
            "  0.         0.         0.         0.         0.        ]\n",
            " [0.         0.         0.         0.         0.         0.\n",
            "  0.         0.         0.         0.         0.         0.\n",
            "  0.         0.         0.         0.         0.        ]\n",
            " [0.         0.         0.         0.         0.         0.\n",
            "  0.         0.         0.         0.         0.         0.14834327\n",
            "  0.         0.         0.         0.         0.        ]\n",
            " [0.         0.         0.         0.         0.         0.\n",
            "  0.         0.         0.         0.         0.03739858 0.\n",
            "  0.         0.         0.         0.         0.        ]\n",
            " [0.         0.         0.         0.         0.         0.\n",
            "  0.         0.         0.         0.         0.         0.\n",
            "  0.         0.         0.         0.         0.        ]\n",
            " [0.         0.         0.         0.         0.         0.\n",
            "  0.         0.         0.         0.         0.         0.\n",
            "  0.         0.         0.         0.         0.        ]]\n"
          ],
          "name": "stdout"
        }
      ]
    },
    {
      "cell_type": "code",
      "metadata": {
        "id": "5Ox03GfkWtv_",
        "colab_type": "code",
        "colab": {
          "base_uri": "https://localhost:8080/",
          "height": 730
        },
        "outputId": "ab77341a-f7c1-4856-ce49-08d64e198e8d"
      },
      "source": [
        "\n",
        "# Summary of neural network\n",
        "model_mc.summary()\n",
        "\n",
        "# Output network visualization\n",
        "SVG(model_to_dot(model_mc,show_layer_names=True, rankdir='TB',\n",
        "    expand_nested=False, dpi=70).create(prog='dot', format='svg'))"
      ],
      "execution_count": 13,
      "outputs": [
        {
          "output_type": "stream",
          "text": [
            "Model: \"sequential_5\"\n",
            "_________________________________________________________________\n",
            "Layer (type)                 Output Shape              Param #   \n",
            "=================================================================\n",
            "conv2d_4 (Conv2D)            (None, 7, 3, 32)          544       \n",
            "_________________________________________________________________\n",
            "max_pooling2d_4 (MaxPooling2 (None, 3, 1, 32)          0         \n",
            "_________________________________________________________________\n",
            "flatten_4 (Flatten)          (None, 96)                0         \n",
            "_________________________________________________________________\n",
            "dense_7 (Dense)              (None, 17)                1649      \n",
            "=================================================================\n",
            "Total params: 2,193\n",
            "Trainable params: 2,193\n",
            "Non-trainable params: 0\n",
            "_________________________________________________________________\n"
          ],
          "name": "stdout"
        },
        {
          "output_type": "execute_result",
          "data": {
            "text/plain": [
              "<IPython.core.display.SVG object>"
            ],
            "image/svg+xml": "<svg height=\"328pt\" viewBox=\"0.00 0.00 229.00 337.00\" width=\"223pt\" xmlns=\"http://www.w3.org/2000/svg\" xmlns:xlink=\"http://www.w3.org/1999/xlink\">\n<g class=\"graph\" id=\"graph0\" transform=\"scale(.9722 .9722) rotate(0) translate(4 333)\">\n<title>G</title>\n<polygon fill=\"#ffffff\" points=\"-4,4 -4,-333 225,-333 225,4 -4,4\" stroke=\"transparent\"/>\n<!-- 140057766331448 -->\n<g class=\"node\" id=\"node1\">\n<title>140057766331448</title>\n<polygon fill=\"none\" points=\"18.5,-292.5 18.5,-328.5 202.5,-328.5 202.5,-292.5 18.5,-292.5\" stroke=\"#000000\"/>\n<text fill=\"#000000\" font-family=\"Times,serif\" font-size=\"14.00\" text-anchor=\"middle\" x=\"110.5\" y=\"-306.8\">conv2d_4_input: InputLayer</text>\n</g>\n<!-- 140057766813536 -->\n<g class=\"node\" id=\"node2\">\n<title>140057766813536</title>\n<polygon fill=\"none\" points=\"44,-219.5 44,-255.5 177,-255.5 177,-219.5 44,-219.5\" stroke=\"#000000\"/>\n<text fill=\"#000000\" font-family=\"Times,serif\" font-size=\"14.00\" text-anchor=\"middle\" x=\"110.5\" y=\"-233.8\">conv2d_4: Conv2D</text>\n</g>\n<!-- 140057766331448&#45;&gt;140057766813536 -->\n<g class=\"edge\" id=\"edge1\">\n<title>140057766331448-&gt;140057766813536</title>\n<path d=\"M110.5,-292.4551C110.5,-284.3828 110.5,-274.6764 110.5,-265.6817\" fill=\"none\" stroke=\"#000000\"/>\n<polygon fill=\"#000000\" points=\"114.0001,-265.5903 110.5,-255.5904 107.0001,-265.5904 114.0001,-265.5903\" stroke=\"#000000\"/>\n</g>\n<!-- 140057766330664 -->\n<g class=\"node\" id=\"node3\">\n<title>140057766330664</title>\n<polygon fill=\"none\" points=\"0,-146.5 0,-182.5 221,-182.5 221,-146.5 0,-146.5\" stroke=\"#000000\"/>\n<text fill=\"#000000\" font-family=\"Times,serif\" font-size=\"14.00\" text-anchor=\"middle\" x=\"110.5\" y=\"-160.8\">max_pooling2d_4: MaxPooling2D</text>\n</g>\n<!-- 140057766813536&#45;&gt;140057766330664 -->\n<g class=\"edge\" id=\"edge2\">\n<title>140057766813536-&gt;140057766330664</title>\n<path d=\"M110.5,-219.4551C110.5,-211.3828 110.5,-201.6764 110.5,-192.6817\" fill=\"none\" stroke=\"#000000\"/>\n<polygon fill=\"#000000\" points=\"114.0001,-192.5903 110.5,-182.5904 107.0001,-192.5904 114.0001,-192.5903\" stroke=\"#000000\"/>\n</g>\n<!-- 140057766330832 -->\n<g class=\"node\" id=\"node4\">\n<title>140057766330832</title>\n<polygon fill=\"none\" points=\"54,-73.5 54,-109.5 167,-109.5 167,-73.5 54,-73.5\" stroke=\"#000000\"/>\n<text fill=\"#000000\" font-family=\"Times,serif\" font-size=\"14.00\" text-anchor=\"middle\" x=\"110.5\" y=\"-87.8\">flatten_4: Flatten</text>\n</g>\n<!-- 140057766330664&#45;&gt;140057766330832 -->\n<g class=\"edge\" id=\"edge3\">\n<title>140057766330664-&gt;140057766330832</title>\n<path d=\"M110.5,-146.4551C110.5,-138.3828 110.5,-128.6764 110.5,-119.6817\" fill=\"none\" stroke=\"#000000\"/>\n<polygon fill=\"#000000\" points=\"114.0001,-119.5903 110.5,-109.5904 107.0001,-119.5904 114.0001,-119.5903\" stroke=\"#000000\"/>\n</g>\n<!-- 140057766330944 -->\n<g class=\"node\" id=\"node5\">\n<title>140057766330944</title>\n<polygon fill=\"none\" points=\"57,-.5 57,-36.5 164,-36.5 164,-.5 57,-.5\" stroke=\"#000000\"/>\n<text fill=\"#000000\" font-family=\"Times,serif\" font-size=\"14.00\" text-anchor=\"middle\" x=\"110.5\" y=\"-14.8\">dense_7: Dense</text>\n</g>\n<!-- 140057766330832&#45;&gt;140057766330944 -->\n<g class=\"edge\" id=\"edge4\">\n<title>140057766330832-&gt;140057766330944</title>\n<path d=\"M110.5,-73.4551C110.5,-65.3828 110.5,-55.6764 110.5,-46.6817\" fill=\"none\" stroke=\"#000000\"/>\n<polygon fill=\"#000000\" points=\"114.0001,-46.5903 110.5,-36.5904 107.0001,-46.5904 114.0001,-46.5903\" stroke=\"#000000\"/>\n</g>\n</g>\n</svg>"
          },
          "metadata": {
            "tags": []
          },
          "execution_count": 13
        }
      ]
    },
    {
      "cell_type": "code",
      "metadata": {
        "id": "8ZigGabBT-FT",
        "colab_type": "code",
        "colab": {}
      },
      "source": [
        "with pd.ExcelFile('/content/drive/My Drive/output_values/output_n10_3_combined.xlsx') as reader:\n",
        "    \n",
        "    closeness_n10_3_c=pd.read_excel(reader,sheet_name=\"closeness_centrality\")\n",
        "    betweenness_n10_3_c=pd.read_excel(reader,sheet_name=\"betweenness_centrality\")\n",
        "    eigenvector_n10_3_c=pd.read_excel(reader,sheet_name=\"eigenvector_centrality\")\n",
        "    page_rank_n10_3_c=pd.read_excel(reader,sheet_name=\"page_rank\")\n",
        "    triangles_n10_3_c=pd.read_excel(reader,sheet_name=\"triangles\")\n",
        "    clustering_n10_3_c=pd.read_excel(reader,sheet_name=\"clustering\")\n",
        "    wiener_index_n10_3_c=pd.read_excel(reader,sheet_name=\"wiener_index\")\n",
        "    transitivity_n10_3_c=pd.read_excel(reader,sheet_name=\"transitivity\")\n",
        "    eccentricity_n10_3_c=pd.read_excel(reader,sheet_name=\"eccentricity\")\n",
        "\n",
        "    diameter_radius_center_periphery_density_n10_3_c=pd.read_excel(reader,sheet_name=\"d_r_c_p_d\")\n",
        "    Efficiency_loss_n10_3_c=pd.read_excel(reader,sheet_name=\"Efficiency_loss\")\n"
      ],
      "execution_count": 14,
      "outputs": []
    },
    {
      "cell_type": "code",
      "metadata": {
        "id": "URkPjKz5UGvi",
        "colab_type": "code",
        "colab": {
          "base_uri": "https://localhost:8080/",
          "height": 68
        },
        "outputId": "5f2f3cc2-7fc8-43b0-8454-11863fb563b5"
      },
      "source": [
        "X_c, Xa_c, y_c=com_data(10560, closeness_n10_3_c, betweenness_n10_3_c, eigenvector_n10_3_c,\n",
        "                        page_rank_n10_3_c,triangles_n10_3_c,clustering_n10_3_c,\n",
        "                        wiener_index_n10_3_c,transitivity_n10_3_c,\n",
        "                        diameter_radius_center_periphery_density_n10_3_c,\n",
        "                        Efficiency_loss_n10_3_c)\n",
        "\n",
        "\n",
        "\n"
      ],
      "execution_count": 15,
      "outputs": [
        {
          "output_type": "stream",
          "text": [
            "(10560, 10, 6)\n",
            "(10560,)\n",
            "(10560, 3)\n"
          ],
          "name": "stdout"
        }
      ]
    },
    {
      "cell_type": "code",
      "metadata": {
        "id": "s7hPxKXAfY31",
        "colab_type": "code",
        "colab": {
          "base_uri": "https://localhost:8080/",
          "height": 1000
        },
        "outputId": "db2683c4-2080-4d82-aaf5-f0f97707cc96"
      },
      "source": [
        "X_c_train, X_c_test, y_c_train, y_c_test = train_test_split(X_c, y_c, test_size=0.23, random_state=42)\n",
        "model_c=DLSN(X_c,y_c)"
      ],
      "execution_count": 16,
      "outputs": [
        {
          "output_type": "stream",
          "text": [
            "Train on 9187 samples, validate on 1373 samples\n",
            "Epoch 1/30\n",
            "9187/9187 [==============================] - 1s 75us/step - loss: 0.0923 - val_loss: 0.0069\n",
            "Epoch 2/30\n",
            "9187/9187 [==============================] - 1s 68us/step - loss: 0.0069 - val_loss: 0.0069\n",
            "Epoch 3/30\n",
            "9187/9187 [==============================] - 1s 69us/step - loss: 0.0069 - val_loss: 0.0069\n",
            "Epoch 4/30\n",
            "9187/9187 [==============================] - 1s 65us/step - loss: 0.0069 - val_loss: 0.0069\n",
            "Epoch 5/30\n",
            "9187/9187 [==============================] - 1s 63us/step - loss: 0.0069 - val_loss: 0.0069\n",
            "Epoch 6/30\n",
            "9187/9187 [==============================] - 1s 63us/step - loss: 0.0069 - val_loss: 0.0069\n",
            "Epoch 7/30\n",
            "9187/9187 [==============================] - 1s 65us/step - loss: 0.0069 - val_loss: 0.0069\n",
            "Epoch 8/30\n",
            "9187/9187 [==============================] - 1s 63us/step - loss: 0.0069 - val_loss: 0.0069\n",
            "Epoch 9/30\n",
            "9187/9187 [==============================] - 1s 65us/step - loss: 0.0069 - val_loss: 0.0069\n",
            "Epoch 10/30\n",
            "9187/9187 [==============================] - 1s 63us/step - loss: 0.0068 - val_loss: 0.0069\n",
            "Epoch 11/30\n",
            "9187/9187 [==============================] - 1s 62us/step - loss: 0.0068 - val_loss: 0.0069\n",
            "Epoch 12/30\n",
            "9187/9187 [==============================] - 1s 68us/step - loss: 0.0068 - val_loss: 0.0069\n",
            "Epoch 13/30\n",
            "9187/9187 [==============================] - 1s 64us/step - loss: 0.0068 - val_loss: 0.0069\n",
            "Epoch 14/30\n",
            "9187/9187 [==============================] - 1s 66us/step - loss: 0.0068 - val_loss: 0.0069\n",
            "Epoch 15/30\n",
            "9187/9187 [==============================] - 1s 63us/step - loss: 0.0068 - val_loss: 0.0068\n",
            "Epoch 16/30\n",
            "9187/9187 [==============================] - 1s 64us/step - loss: 0.0068 - val_loss: 0.0069\n",
            "Epoch 17/30\n",
            "9187/9187 [==============================] - 1s 64us/step - loss: 0.0068 - val_loss: 0.0069\n",
            "Epoch 18/30\n",
            "9187/9187 [==============================] - 1s 68us/step - loss: 0.0068 - val_loss: 0.0068\n",
            "Epoch 19/30\n",
            "9187/9187 [==============================] - 1s 64us/step - loss: 0.0068 - val_loss: 0.0068\n",
            "Epoch 20/30\n",
            "9187/9187 [==============================] - 1s 62us/step - loss: 0.0068 - val_loss: 0.0068\n",
            "Epoch 21/30\n",
            "9187/9187 [==============================] - 1s 65us/step - loss: 0.0068 - val_loss: 0.0068\n",
            "Epoch 22/30\n",
            "9187/9187 [==============================] - 1s 65us/step - loss: 0.0068 - val_loss: 0.0068\n",
            "Evaluate on test data\n",
            "test loss: 0.006849822536034907\n",
            "Generate predictions for 3 samples\n",
            "[[0. 0. 0. 0. 0. 0. 0. 0. 0. 0. 0. 0. 0. 0. 0. 0. 0. 0. 0. 0. 0. 0. 0. 0.\n",
            "  0. 0. 0. 0. 0. 0. 0. 0. 0. 0. 0. 0. 0. 0. 0. 0. 0. 0. 0. 0. 0. 0. 0. 0.\n",
            "  0. 0. 0. 0. 0. 0. 0. 0. 0. 0. 0. 0. 0. 0. 0. 0. 0. 0. 0. 0. 0. 0. 0. 0.\n",
            "  0. 0. 0. 0. 0. 0. 0. 0. 0. 0. 0. 0. 0. 0. 0. 0. 0. 0. 0. 0. 0. 0. 0. 0.\n",
            "  0. 0. 0. 0. 0. 0. 0. 0. 0. 0. 0. 0. 0. 0. 0. 0. 0. 0. 0. 0. 0. 0. 0. 0.\n",
            "  0. 0. 0. 0. 0. 0. 0. 0. 0. 0. 0. 0. 0. 0. 0. 0. 0. 0. 0. 0. 0. 0. 0. 0.\n",
            "  0. 0.]\n",
            " [0. 0. 0. 0. 0. 0. 0. 0. 0. 0. 0. 0. 0. 0. 0. 0. 0. 0. 0. 0. 0. 0. 0. 0.\n",
            "  0. 0. 0. 0. 0. 0. 0. 0. 0. 0. 0. 0. 0. 0. 0. 0. 0. 0. 0. 0. 0. 0. 0. 0.\n",
            "  0. 0. 0. 0. 0. 0. 0. 0. 0. 0. 0. 0. 0. 0. 0. 0. 0. 0. 0. 0. 0. 0. 0. 0.\n",
            "  0. 0. 0. 0. 0. 0. 0. 0. 0. 0. 0. 0. 0. 0. 0. 0. 0. 0. 0. 0. 0. 0. 0. 0.\n",
            "  0. 0. 0. 0. 0. 0. 0. 0. 0. 0. 0. 0. 0. 0. 0. 0. 0. 0. 0. 0. 0. 0. 0. 0.\n",
            "  0. 0. 0. 0. 0. 0. 0. 0. 0. 0. 0. 0. 0. 0. 0. 0. 0. 0. 0. 0. 0. 0. 0. 0.\n",
            "  0. 0.]\n",
            " [0. 0. 0. 0. 0. 0. 0. 0. 0. 0. 0. 0. 0. 0. 0. 0. 0. 0. 0. 0. 0. 0. 0. 0.\n",
            "  0. 0. 0. 0. 0. 0. 0. 0. 0. 0. 0. 0. 0. 0. 0. 0. 0. 0. 0. 0. 0. 0. 0. 0.\n",
            "  0. 0. 0. 0. 0. 0. 0. 0. 0. 0. 0. 0. 0. 0. 0. 0. 0. 0. 0. 0. 0. 0. 0. 0.\n",
            "  0. 0. 0. 0. 0. 0. 0. 0. 0. 0. 0. 0. 0. 0. 0. 0. 0. 0. 0. 0. 0. 0. 0. 0.\n",
            "  0. 0. 0. 0. 0. 0. 0. 0. 0. 0. 0. 0. 0. 0. 0. 0. 0. 0. 0. 0. 0. 0. 0. 0.\n",
            "  0. 0. 0. 0. 0. 0. 0. 0. 0. 0. 0. 0. 0. 0. 0. 0. 0. 0. 0. 0. 0. 0. 0. 0.\n",
            "  0. 0.]]\n"
          ],
          "name": "stdout"
        }
      ]
    },
    {
      "cell_type": "code",
      "metadata": {
        "id": "NNo0rJBNe2P9",
        "colab_type": "code",
        "colab": {
          "base_uri": "https://localhost:8080/",
          "height": 730
        },
        "outputId": "1c344588-57e5-44a6-c752-949fa34d4de1"
      },
      "source": [
        "# Summary of neural network\n",
        "model_mc.summary()\n",
        "# Output network visualization\n",
        "SVG(model_to_dot(model_c,show_layer_names=True, rankdir='TB',\n",
        "    expand_nested=False, dpi=70).create(prog='dot', format='svg'))"
      ],
      "execution_count": 17,
      "outputs": [
        {
          "output_type": "stream",
          "text": [
            "Model: \"sequential_5\"\n",
            "_________________________________________________________________\n",
            "Layer (type)                 Output Shape              Param #   \n",
            "=================================================================\n",
            "conv2d_4 (Conv2D)            (None, 7, 3, 32)          544       \n",
            "_________________________________________________________________\n",
            "max_pooling2d_4 (MaxPooling2 (None, 3, 1, 32)          0         \n",
            "_________________________________________________________________\n",
            "flatten_4 (Flatten)          (None, 96)                0         \n",
            "_________________________________________________________________\n",
            "dense_7 (Dense)              (None, 17)                1649      \n",
            "=================================================================\n",
            "Total params: 2,193\n",
            "Trainable params: 2,193\n",
            "Non-trainable params: 0\n",
            "_________________________________________________________________\n"
          ],
          "name": "stdout"
        },
        {
          "output_type": "execute_result",
          "data": {
            "text/plain": [
              "<IPython.core.display.SVG object>"
            ],
            "image/svg+xml": "<svg height=\"328pt\" viewBox=\"0.00 0.00 229.00 337.00\" width=\"223pt\" xmlns=\"http://www.w3.org/2000/svg\" xmlns:xlink=\"http://www.w3.org/1999/xlink\">\n<g class=\"graph\" id=\"graph0\" transform=\"scale(.9722 .9722) rotate(0) translate(4 333)\">\n<title>G</title>\n<polygon fill=\"#ffffff\" points=\"-4,4 -4,-333 225,-333 225,4 -4,4\" stroke=\"transparent\"/>\n<!-- 140057769520544 -->\n<g class=\"node\" id=\"node1\">\n<title>140057769520544</title>\n<polygon fill=\"none\" points=\"18.5,-292.5 18.5,-328.5 202.5,-328.5 202.5,-292.5 18.5,-292.5\" stroke=\"#000000\"/>\n<text fill=\"#000000\" font-family=\"Times,serif\" font-size=\"14.00\" text-anchor=\"middle\" x=\"110.5\" y=\"-306.8\">conv2d_5_input: InputLayer</text>\n</g>\n<!-- 140057769301160 -->\n<g class=\"node\" id=\"node2\">\n<title>140057769301160</title>\n<polygon fill=\"none\" points=\"44,-219.5 44,-255.5 177,-255.5 177,-219.5 44,-219.5\" stroke=\"#000000\"/>\n<text fill=\"#000000\" font-family=\"Times,serif\" font-size=\"14.00\" text-anchor=\"middle\" x=\"110.5\" y=\"-233.8\">conv2d_5: Conv2D</text>\n</g>\n<!-- 140057769520544&#45;&gt;140057769301160 -->\n<g class=\"edge\" id=\"edge1\">\n<title>140057769520544-&gt;140057769301160</title>\n<path d=\"M110.5,-292.4551C110.5,-284.3828 110.5,-274.6764 110.5,-265.6817\" fill=\"none\" stroke=\"#000000\"/>\n<polygon fill=\"#000000\" points=\"114.0001,-265.5903 110.5,-255.5904 107.0001,-265.5904 114.0001,-265.5903\" stroke=\"#000000\"/>\n</g>\n<!-- 140057769517632 -->\n<g class=\"node\" id=\"node3\">\n<title>140057769517632</title>\n<polygon fill=\"none\" points=\"0,-146.5 0,-182.5 221,-182.5 221,-146.5 0,-146.5\" stroke=\"#000000\"/>\n<text fill=\"#000000\" font-family=\"Times,serif\" font-size=\"14.00\" text-anchor=\"middle\" x=\"110.5\" y=\"-160.8\">max_pooling2d_5: MaxPooling2D</text>\n</g>\n<!-- 140057769301160&#45;&gt;140057769517632 -->\n<g class=\"edge\" id=\"edge2\">\n<title>140057769301160-&gt;140057769517632</title>\n<path d=\"M110.5,-219.4551C110.5,-211.3828 110.5,-201.6764 110.5,-192.6817\" fill=\"none\" stroke=\"#000000\"/>\n<polygon fill=\"#000000\" points=\"114.0001,-192.5903 110.5,-182.5904 107.0001,-192.5904 114.0001,-192.5903\" stroke=\"#000000\"/>\n</g>\n<!-- 140057769517352 -->\n<g class=\"node\" id=\"node4\">\n<title>140057769517352</title>\n<polygon fill=\"none\" points=\"54,-73.5 54,-109.5 167,-109.5 167,-73.5 54,-73.5\" stroke=\"#000000\"/>\n<text fill=\"#000000\" font-family=\"Times,serif\" font-size=\"14.00\" text-anchor=\"middle\" x=\"110.5\" y=\"-87.8\">flatten_5: Flatten</text>\n</g>\n<!-- 140057769517632&#45;&gt;140057769517352 -->\n<g class=\"edge\" id=\"edge3\">\n<title>140057769517632-&gt;140057769517352</title>\n<path d=\"M110.5,-146.4551C110.5,-138.3828 110.5,-128.6764 110.5,-119.6817\" fill=\"none\" stroke=\"#000000\"/>\n<polygon fill=\"#000000\" points=\"114.0001,-119.5903 110.5,-109.5904 107.0001,-119.5904 114.0001,-119.5903\" stroke=\"#000000\"/>\n</g>\n<!-- 140057769521048 -->\n<g class=\"node\" id=\"node5\">\n<title>140057769521048</title>\n<polygon fill=\"none\" points=\"57,-.5 57,-36.5 164,-36.5 164,-.5 57,-.5\" stroke=\"#000000\"/>\n<text fill=\"#000000\" font-family=\"Times,serif\" font-size=\"14.00\" text-anchor=\"middle\" x=\"110.5\" y=\"-14.8\">dense_8: Dense</text>\n</g>\n<!-- 140057769517352&#45;&gt;140057769521048 -->\n<g class=\"edge\" id=\"edge4\">\n<title>140057769517352-&gt;140057769521048</title>\n<path d=\"M110.5,-73.4551C110.5,-65.3828 110.5,-55.6764 110.5,-46.6817\" fill=\"none\" stroke=\"#000000\"/>\n<polygon fill=\"#000000\" points=\"114.0001,-46.5903 110.5,-36.5904 107.0001,-46.5904 114.0001,-46.5903\" stroke=\"#000000\"/>\n</g>\n</g>\n</svg>"
          },
          "metadata": {
            "tags": []
          },
          "execution_count": 17
        }
      ]
    },
    {
      "cell_type": "code",
      "metadata": {
        "id": "rT7ADV1AuCFl",
        "colab_type": "code",
        "colab": {
          "base_uri": "https://localhost:8080/",
          "height": 1000
        },
        "outputId": "0283c499-6cd1-4ab3-c9d6-9ba03bd87b14"
      },
      "source": [
        "model_s_c=DLSN_s(Xa_c,y_c)"
      ],
      "execution_count": 18,
      "outputs": [
        {
          "output_type": "stream",
          "text": [
            "Train on 9187 samples, validate on 1373 samples\n",
            "Epoch 1/30\n",
            "9187/9187 [==============================] - 0s 51us/step - loss: 1.1747 - val_loss: 0.0071\n",
            "Epoch 2/30\n",
            "9187/9187 [==============================] - 0s 43us/step - loss: 0.0068 - val_loss: 0.0068\n",
            "Epoch 3/30\n",
            "9187/9187 [==============================] - 0s 41us/step - loss: 0.0068 - val_loss: 0.0068\n",
            "Epoch 4/30\n",
            "9187/9187 [==============================] - 0s 43us/step - loss: 0.0068 - val_loss: 0.0068\n",
            "Epoch 5/30\n",
            "9187/9187 [==============================] - 0s 44us/step - loss: 0.0068 - val_loss: 0.0068\n",
            "Epoch 6/30\n",
            "9187/9187 [==============================] - 0s 41us/step - loss: 0.0068 - val_loss: 0.0068\n",
            "Epoch 7/30\n",
            "9187/9187 [==============================] - 0s 42us/step - loss: 0.0068 - val_loss: 0.0069\n",
            "Epoch 8/30\n",
            "9187/9187 [==============================] - 0s 42us/step - loss: 0.0068 - val_loss: 0.0068\n",
            "Epoch 9/30\n",
            "9187/9187 [==============================] - 0s 44us/step - loss: 0.0068 - val_loss: 0.0068\n",
            "Epoch 10/30\n",
            "9187/9187 [==============================] - 0s 43us/step - loss: 0.0068 - val_loss: 0.0069\n",
            "Epoch 11/30\n",
            "9187/9187 [==============================] - 0s 41us/step - loss: 0.0068 - val_loss: 0.0069\n",
            "Epoch 12/30\n",
            "9187/9187 [==============================] - 0s 41us/step - loss: 0.0068 - val_loss: 0.0068\n",
            "Evaluate on test data\n",
            "test loss: 0.006808436248120455\n",
            "Generate predictions for 3 samples\n",
            "[[ 1.49685219e-02 -3.67591977e-02  7.20990449e-02  2.80662365e-02\n",
            "  -3.15527469e-02 -1.57691911e-03  3.82369123e-02  2.28605345e-02\n",
            "   1.20352611e-01  8.00879300e-02  1.12000838e-01  5.69736958e-02\n",
            "   5.78898899e-02  1.42297670e-02  1.95449032e-02 -6.08786568e-03\n",
            "   1.55710503e-02 -7.80458376e-03 -2.79161967e-02  1.28855482e-02\n",
            "  -2.98976749e-02 -4.13673650e-03 -1.16118491e-02  1.76282935e-02\n",
            "  -8.29900801e-03  2.43800711e-02 -2.27088965e-02 -1.67374387e-02\n",
            "  -2.35128775e-03 -3.93776782e-03 -3.42094898e-03 -1.23274047e-02\n",
            "  -2.84144282e-03 -2.39917152e-02 -3.92081067e-02  3.85425240e-03\n",
            "  -5.97847067e-03 -6.98969048e-03  2.37006247e-02 -6.41914643e-03\n",
            "   1.13551719e-02  2.49478184e-02 -2.41365544e-02 -1.72960386e-03\n",
            "   3.90748382e-02 -9.21687484e-03 -2.70025432e-03  1.49681792e-02\n",
            "   3.06926109e-03 -1.89250335e-03 -2.49478612e-02  3.68702039e-03\n",
            "  -3.73988599e-03 -3.52091044e-02  1.52868778e-03  4.30388525e-02\n",
            "   3.77841294e-03 -1.37339653e-02  9.24388319e-03  1.06318034e-02\n",
            "  -6.39225170e-03 -1.80679560e-02 -1.97915155e-02 -3.67110409e-03\n",
            "   1.12782381e-02 -1.41924098e-02 -1.46237016e-03 -1.30735338e-04\n",
            "   2.39473488e-02  2.29665451e-02 -1.93643942e-03 -1.19662508e-02\n",
            "   8.34923610e-03  2.47708634e-02 -2.34062783e-03  2.64855660e-02\n",
            "  -1.96732320e-02  2.51341388e-02  2.97236815e-03  5.25169671e-02\n",
            "  -8.80265608e-03  2.30093300e-02  3.50073688e-02  3.14092264e-03\n",
            "  -3.39485519e-02 -8.46214034e-03 -2.68102959e-02  9.47181135e-03\n",
            "   2.67741196e-02  6.12375047e-03 -2.97043845e-03  6.62856549e-03\n",
            "   8.42456799e-03  6.21080026e-03 -3.15749571e-02  6.18576258e-03\n",
            "   2.12759748e-02  4.06690612e-02 -2.43419036e-03  5.42951673e-02\n",
            "   1.90297663e-02 -2.09468231e-03 -6.84475377e-02  1.15811750e-02\n",
            "  -1.13422945e-02  2.29828060e-03  4.07642778e-03  4.64893878e-03\n",
            "  -2.85601243e-02  1.92875266e-02  9.63156670e-03  2.86155827e-02\n",
            "  -1.00603364e-02 -3.10386512e-02  2.63540894e-02  4.65609878e-03\n",
            "  -6.26096874e-03  3.05352323e-02  1.94473937e-02 -6.65310770e-03\n",
            "  -1.96348540e-02 -3.55513208e-03 -8.91072303e-03  7.69756874e-03\n",
            "   3.70834060e-02  1.04178116e-03  1.24192536e-02 -1.33810863e-02\n",
            "  -2.64821090e-02 -4.16745245e-03  4.22418118e-03  5.92286512e-03\n",
            "  -1.39067033e-02  4.97507304e-03  9.05184820e-03  1.54624656e-02\n",
            "  -1.02085108e-02 -3.43434885e-02 -4.79059666e-03  6.93365186e-03\n",
            "  -1.03241615e-02  6.20697439e-03  2.68408433e-02  9.37806815e-03\n",
            "   4.78220768e-02  2.73517221e-02]\n",
            " [ 1.43204778e-02 -3.65018100e-02  7.46484101e-02  2.87559889e-02\n",
            "  -3.48989889e-02 -3.21239978e-03  3.76337841e-02  2.22273543e-02\n",
            "   1.20907858e-01  7.85588920e-02  1.13667682e-01  5.80928400e-02\n",
            "   5.88802733e-02  1.48999058e-02  1.90388411e-02 -6.80314004e-03\n",
            "   1.52292699e-02 -9.15865600e-03 -2.86264010e-02  1.16700679e-02\n",
            "  -3.02166119e-02 -3.50695942e-03 -1.27141699e-02  1.93319172e-02\n",
            "  -9.11698490e-03  2.42639612e-02 -2.27857046e-02 -1.55618116e-02\n",
            "  -3.38742137e-03 -3.64308245e-03 -1.86643936e-03 -1.26460753e-02\n",
            "  -1.67712942e-03 -2.53270827e-02 -4.13091853e-02  3.51046026e-03\n",
            "  -6.63117040e-03 -7.32952449e-03  2.29944438e-02 -7.17677362e-03\n",
            "   1.16043361e-02  2.40467973e-02 -2.41672844e-02 -1.23031810e-03\n",
            "   3.78716141e-02 -9.51404870e-03 -2.89773569e-03  1.30051263e-02\n",
            "   4.03695367e-03 -1.93988159e-03 -2.57937852e-02  4.57331911e-03\n",
            "  -4.59720939e-03 -3.68324742e-02  1.16507709e-03  4.59053293e-02\n",
            "   4.73663211e-03 -1.45109901e-02  1.07780695e-02  9.50884447e-03\n",
            "  -5.99024445e-03 -2.10985914e-02 -2.03968287e-02 -4.68645059e-03\n",
            "   1.00179352e-02 -1.35332160e-02 -2.51279771e-03 -1.06405467e-04\n",
            "   2.55038906e-02  2.38561705e-02 -1.43652409e-03 -1.20906793e-02\n",
            "   8.69258121e-03  2.47314945e-02 -9.65922140e-04  2.53561325e-02\n",
            "  -2.01891735e-02  2.47263014e-02  1.98867172e-03  5.12888804e-02\n",
            "  -9.06232372e-03  2.23200023e-02  3.68243977e-02  2.30352953e-03\n",
            "  -3.67332771e-02 -9.79161076e-03 -2.84576006e-02  7.40025751e-03\n",
            "   2.56551020e-02  5.41316997e-03 -2.92057730e-03  6.03512675e-03\n",
            "   6.64215954e-03  5.17115742e-03 -3.53840962e-02  7.09827244e-03\n",
            "   1.88649371e-02  4.07418832e-02 -7.53350556e-04  5.61615601e-02\n",
            "   1.77625716e-02 -6.64189458e-04 -6.82576671e-02  1.18724667e-02\n",
            "  -1.31559670e-02  2.20429525e-03  4.31245659e-03  5.67714497e-03\n",
            "  -3.03247273e-02  1.93158835e-02  1.11476332e-02  2.97731869e-02\n",
            "  -1.29481405e-02 -3.29842120e-02  2.75575705e-02  5.69736212e-03\n",
            "  -6.70104101e-03  3.05016898e-02  1.89912915e-02 -9.11539420e-03\n",
            "  -1.94741152e-02 -2.02399492e-03 -8.25694948e-03  7.28580309e-03\n",
            "   3.91919054e-02 -8.65869224e-05  1.28742866e-02 -1.37482807e-02\n",
            "  -2.91490406e-02 -3.95442173e-03  4.57536429e-03  7.03997165e-03\n",
            "  -1.51600624e-02  5.49443811e-03  9.43318568e-03  1.60186328e-02\n",
            "  -1.05431443e-02 -3.43091339e-02 -3.21551412e-03  7.18356669e-03\n",
            "  -9.66070965e-03  8.79978761e-03  2.64625028e-02  9.00512189e-03\n",
            "   5.07343411e-02  2.70131305e-02]\n",
            " [ 3.94262373e-04  1.11380741e-02  9.57273692e-03  2.15930529e-02\n",
            "   2.96730921e-02  6.79213554e-03  7.41901547e-02  6.00229874e-02\n",
            "   1.00621596e-01  8.12373757e-02  4.00763080e-02  1.85991898e-02\n",
            "   1.53379813e-02 -1.05275214e-03 -8.75884667e-03  8.11004266e-03\n",
            "   4.94112261e-03 -5.51788136e-03  2.61080023e-02  6.20416179e-03\n",
            "   5.92964888e-03 -9.30270087e-03 -2.22498626e-02 -2.17066482e-02\n",
            "   1.18061043e-02  2.77286302e-02  1.25028398e-02  1.10649839e-02\n",
            "   9.85859521e-03 -8.29256698e-03 -1.75784938e-02 -1.57614108e-02\n",
            "   3.58386338e-03  2.89307628e-02  3.36620361e-02  9.94427875e-03\n",
            "  -1.85979307e-02  7.80329993e-03  1.60741881e-02  4.59355116e-03\n",
            "   5.93734719e-03  2.25941464e-02  1.31625161e-02  6.57622516e-03\n",
            "  -6.84973598e-03  1.09619144e-02 -1.84433162e-03  2.22008228e-02\n",
            "   1.14551559e-03 -1.03535652e-02  4.78014722e-03  7.01239705e-03\n",
            "   8.68529081e-03  1.60395876e-02 -3.92600894e-04 -2.60825679e-02\n",
            "  -2.54097953e-03  1.02621960e-02  2.19979137e-03  1.51116401e-04\n",
            "  -9.88554209e-03  8.99083167e-03  7.74325617e-03  2.70768255e-03\n",
            "   2.67773978e-02  4.42088395e-03 -3.01092118e-03  1.19579444e-02\n",
            "  -4.39798832e-03  4.69829887e-03  1.12815313e-02 -1.54443793e-02\n",
            "  -4.14449349e-03 -1.00868121e-02 -1.27549032e-02  5.32010905e-02\n",
            "   1.91438943e-03  3.51571217e-02  1.34663135e-02  3.64113599e-02\n",
            "   1.26150642e-02  6.41804188e-03 -1.01956949e-02  3.89657915e-04\n",
            "   2.18713284e-02  2.10559089e-02 -1.00802612e-02  4.14281785e-02\n",
            "   3.07087786e-02  1.35824848e-02  2.12876238e-02 -2.27082893e-03\n",
            "   3.87093350e-02  5.81267066e-02  4.83288430e-02 -1.43507794e-02\n",
            "   3.47958691e-02 -3.73096764e-03  1.31719299e-02 -8.48528557e-03\n",
            "  -6.09162450e-03 -7.67979026e-03 -3.67708653e-02 -6.43231720e-03\n",
            "   1.03030950e-02  1.22170802e-02  1.16007300e-02  8.43199715e-03\n",
            "   1.65746082e-02 -6.48280978e-03 -1.99895352e-03 -1.53885614e-02\n",
            "   2.34717764e-02  1.45800989e-02 -5.65796904e-03 -5.84312528e-03\n",
            "   1.79850962e-02 -9.84159857e-03 -1.14836544e-03  3.95222008e-03\n",
            "   6.77485391e-03 -1.38851153e-02  9.18143243e-03 -4.31899447e-03\n",
            "  -1.88980550e-02 -2.25451589e-03 -1.13260299e-02  1.38111003e-02\n",
            "   2.07475349e-02  7.50628300e-03  5.11748344e-03 -6.44653291e-03\n",
            "   1.12852678e-02 -3.44000757e-04 -3.08780745e-03 -9.25178267e-03\n",
            "  -1.35836308e-04  9.60999727e-03 -3.65453213e-03 -3.33941728e-03\n",
            "  -3.12954560e-03 -1.00153349e-02 -1.06016546e-02 -1.48303807e-03\n",
            "  -2.42188275e-02 -4.05786652e-03]]\n"
          ],
          "name": "stdout"
        }
      ]
    },
    {
      "cell_type": "code",
      "metadata": {
        "id": "OAxH3ZG9cOD0",
        "colab_type": "code",
        "colab": {
          "base_uri": "https://localhost:8080/",
          "height": 602
        },
        "outputId": "7e32dc8c-8e17-49c9-d3e7-878816c88411"
      },
      "source": [
        "\n",
        "# Summary of neural network\n",
        "model_s_c.summary()\n",
        "\n",
        "# Output network visualization\n",
        "SVG(model_to_dot(model_s_c,show_layer_names=True, rankdir='TB',\n",
        "    expand_nested=False, dpi=70).create(prog='dot', format='svg'))"
      ],
      "execution_count": 19,
      "outputs": [
        {
          "output_type": "stream",
          "text": [
            "Model: \"sequential_7\"\n",
            "_________________________________________________________________\n",
            "Layer (type)                 Output Shape              Param #   \n",
            "=================================================================\n",
            "dense_9 (Dense)              (None, 10)                40        \n",
            "_________________________________________________________________\n",
            "dense_10 (Dense)             (None, 10)                110       \n",
            "_________________________________________________________________\n",
            "dense_11 (Dense)             (None, 146)               1606      \n",
            "=================================================================\n",
            "Total params: 1,756\n",
            "Trainable params: 1,756\n",
            "Non-trainable params: 0\n",
            "_________________________________________________________________\n"
          ],
          "name": "stdout"
        },
        {
          "output_type": "execute_result",
          "data": {
            "text/plain": [
              "<IPython.core.display.SVG object>"
            ],
            "image/svg+xml": "<svg height=\"257pt\" viewBox=\"0.00 0.00 181.00 264.00\" width=\"176pt\" xmlns=\"http://www.w3.org/2000/svg\" xmlns:xlink=\"http://www.w3.org/1999/xlink\">\n<g class=\"graph\" id=\"graph0\" transform=\"scale(.9722 .9722) rotate(0) translate(4 260)\">\n<title>G</title>\n<polygon fill=\"#ffffff\" points=\"-4,4 -4,-260 177,-260 177,4 -4,4\" stroke=\"transparent\"/>\n<!-- 140057725381376 -->\n<g class=\"node\" id=\"node1\">\n<title>140057725381376</title>\n<polygon fill=\"none\" points=\"0,-219.5 0,-255.5 173,-255.5 173,-219.5 0,-219.5\" stroke=\"#000000\"/>\n<text fill=\"#000000\" font-family=\"Times,serif\" font-size=\"14.00\" text-anchor=\"middle\" x=\"86.5\" y=\"-233.8\">dense_9_input: InputLayer</text>\n</g>\n<!-- 140057765065896 -->\n<g class=\"node\" id=\"node2\">\n<title>140057765065896</title>\n<polygon fill=\"none\" points=\"33,-146.5 33,-182.5 140,-182.5 140,-146.5 33,-146.5\" stroke=\"#000000\"/>\n<text fill=\"#000000\" font-family=\"Times,serif\" font-size=\"14.00\" text-anchor=\"middle\" x=\"86.5\" y=\"-160.8\">dense_9: Dense</text>\n</g>\n<!-- 140057725381376&#45;&gt;140057765065896 -->\n<g class=\"edge\" id=\"edge1\">\n<title>140057725381376-&gt;140057765065896</title>\n<path d=\"M86.5,-219.4551C86.5,-211.3828 86.5,-201.6764 86.5,-192.6817\" fill=\"none\" stroke=\"#000000\"/>\n<polygon fill=\"#000000\" points=\"90.0001,-192.5903 86.5,-182.5904 83.0001,-192.5904 90.0001,-192.5903\" stroke=\"#000000\"/>\n</g>\n<!-- 140057765065448 -->\n<g class=\"node\" id=\"node3\">\n<title>140057765065448</title>\n<polygon fill=\"none\" points=\"29.5,-73.5 29.5,-109.5 143.5,-109.5 143.5,-73.5 29.5,-73.5\" stroke=\"#000000\"/>\n<text fill=\"#000000\" font-family=\"Times,serif\" font-size=\"14.00\" text-anchor=\"middle\" x=\"86.5\" y=\"-87.8\">dense_10: Dense</text>\n</g>\n<!-- 140057765065896&#45;&gt;140057765065448 -->\n<g class=\"edge\" id=\"edge2\">\n<title>140057765065896-&gt;140057765065448</title>\n<path d=\"M86.5,-146.4551C86.5,-138.3828 86.5,-128.6764 86.5,-119.6817\" fill=\"none\" stroke=\"#000000\"/>\n<polygon fill=\"#000000\" points=\"90.0001,-119.5903 86.5,-109.5904 83.0001,-119.5904 90.0001,-119.5903\" stroke=\"#000000\"/>\n</g>\n<!-- 140057765064944 -->\n<g class=\"node\" id=\"node4\">\n<title>140057765064944</title>\n<polygon fill=\"none\" points=\"30,-.5 30,-36.5 143,-36.5 143,-.5 30,-.5\" stroke=\"#000000\"/>\n<text fill=\"#000000\" font-family=\"Times,serif\" font-size=\"14.00\" text-anchor=\"middle\" x=\"86.5\" y=\"-14.8\">dense_11: Dense</text>\n</g>\n<!-- 140057765065448&#45;&gt;140057765064944 -->\n<g class=\"edge\" id=\"edge3\">\n<title>140057765065448-&gt;140057765064944</title>\n<path d=\"M86.5,-73.4551C86.5,-65.3828 86.5,-55.6764 86.5,-46.6817\" fill=\"none\" stroke=\"#000000\"/>\n<polygon fill=\"#000000\" points=\"90.0001,-46.5903 86.5,-36.5904 83.0001,-46.5904 90.0001,-46.5903\" stroke=\"#000000\"/>\n</g>\n</g>\n</svg>"
          },
          "metadata": {
            "tags": []
          },
          "execution_count": 19
        }
      ]
    },
    {
      "cell_type": "code",
      "metadata": {
        "id": "DZsN7bWwt_Nj",
        "colab_type": "code",
        "colab": {
          "base_uri": "https://localhost:8080/",
          "height": 510
        },
        "outputId": "4e4521f0-d996-4cd5-e8be-ce0938593818"
      },
      "source": [
        "model_mc_c=DLSN_mc(X_c,y_c)\n"
      ],
      "execution_count": 20,
      "outputs": [
        {
          "output_type": "stream",
          "text": [
            "Train on 9187 samples, validate on 1373 samples\n",
            "Epoch 1/30\n",
            "9187/9187 [==============================] - 1s 78us/step - loss: 0.0133 - val_loss: 0.0069\n",
            "Epoch 2/30\n",
            "9187/9187 [==============================] - 1s 68us/step - loss: 0.0068 - val_loss: 0.0069\n",
            "Epoch 3/30\n",
            "9187/9187 [==============================] - 1s 66us/step - loss: 0.0069 - val_loss: 0.0069\n",
            "Epoch 4/30\n",
            "9187/9187 [==============================] - 1s 69us/step - loss: 0.0068 - val_loss: 0.0069\n",
            "Epoch 5/30\n",
            "9187/9187 [==============================] - 1s 65us/step - loss: 0.0068 - val_loss: 0.0068\n",
            "Epoch 6/30\n",
            "9187/9187 [==============================] - 1s 66us/step - loss: 0.0068 - val_loss: 0.0068\n",
            "Epoch 7/30\n",
            "9187/9187 [==============================] - 1s 69us/step - loss: 0.0068 - val_loss: 0.0068\n",
            "Epoch 8/30\n",
            "9187/9187 [==============================] - 1s 67us/step - loss: 0.0068 - val_loss: 0.0068\n",
            "Epoch 9/30\n",
            "9187/9187 [==============================] - 1s 68us/step - loss: 0.0068 - val_loss: 0.0068\n",
            "Evaluate on test data\n",
            "test loss: 0.006849532685115749\n",
            "Generate predictions for 3 samples\n",
            "[[0. 0. 0. ... 0. 0. 0.]\n",
            " [0. 0. 0. ... 0. 0. 0.]\n",
            " [0. 0. 0. ... 0. 0. 0.]\n",
            " ...\n",
            " [0. 0. 0. ... 0. 0. 0.]\n",
            " [0. 0. 0. ... 0. 0. 0.]\n",
            " [0. 0. 0. ... 0. 0. 0.]]\n"
          ],
          "name": "stdout"
        }
      ]
    },
    {
      "cell_type": "code",
      "metadata": {
        "id": "-E_oRV_adHTy",
        "colab_type": "code",
        "colab": {
          "base_uri": "https://localhost:8080/",
          "height": 730
        },
        "outputId": "0003c273-d0e8-43f3-87b0-d5a18c6b34c2"
      },
      "source": [
        "\n",
        "# Summary of neural network\n",
        "model_mc_c.summary()\n",
        "\n",
        "# Output network visualization\n",
        "SVG(model_to_dot(model_mc_c,show_layer_names=True, rankdir='TB',\n",
        "    expand_nested=False, dpi=70).create(prog='dot', format='svg'))"
      ],
      "execution_count": 21,
      "outputs": [
        {
          "output_type": "stream",
          "text": [
            "Model: \"sequential_8\"\n",
            "_________________________________________________________________\n",
            "Layer (type)                 Output Shape              Param #   \n",
            "=================================================================\n",
            "conv2d_6 (Conv2D)            (None, 7, 3, 32)          544       \n",
            "_________________________________________________________________\n",
            "max_pooling2d_6 (MaxPooling2 (None, 3, 1, 32)          0         \n",
            "_________________________________________________________________\n",
            "flatten_6 (Flatten)          (None, 96)                0         \n",
            "_________________________________________________________________\n",
            "dense_12 (Dense)             (None, 146)               14162     \n",
            "=================================================================\n",
            "Total params: 14,706\n",
            "Trainable params: 14,706\n",
            "Non-trainable params: 0\n",
            "_________________________________________________________________\n"
          ],
          "name": "stdout"
        },
        {
          "output_type": "execute_result",
          "data": {
            "text/plain": [
              "<IPython.core.display.SVG object>"
            ],
            "image/svg+xml": "<svg height=\"328pt\" viewBox=\"0.00 0.00 229.00 337.00\" width=\"223pt\" xmlns=\"http://www.w3.org/2000/svg\" xmlns:xlink=\"http://www.w3.org/1999/xlink\">\n<g class=\"graph\" id=\"graph0\" transform=\"scale(.9722 .9722) rotate(0) translate(4 333)\">\n<title>G</title>\n<polygon fill=\"#ffffff\" points=\"-4,4 -4,-333 225,-333 225,4 -4,4\" stroke=\"transparent\"/>\n<!-- 140057724518128 -->\n<g class=\"node\" id=\"node1\">\n<title>140057724518128</title>\n<polygon fill=\"none\" points=\"18.5,-292.5 18.5,-328.5 202.5,-328.5 202.5,-292.5 18.5,-292.5\" stroke=\"#000000\"/>\n<text fill=\"#000000\" font-family=\"Times,serif\" font-size=\"14.00\" text-anchor=\"middle\" x=\"110.5\" y=\"-306.8\">conv2d_6_input: InputLayer</text>\n</g>\n<!-- 140057765175248 -->\n<g class=\"node\" id=\"node2\">\n<title>140057765175248</title>\n<polygon fill=\"none\" points=\"44,-219.5 44,-255.5 177,-255.5 177,-219.5 44,-219.5\" stroke=\"#000000\"/>\n<text fill=\"#000000\" font-family=\"Times,serif\" font-size=\"14.00\" text-anchor=\"middle\" x=\"110.5\" y=\"-233.8\">conv2d_6: Conv2D</text>\n</g>\n<!-- 140057724518128&#45;&gt;140057765175248 -->\n<g class=\"edge\" id=\"edge1\">\n<title>140057724518128-&gt;140057765175248</title>\n<path d=\"M110.5,-292.4551C110.5,-284.3828 110.5,-274.6764 110.5,-265.6817\" fill=\"none\" stroke=\"#000000\"/>\n<polygon fill=\"#000000\" points=\"114.0001,-265.5903 110.5,-255.5904 107.0001,-265.5904 114.0001,-265.5903\" stroke=\"#000000\"/>\n</g>\n<!-- 140057724515552 -->\n<g class=\"node\" id=\"node3\">\n<title>140057724515552</title>\n<polygon fill=\"none\" points=\"0,-146.5 0,-182.5 221,-182.5 221,-146.5 0,-146.5\" stroke=\"#000000\"/>\n<text fill=\"#000000\" font-family=\"Times,serif\" font-size=\"14.00\" text-anchor=\"middle\" x=\"110.5\" y=\"-160.8\">max_pooling2d_6: MaxPooling2D</text>\n</g>\n<!-- 140057765175248&#45;&gt;140057724515552 -->\n<g class=\"edge\" id=\"edge2\">\n<title>140057765175248-&gt;140057724515552</title>\n<path d=\"M110.5,-219.4551C110.5,-211.3828 110.5,-201.6764 110.5,-192.6817\" fill=\"none\" stroke=\"#000000\"/>\n<polygon fill=\"#000000\" points=\"114.0001,-192.5903 110.5,-182.5904 107.0001,-192.5904 114.0001,-192.5903\" stroke=\"#000000\"/>\n</g>\n<!-- 140057724516224 -->\n<g class=\"node\" id=\"node4\">\n<title>140057724516224</title>\n<polygon fill=\"none\" points=\"54,-73.5 54,-109.5 167,-109.5 167,-73.5 54,-73.5\" stroke=\"#000000\"/>\n<text fill=\"#000000\" font-family=\"Times,serif\" font-size=\"14.00\" text-anchor=\"middle\" x=\"110.5\" y=\"-87.8\">flatten_6: Flatten</text>\n</g>\n<!-- 140057724515552&#45;&gt;140057724516224 -->\n<g class=\"edge\" id=\"edge3\">\n<title>140057724515552-&gt;140057724516224</title>\n<path d=\"M110.5,-146.4551C110.5,-138.3828 110.5,-128.6764 110.5,-119.6817\" fill=\"none\" stroke=\"#000000\"/>\n<polygon fill=\"#000000\" points=\"114.0001,-119.5903 110.5,-109.5904 107.0001,-119.5904 114.0001,-119.5903\" stroke=\"#000000\"/>\n</g>\n<!-- 140057724516336 -->\n<g class=\"node\" id=\"node5\">\n<title>140057724516336</title>\n<polygon fill=\"none\" points=\"53.5,-.5 53.5,-36.5 167.5,-36.5 167.5,-.5 53.5,-.5\" stroke=\"#000000\"/>\n<text fill=\"#000000\" font-family=\"Times,serif\" font-size=\"14.00\" text-anchor=\"middle\" x=\"110.5\" y=\"-14.8\">dense_12: Dense</text>\n</g>\n<!-- 140057724516224&#45;&gt;140057724516336 -->\n<g class=\"edge\" id=\"edge4\">\n<title>140057724516224-&gt;140057724516336</title>\n<path d=\"M110.5,-73.4551C110.5,-65.3828 110.5,-55.6764 110.5,-46.6817\" fill=\"none\" stroke=\"#000000\"/>\n<polygon fill=\"#000000\" points=\"114.0001,-46.5903 110.5,-36.5904 107.0001,-46.5904 114.0001,-46.5903\" stroke=\"#000000\"/>\n</g>\n</g>\n</svg>"
          },
          "metadata": {
            "tags": []
          },
          "execution_count": 21
        }
      ]
    }
  ]
}