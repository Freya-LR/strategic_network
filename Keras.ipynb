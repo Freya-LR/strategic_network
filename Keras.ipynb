{
  "nbformat": 4,
  "nbformat_minor": 0,
  "metadata": {
    "colab": {
      "name": "Keras.ipynb",
      "provenance": [],
      "mount_file_id": "1zlxxtBNTSHHvnSdayec0gJfTo0Ihkv72",
      "authorship_tag": "ABX9TyNtXrrM/fqp3gq0vn3Mln8s",
      "include_colab_link": true
    },
    "kernelspec": {
      "name": "python3",
      "display_name": "Python 3"
    }
  },
  "cells": [
    {
      "cell_type": "markdown",
      "metadata": {
        "id": "view-in-github",
        "colab_type": "text"
      },
      "source": [
        "<a href=\"https://colab.research.google.com/github/Freya-LR/strategic_network/blob/master/Keras.ipynb\" target=\"_parent\"><img src=\"https://colab.research.google.com/assets/colab-badge.svg\" alt=\"Open In Colab\"/></a>"
      ]
    },
    {
      "cell_type": "code",
      "metadata": {
        "id": "9iJWK1hMwMpz",
        "colab_type": "code",
        "colab": {
          "base_uri": "https://localhost:8080/",
          "height": 139
        },
        "outputId": "650f366e-a14d-4779-d9dd-032a1483a82b"
      },
      "source": [
        "\n",
        "import pandas as pd\n",
        "import networkx as nx\n",
        "import numpy as np\n",
        "import matplotlib.pyplot as plt\n",
        "from matplotlib.backends.backend_pdf import PdfPages, FigureCanvasPdf\n",
        "from matplotlib.figure import Figure\n",
        "import keras\n",
        "from keras.models import Model ,Sequential \n",
        "from keras import layers\n",
        "from keras.layers import Conv2D, MaxPooling2D, Dense, Flatten\n",
        "from keras.callbacks import EarlyStopping\n",
        "from keras.utils import to_categorical\n",
        "from keras.utils.vis_utils import model_to_dot\n",
        "\n",
        "import warnings\n",
        "import matplotlib.cbook\n",
        "from IPython.display import SVG\n",
        "warnings.filterwarnings(\"ignore\",category=matplotlib.cbook.mplDeprecation)\n",
        "from google.colab import drive\n",
        "drive.mount('/content/drive')\n"
      ],
      "execution_count": 2,
      "outputs": [
        {
          "output_type": "stream",
          "text": [
            "Using TensorFlow backend.\n"
          ],
          "name": "stderr"
        },
        {
          "output_type": "stream",
          "text": [
            "Go to this URL in a browser: https://accounts.google.com/o/oauth2/auth?client_id=947318989803-6bn6qk8qdgf4n4g3pfee6491hc0brc4i.apps.googleusercontent.com&redirect_uri=urn%3aietf%3awg%3aoauth%3a2.0%3aoob&response_type=code&scope=email%20https%3a%2f%2fwww.googleapis.com%2fauth%2fdocs.test%20https%3a%2f%2fwww.googleapis.com%2fauth%2fdrive%20https%3a%2f%2fwww.googleapis.com%2fauth%2fdrive.photos.readonly%20https%3a%2f%2fwww.googleapis.com%2fauth%2fpeopleapi.readonly\n",
            "\n",
            "Enter your authorization code:\n",
            "··········\n",
            "Mounted at /content/drive\n"
          ],
          "name": "stdout"
        }
      ]
    },
    {
      "cell_type": "code",
      "metadata": {
        "id": "C_gpJ1VUwRQA",
        "colab_type": "code",
        "colab": {}
      },
      "source": [
        "\n",
        "with pd.ExcelFile('/content/drive/My Drive/output_values/output_n10_3.xlsx') as reader:\n",
        "    \n",
        "    closeness_n10_3=pd.read_excel(reader,sheet_name=\"closeness_centrality\")\n",
        "    betweenness_n10_3=pd.read_excel(reader,sheet_name=\"betweenness_centrality\")\n",
        "    eigenvector_n10_3=pd.read_excel(reader,sheet_name=\"eigenvector_centrality\")\n",
        "    page_rank_n10_3=pd.read_excel(reader,sheet_name=\"page_rank\")\n",
        "    triangles_n10_3=pd.read_excel(reader,sheet_name=\"triangles\")\n",
        "    clustering_n10_3=pd.read_excel(reader,sheet_name=\"clustering\")\n",
        "    wiener_index_n10_3=pd.read_excel(reader,sheet_name=\"wiener_index\")\n",
        "    transitivity_n10_3=pd.read_excel(reader,sheet_name=\"transitivity\")\n",
        "    diameter_radius_center_periphery_density_n10_3=pd.read_excel(reader,sheet_name=\"d_r_c_p_d\")\n",
        "    Efficiency_loss_n10_3=pd.read_excel(reader,sheet_name=\"Efficiency_loss\")\n",
        "\n",
        "\n"
      ],
      "execution_count": 7,
      "outputs": []
    },
    {
      "cell_type": "code",
      "metadata": {
        "id": "89kbgPc5wT0B",
        "colab_type": "code",
        "colab": {
          "base_uri": "https://localhost:8080/",
          "height": 68
        },
        "outputId": "b86581c9-c796-45c7-8aba-ea2446deb436"
      },
      "source": [
        "def par(x):   \n",
        "    \n",
        "    X=np.delete(x.to_numpy(),obj=0,axis=1)\n",
        "\n",
        "    return X\n",
        "\n",
        "def com_data(n,closeness, betweenness, eigenvector,page_rank,triangles,clustering,wiener_index,transitivity,\n",
        "             diameter_radius_center_periphery_density,Efficiency_loss):\n",
        "    la=np.zeros((1000,3))\n",
        "    for i in range(1000):\n",
        "        la[i]=[wiener_index_n10_3[0][i],transitivity_n10_3[0][i],diameter_radius_center_periphery_density_n10_3[4][i]]\n",
        "    #X=np.array(l)\n",
        "    #Xa=np.array(la)\n",
        "    Y = np.array(Efficiency_loss[0])\n",
        "    l=np.zeros((1000,n,6))\n",
        "    for i in range(1000):\n",
        "        for j in range(n):\n",
        "            l[i][j]=[closeness[j][i],betweenness[j][i],eigenvector[j][i],page_rank[j][i],triangles[j][i],clustering[j][i]]\n",
        "    print(l.shape)\n",
        "    print(Y.shape)\n",
        "    print(la.shape)\n",
        "    return l, la, Y\n",
        "\n",
        "X, Xa, y=com_data(10, closeness_n10_3, betweenness_n10_3, eigenvector_n10_3,page_rank_n10_3,triangles_n10_3,clustering_n10_3,\n",
        "\n",
        "        wiener_index_n10_3,transitivity_n10_3,diameter_radius_center_periphery_density_n10_3,Efficiency_loss_n10_3)\n",
        "\n",
        "\n",
        "X_train = X[:-100]\n",
        "X_test = X[-100:]\n",
        "y_train = y[:-100]\n",
        "y_test = y[-100:]\n",
        "\n",
        "#print(y_test)\n",
        "\n",
        "\n",
        "\n"
      ],
      "execution_count": 19,
      "outputs": [
        {
          "output_type": "stream",
          "text": [
            "(1000, 10, 6)\n",
            "(1000,)\n",
            "(1000, 3)\n"
          ],
          "name": "stdout"
        }
      ]
    },
    {
      "cell_type": "code",
      "metadata": {
        "id": "q5cDTv8mwbEf",
        "colab_type": "code",
        "colab": {
          "base_uri": "https://localhost:8080/",
          "height": 663
        },
        "outputId": "4612c6b1-edee-410f-b386-3d23ec678bb1"
      },
      "source": [
        "def DLSN(X,y):   \n",
        "    #create model\n",
        "    X_train = X[:-100]\n",
        "    X_test = X[-100:]\n",
        "    y_train = y[:-100]\n",
        "    y_test = y[-100:]\n",
        "    X_train=np.expand_dims(X_train, axis=3)\n",
        "    X_test=np.expand_dims(X_test, axis=3)\n",
        "    num_filters = 8\n",
        "    filter_size = 3\n",
        "    pool_size = 2\n",
        "\n",
        "    model = Sequential([\n",
        "      Conv2D(num_filters, filter_size, input_shape=(10, 6, 1)),\n",
        "      MaxPooling2D(pool_size=pool_size),\n",
        "      Flatten(),\n",
        "      Dense(17, activation='relu'),\n",
        "    ])\n",
        "    model.compile(optimizer='adam', loss='mean_squared_error',)\n",
        "    early_stopping_monitor = EarlyStopping(patience=3)\n",
        "    model.fit(X_train, to_categorical(y_train), validation_data=(X_test, to_categorical(y_test)),\n",
        "              epochs=30, callbacks=[early_stopping_monitor],)\n",
        "    # Evaluate the model on the test data using `evaluate`\n",
        "    print(\"Evaluate on test data\")\n",
        "    results = model.evaluate(X_test, to_categorical(y_test), verbose=0)\n",
        "    print(\"test loss:\", results)\n",
        "    # Generate predictions (probabilities -- the output of the last layer)\n",
        "    # on new data using `predict`\n",
        "\n",
        "    print(\"Generate predictions for 3 samples\")\n",
        "    predictions = model.predict(X_test[:3])\n",
        "\n",
        "    print(predictions)\n",
        "    \n",
        "    return model\n",
        "\n",
        "\n",
        "model=DLSN(X,y)\n",
        "y_test[:3]\n"
      ],
      "execution_count": 20,
      "outputs": [
        {
          "output_type": "stream",
          "text": [
            "Train on 900 samples, validate on 100 samples\n",
            "Epoch 1/30\n",
            "900/900 [==============================] - 0s 471us/step - loss: 4.9287 - val_loss: 0.6363\n",
            "Epoch 2/30\n",
            "900/900 [==============================] - 0s 51us/step - loss: 0.2105 - val_loss: 0.0702\n",
            "Epoch 3/30\n",
            "900/900 [==============================] - 0s 47us/step - loss: 0.0667 - val_loss: 0.0612\n",
            "Epoch 4/30\n",
            "900/900 [==============================] - 0s 47us/step - loss: 0.0622 - val_loss: 0.0598\n",
            "Epoch 5/30\n",
            "900/900 [==============================] - 0s 50us/step - loss: 0.0610 - val_loss: 0.0593\n",
            "Epoch 6/30\n",
            "900/900 [==============================] - 0s 49us/step - loss: 0.0603 - val_loss: 0.0590\n",
            "Epoch 7/30\n",
            "900/900 [==============================] - 0s 50us/step - loss: 0.0599 - val_loss: 0.0589\n",
            "Epoch 8/30\n",
            "900/900 [==============================] - 0s 47us/step - loss: 0.0596 - val_loss: 0.0589\n",
            "Epoch 9/30\n",
            "900/900 [==============================] - 0s 47us/step - loss: 0.0594 - val_loss: 0.0589\n",
            "Epoch 10/30\n",
            "900/900 [==============================] - 0s 51us/step - loss: 0.0592 - val_loss: 0.0589\n",
            "Epoch 11/30\n",
            "900/900 [==============================] - 0s 51us/step - loss: 0.0591 - val_loss: 0.0588\n",
            "Epoch 12/30\n",
            "900/900 [==============================] - 0s 49us/step - loss: 0.0590 - val_loss: 0.0588\n",
            "Epoch 13/30\n",
            "900/900 [==============================] - 0s 48us/step - loss: 0.0590 - val_loss: 0.0589\n",
            "Epoch 14/30\n",
            "900/900 [==============================] - 0s 46us/step - loss: 0.0589 - val_loss: 0.0589\n",
            "Epoch 15/30\n",
            "900/900 [==============================] - 0s 47us/step - loss: 0.0589 - val_loss: 0.0589\n",
            "Evaluate on test data\n",
            "test loss: 0.05886035457253456\n",
            "Generate predictions for 3 samples\n",
            "[[0. 0. 0. 0. 0. 0. 0. 0. 0. 0. 0. 0. 0. 0. 0. 0. 0.]\n",
            " [0. 0. 0. 0. 0. 0. 0. 0. 0. 0. 0. 0. 0. 0. 0. 0. 0.]\n",
            " [0. 0. 0. 0. 0. 0. 0. 0. 0. 0. 0. 0. 0. 0. 0. 0. 0.]]\n"
          ],
          "name": "stdout"
        },
        {
          "output_type": "execute_result",
          "data": {
            "text/plain": [
              "array([ 5.6, 11.2, 13. ])"
            ]
          },
          "metadata": {
            "tags": []
          },
          "execution_count": 20
        }
      ]
    },
    {
      "cell_type": "code",
      "metadata": {
        "id": "3_7fDMzy7sMj",
        "colab_type": "code",
        "colab": {
          "base_uri": "https://localhost:8080/",
          "height": 1000
        },
        "outputId": "386b50bf-8ea6-4dda-dbf7-1e6dc5fa2108"
      },
      "source": [
        "def DLSN_s(X,y):   \n",
        "    #create model\n",
        "    X_train = X[:-100]\n",
        "    X_test = X[-100:]\n",
        "    y_train = y[:-100]\n",
        "    y_test = y[-100:]\n",
        "    \n",
        "    \n",
        "    model = Sequential([\n",
        "      Dense(10, activation='relu',input_shape=(3, )),\n",
        "      Dense(10,activation='relu'),\n",
        "      Dense(17),\n",
        "    ])\n",
        "    model.compile(optimizer='adam', loss='mean_squared_error',)\n",
        "    early_stopping_monitor = EarlyStopping(patience=3)\n",
        "    model.fit(X_train, to_categorical(y_train), validation_data=(X_test, to_categorical(y_test)),\n",
        "              epochs=30, callbacks=[early_stopping_monitor],)\n",
        "    # Evaluate the model on the test data using `evaluate`\n",
        "    print(\"Evaluate on test data\")\n",
        "    results = model.evaluate(X_test, to_categorical(y_test), verbose=0)\n",
        "    print(\"test loss:\", results)\n",
        "    # Generate predictions (probabilities -- the output of the last layer)\n",
        "    # on new data using `predict`\n",
        "\n",
        "    print(\"Generate predictions for 3 samples\")\n",
        "    predictions = model.predict(X_test[:3])\n",
        "\n",
        "    print(predictions)\n",
        "    \n",
        "    return model\n",
        "\n",
        "\n",
        "model_s=DLSN_s(Xa,y)\n",
        "# Summary of neural network\n",
        "model_s.summary()\n",
        "\n",
        "# Output network visualization\n",
        "SVG(model_to_dot(model_s).create(prog='dot', format='svg'))"
      ],
      "execution_count": 25,
      "outputs": [
        {
          "output_type": "stream",
          "text": [
            "Train on 900 samples, validate on 100 samples\n",
            "Epoch 1/30\n",
            "900/900 [==============================] - 0s 121us/step - loss: 64.6636 - val_loss: 42.0414\n",
            "Epoch 2/30\n",
            "900/900 [==============================] - 0s 37us/step - loss: 30.8511 - val_loss: 21.2473\n",
            "Epoch 3/30\n",
            "900/900 [==============================] - 0s 33us/step - loss: 16.2934 - val_loss: 11.8442\n",
            "Epoch 4/30\n",
            "900/900 [==============================] - 0s 33us/step - loss: 9.3567 - val_loss: 7.0312\n",
            "Epoch 5/30\n",
            "900/900 [==============================] - 0s 37us/step - loss: 5.6856 - val_loss: 4.3987\n",
            "Epoch 6/30\n",
            "900/900 [==============================] - 0s 33us/step - loss: 3.6204 - val_loss: 2.8564\n",
            "Epoch 7/30\n",
            "900/900 [==============================] - 0s 33us/step - loss: 2.3851 - val_loss: 1.9158\n",
            "Epoch 8/30\n",
            "900/900 [==============================] - 0s 34us/step - loss: 1.6228 - val_loss: 1.3253\n",
            "Epoch 9/30\n",
            "900/900 [==============================] - 0s 39us/step - loss: 1.1368 - val_loss: 0.9427\n",
            "Epoch 10/30\n",
            "900/900 [==============================] - 0s 36us/step - loss: 0.8182 - val_loss: 0.6874\n",
            "Epoch 11/30\n",
            "900/900 [==============================] - 0s 38us/step - loss: 0.6030 - val_loss: 0.5122\n",
            "Epoch 12/30\n",
            "900/900 [==============================] - 0s 39us/step - loss: 0.4533 - val_loss: 0.3893\n",
            "Epoch 13/30\n",
            "900/900 [==============================] - 0s 36us/step - loss: 0.3474 - val_loss: 0.3011\n",
            "Epoch 14/30\n",
            "900/900 [==============================] - 0s 35us/step - loss: 0.2709 - val_loss: 0.2371\n",
            "Epoch 15/30\n",
            "900/900 [==============================] - 0s 34us/step - loss: 0.2150 - val_loss: 0.1901\n",
            "Epoch 16/30\n",
            "900/900 [==============================] - 0s 33us/step - loss: 0.1739 - val_loss: 0.1553\n",
            "Epoch 17/30\n",
            "900/900 [==============================] - 0s 34us/step - loss: 0.1434 - val_loss: 0.1295\n",
            "Epoch 18/30\n",
            "900/900 [==============================] - 0s 35us/step - loss: 0.1207 - val_loss: 0.1102\n",
            "Epoch 19/30\n",
            "900/900 [==============================] - 0s 33us/step - loss: 0.1037 - val_loss: 0.0960\n",
            "Epoch 20/30\n",
            "900/900 [==============================] - 0s 36us/step - loss: 0.0911 - val_loss: 0.0853\n",
            "Epoch 21/30\n",
            "900/900 [==============================] - 0s 35us/step - loss: 0.0817 - val_loss: 0.0775\n",
            "Epoch 22/30\n",
            "900/900 [==============================] - 0s 35us/step - loss: 0.0747 - val_loss: 0.0716\n",
            "Epoch 23/30\n",
            "900/900 [==============================] - 0s 38us/step - loss: 0.0689 - val_loss: 0.0656\n",
            "Epoch 24/30\n",
            "900/900 [==============================] - 0s 34us/step - loss: 0.0623 - val_loss: 0.0597\n",
            "Epoch 25/30\n",
            "900/900 [==============================] - 0s 33us/step - loss: 0.0569 - val_loss: 0.0556\n",
            "Epoch 26/30\n",
            "900/900 [==============================] - 0s 33us/step - loss: 0.0542 - val_loss: 0.0537\n",
            "Epoch 27/30\n",
            "900/900 [==============================] - 0s 33us/step - loss: 0.0528 - val_loss: 0.0529\n",
            "Epoch 28/30\n",
            "900/900 [==============================] - 0s 35us/step - loss: 0.0523 - val_loss: 0.0525\n",
            "Epoch 29/30\n",
            "900/900 [==============================] - 0s 38us/step - loss: 0.0521 - val_loss: 0.0526\n",
            "Epoch 30/30\n",
            "900/900 [==============================] - 0s 36us/step - loss: 0.0520 - val_loss: 0.0523\n",
            "Evaluate on test data\n",
            "test loss: 0.052346285283565525\n",
            "Generate predictions for 3 samples\n",
            "[[ 0.00814131 -0.00724424  0.02528652  0.00079466  0.00881514 -0.01884963\n",
            "   0.10216109  0.13813439  0.1843329   0.19120112  0.17714538  0.13310172\n",
            "   0.11186518  0.05992368  0.02604653  0.06505334 -0.02546598]\n",
            " [ 0.01142389 -0.00993209 -0.00245177  0.00152371  0.0052965   0.01145421\n",
            "   0.0733904   0.09666807  0.12520331  0.1684321   0.17327927  0.1319254\n",
            "   0.09977926  0.06611165  0.02681075  0.02338362  0.01619172]\n",
            " [ 0.01700348 -0.01583173 -0.00658464  0.00092975 -0.00040123  0.02132221\n",
            "   0.06735752  0.08738244  0.10697857  0.165539    0.17952709  0.12681475\n",
            "   0.09178685  0.07032719  0.03233339  0.0068579   0.03257164]]\n",
            "Model: \"sequential_9\"\n",
            "_________________________________________________________________\n",
            "Layer (type)                 Output Shape              Param #   \n",
            "=================================================================\n",
            "dense_21 (Dense)             (None, 10)                40        \n",
            "_________________________________________________________________\n",
            "dense_22 (Dense)             (None, 10)                110       \n",
            "_________________________________________________________________\n",
            "dense_23 (Dense)             (None, 17)                187       \n",
            "=================================================================\n",
            "Total params: 337\n",
            "Trainable params: 337\n",
            "Non-trainable params: 0\n",
            "_________________________________________________________________\n"
          ],
          "name": "stdout"
        },
        {
          "output_type": "execute_result",
          "data": {
            "text/plain": [
              "<IPython.core.display.SVG object>"
            ],
            "image/svg+xml": "<svg height=\"352pt\" viewBox=\"0.00 0.00 188.00 264.00\" width=\"251pt\" xmlns=\"http://www.w3.org/2000/svg\" xmlns:xlink=\"http://www.w3.org/1999/xlink\">\n<g class=\"graph\" id=\"graph0\" transform=\"scale(1.3333 1.3333) rotate(0) translate(4 260)\">\n<title>G</title>\n<polygon fill=\"#ffffff\" points=\"-4,4 -4,-260 184,-260 184,4 -4,4\" stroke=\"transparent\"/>\n<!-- 140111036161664 -->\n<g class=\"node\" id=\"node1\">\n<title>140111036161664</title>\n<polygon fill=\"none\" points=\"0,-219.5 0,-255.5 180,-255.5 180,-219.5 0,-219.5\" stroke=\"#000000\"/>\n<text fill=\"#000000\" font-family=\"Times,serif\" font-size=\"14.00\" text-anchor=\"middle\" x=\"90\" y=\"-233.8\">dense_21_input: InputLayer</text>\n</g>\n<!-- 140111036160488 -->\n<g class=\"node\" id=\"node2\">\n<title>140111036160488</title>\n<polygon fill=\"none\" points=\"33,-146.5 33,-182.5 147,-182.5 147,-146.5 33,-146.5\" stroke=\"#000000\"/>\n<text fill=\"#000000\" font-family=\"Times,serif\" font-size=\"14.00\" text-anchor=\"middle\" x=\"90\" y=\"-160.8\">dense_21: Dense</text>\n</g>\n<!-- 140111036161664&#45;&gt;140111036160488 -->\n<g class=\"edge\" id=\"edge1\">\n<title>140111036161664-&gt;140111036160488</title>\n<path d=\"M90,-219.4551C90,-211.3828 90,-201.6764 90,-192.6817\" fill=\"none\" stroke=\"#000000\"/>\n<polygon fill=\"#000000\" points=\"93.5001,-192.5903 90,-182.5904 86.5001,-192.5904 93.5001,-192.5903\" stroke=\"#000000\"/>\n</g>\n<!-- 140111036160880 -->\n<g class=\"node\" id=\"node3\">\n<title>140111036160880</title>\n<polygon fill=\"none\" points=\"33,-73.5 33,-109.5 147,-109.5 147,-73.5 33,-73.5\" stroke=\"#000000\"/>\n<text fill=\"#000000\" font-family=\"Times,serif\" font-size=\"14.00\" text-anchor=\"middle\" x=\"90\" y=\"-87.8\">dense_22: Dense</text>\n</g>\n<!-- 140111036160488&#45;&gt;140111036160880 -->\n<g class=\"edge\" id=\"edge2\">\n<title>140111036160488-&gt;140111036160880</title>\n<path d=\"M90,-146.4551C90,-138.3828 90,-128.6764 90,-119.6817\" fill=\"none\" stroke=\"#000000\"/>\n<polygon fill=\"#000000\" points=\"93.5001,-119.5903 90,-109.5904 86.5001,-119.5904 93.5001,-119.5903\" stroke=\"#000000\"/>\n</g>\n<!-- 140111036161216 -->\n<g class=\"node\" id=\"node4\">\n<title>140111036161216</title>\n<polygon fill=\"none\" points=\"33,-.5 33,-36.5 147,-36.5 147,-.5 33,-.5\" stroke=\"#000000\"/>\n<text fill=\"#000000\" font-family=\"Times,serif\" font-size=\"14.00\" text-anchor=\"middle\" x=\"90\" y=\"-14.8\">dense_23: Dense</text>\n</g>\n<!-- 140111036160880&#45;&gt;140111036161216 -->\n<g class=\"edge\" id=\"edge3\">\n<title>140111036160880-&gt;140111036161216</title>\n<path d=\"M90,-73.4551C90,-65.3828 90,-55.6764 90,-46.6817\" fill=\"none\" stroke=\"#000000\"/>\n<polygon fill=\"#000000\" points=\"93.5001,-46.5903 90,-36.5904 86.5001,-46.5904 93.5001,-46.5903\" stroke=\"#000000\"/>\n</g>\n</g>\n</svg>"
          },
          "metadata": {
            "tags": []
          },
          "execution_count": 25
        }
      ]
    },
    {
      "cell_type": "code",
      "metadata": {
        "id": "2KOLxM4X2db4",
        "colab_type": "code",
        "colab": {
          "base_uri": "https://localhost:8080/",
          "height": 892
        },
        "outputId": "d41d7fee-451a-4aad-9dd2-06f5c250fded"
      },
      "source": [
        "# Summary of neural network\n",
        "model.summary()\n",
        "\n",
        "# Output network visualization\n",
        "SVG(model_to_dot(model).create(prog='dot', format='svg'))"
      ],
      "execution_count": null,
      "outputs": [
        {
          "output_type": "stream",
          "text": [
            "Model: \"sequential_9\"\n",
            "_________________________________________________________________\n",
            "Layer (type)                 Output Shape              Param #   \n",
            "=================================================================\n",
            "conv2d_9 (Conv2D)            (None, 8, 4, 8)           80        \n",
            "_________________________________________________________________\n",
            "max_pooling2d_9 (MaxPooling2 (None, 4, 2, 8)           0         \n",
            "_________________________________________________________________\n",
            "flatten_9 (Flatten)          (None, 64)                0         \n",
            "_________________________________________________________________\n",
            "dense_9 (Dense)              (None, 17)                1105      \n",
            "=================================================================\n",
            "Total params: 1,185\n",
            "Trainable params: 1,185\n",
            "Non-trainable params: 0\n",
            "_________________________________________________________________\n"
          ],
          "name": "stdout"
        },
        {
          "output_type": "execute_result",
          "data": {
            "text/plain": [
              "<IPython.core.display.SVG object>"
            ],
            "image/svg+xml": "<svg height=\"449pt\" viewBox=\"0.00 0.00 229.00 337.00\" width=\"305pt\" xmlns=\"http://www.w3.org/2000/svg\" xmlns:xlink=\"http://www.w3.org/1999/xlink\">\n<g class=\"graph\" id=\"graph0\" transform=\"scale(1.3333 1.3333) rotate(0) translate(4 333)\">\n<title>G</title>\n<polygon fill=\"#ffffff\" points=\"-4,4 -4,-333 225,-333 225,4 -4,4\" stroke=\"transparent\"/>\n<!-- 140130574627112 -->\n<g class=\"node\" id=\"node1\">\n<title>140130574627112</title>\n<polygon fill=\"none\" points=\"18.5,-292.5 18.5,-328.5 202.5,-328.5 202.5,-292.5 18.5,-292.5\" stroke=\"#000000\"/>\n<text fill=\"#000000\" font-family=\"Times,serif\" font-size=\"14.00\" text-anchor=\"middle\" x=\"110.5\" y=\"-306.8\">conv2d_9_input: InputLayer</text>\n</g>\n<!-- 140130574601240 -->\n<g class=\"node\" id=\"node2\">\n<title>140130574601240</title>\n<polygon fill=\"none\" points=\"44,-219.5 44,-255.5 177,-255.5 177,-219.5 44,-219.5\" stroke=\"#000000\"/>\n<text fill=\"#000000\" font-family=\"Times,serif\" font-size=\"14.00\" text-anchor=\"middle\" x=\"110.5\" y=\"-233.8\">conv2d_9: Conv2D</text>\n</g>\n<!-- 140130574627112&#45;&gt;140130574601240 -->\n<g class=\"edge\" id=\"edge1\">\n<title>140130574627112-&gt;140130574601240</title>\n<path d=\"M110.5,-292.4551C110.5,-284.3828 110.5,-274.6764 110.5,-265.6817\" fill=\"none\" stroke=\"#000000\"/>\n<polygon fill=\"#000000\" points=\"114.0001,-265.5903 110.5,-255.5904 107.0001,-265.5904 114.0001,-265.5903\" stroke=\"#000000\"/>\n</g>\n<!-- 140130574601688 -->\n<g class=\"node\" id=\"node3\">\n<title>140130574601688</title>\n<polygon fill=\"none\" points=\"0,-146.5 0,-182.5 221,-182.5 221,-146.5 0,-146.5\" stroke=\"#000000\"/>\n<text fill=\"#000000\" font-family=\"Times,serif\" font-size=\"14.00\" text-anchor=\"middle\" x=\"110.5\" y=\"-160.8\">max_pooling2d_9: MaxPooling2D</text>\n</g>\n<!-- 140130574601240&#45;&gt;140130574601688 -->\n<g class=\"edge\" id=\"edge2\">\n<title>140130574601240-&gt;140130574601688</title>\n<path d=\"M110.5,-219.4551C110.5,-211.3828 110.5,-201.6764 110.5,-192.6817\" fill=\"none\" stroke=\"#000000\"/>\n<polygon fill=\"#000000\" points=\"114.0001,-192.5903 110.5,-182.5904 107.0001,-192.5904 114.0001,-192.5903\" stroke=\"#000000\"/>\n</g>\n<!-- 140130574601856 -->\n<g class=\"node\" id=\"node4\">\n<title>140130574601856</title>\n<polygon fill=\"none\" points=\"54,-73.5 54,-109.5 167,-109.5 167,-73.5 54,-73.5\" stroke=\"#000000\"/>\n<text fill=\"#000000\" font-family=\"Times,serif\" font-size=\"14.00\" text-anchor=\"middle\" x=\"110.5\" y=\"-87.8\">flatten_9: Flatten</text>\n</g>\n<!-- 140130574601688&#45;&gt;140130574601856 -->\n<g class=\"edge\" id=\"edge3\">\n<title>140130574601688-&gt;140130574601856</title>\n<path d=\"M110.5,-146.4551C110.5,-138.3828 110.5,-128.6764 110.5,-119.6817\" fill=\"none\" stroke=\"#000000\"/>\n<polygon fill=\"#000000\" points=\"114.0001,-119.5903 110.5,-109.5904 107.0001,-119.5904 114.0001,-119.5903\" stroke=\"#000000\"/>\n</g>\n<!-- 140130574601968 -->\n<g class=\"node\" id=\"node5\">\n<title>140130574601968</title>\n<polygon fill=\"none\" points=\"57,-.5 57,-36.5 164,-36.5 164,-.5 57,-.5\" stroke=\"#000000\"/>\n<text fill=\"#000000\" font-family=\"Times,serif\" font-size=\"14.00\" text-anchor=\"middle\" x=\"110.5\" y=\"-14.8\">dense_9: Dense</text>\n</g>\n<!-- 140130574601856&#45;&gt;140130574601968 -->\n<g class=\"edge\" id=\"edge4\">\n<title>140130574601856-&gt;140130574601968</title>\n<path d=\"M110.5,-73.4551C110.5,-65.3828 110.5,-55.6764 110.5,-46.6817\" fill=\"none\" stroke=\"#000000\"/>\n<polygon fill=\"#000000\" points=\"114.0001,-46.5903 110.5,-36.5904 107.0001,-46.5904 114.0001,-46.5903\" stroke=\"#000000\"/>\n</g>\n</g>\n</svg>"
          },
          "metadata": {
            "tags": []
          },
          "execution_count": 26
        }
      ]
    },
    {
      "cell_type": "code",
      "metadata": {
        "id": "ss56l70i308p",
        "colab_type": "code",
        "colab": {
          "base_uri": "https://localhost:8080/",
          "height": 1000
        },
        "outputId": "c2f7deda-4501-4fac-ef32-8c78950965f3"
      },
      "source": [
        "def DLSN_mc(X,y):   \n",
        "    #create model\n",
        "    X_train = X[:-200]\n",
        "    X_test = X[-200:]\n",
        "    y_train = y[:-200]\n",
        "    y_test = y[-200:]\n",
        "    X_train=np.expand_dims(X_train, axis=3)\n",
        "    X_test=np.expand_dims(X_test, axis=3)\n",
        "    num_filters = 32\n",
        "    filter_size = 4\n",
        "    pool_size = 2\n",
        "\n",
        "    model = Sequential([\n",
        "      Conv2D(num_filters, filter_size, input_shape=(10, 6, 1)),\n",
        "      MaxPooling2D(pool_size=pool_size),\n",
        "      Flatten(),\n",
        "      Dense(17, activation='relu'),\n",
        "    ])\n",
        "    model.compile(optimizer='adam', loss='mean_squared_error',)\n",
        "    early_stopping_monitor = EarlyStopping(patience=3)\n",
        "    model.fit(X_train, to_categorical(y_train), validation_data=(X_test, to_categorical(y_test)),\n",
        "              epochs=30, callbacks=[early_stopping_monitor],)\n",
        "    # Evaluate the model on the test data using `evaluate`\n",
        "    print(\"Evaluate on test data\")\n",
        "    results = model.evaluate(X_test, to_categorical(y_test), verbose=0)\n",
        "    print(\"test loss:\", results)\n",
        "    # Generate predictions (probabilities -- the output of the last layer)\n",
        "    # on new data using `predict`\n",
        "\n",
        "    print(\"Generate predictions for 3 samples\")\n",
        "    predictions = model.predict(X_test[:7])\n",
        "\n",
        "    print(predictions)\n",
        "    \n",
        "    return model\n",
        "\n",
        "\n",
        "model_mc=DLSN_mc(X,y)\n",
        "y_test[:7]\n",
        "# Summary of neural network\n",
        "model_mc.summary()\n",
        "\n",
        "# Output network visualization\n",
        "SVG(model_to_dot(model_mc).create(prog='dot', format='svg'))"
      ],
      "execution_count": null,
      "outputs": [
        {
          "output_type": "stream",
          "text": [
            "Train on 800 samples, validate on 200 samples\n",
            "Epoch 1/30\n",
            "800/800 [==============================] - 0s 151us/step - loss: 0.2007 - val_loss: 0.0589\n",
            "Epoch 2/30\n",
            "800/800 [==============================] - 0s 61us/step - loss: 0.0580 - val_loss: 0.0579\n",
            "Epoch 3/30\n",
            "800/800 [==============================] - 0s 63us/step - loss: 0.0576 - val_loss: 0.0579\n",
            "Epoch 4/30\n",
            "800/800 [==============================] - 0s 62us/step - loss: 0.0576 - val_loss: 0.0586\n",
            "Epoch 5/30\n",
            "800/800 [==============================] - 0s 61us/step - loss: 0.0576 - val_loss: 0.0582\n",
            "Evaluate on test data\n",
            "test loss: 0.05815333008766174\n",
            "Generate predictions for 3 samples\n",
            "[[0.         0.         0.         0.         0.         0.\n",
            "  0.         0.         0.         0.         0.         0.02648708\n",
            "  0.         0.         0.         0.         0.        ]\n",
            " [0.         0.         0.         0.         0.         0.\n",
            "  0.         0.         0.         0.         0.         0.32064438\n",
            "  0.         0.         0.         0.         0.        ]\n",
            " [0.         0.         0.         0.         0.         0.\n",
            "  0.         0.         0.         0.         0.         0.3437039\n",
            "  0.         0.         0.         0.         0.        ]\n",
            " [0.         0.         0.         0.         0.         0.\n",
            "  0.         0.         0.         0.         0.25653768 0.\n",
            "  0.         0.         0.         0.         0.        ]\n",
            " [0.         0.         0.         0.         0.         0.\n",
            "  0.         0.         0.         0.         0.32663214 0.\n",
            "  0.         0.         0.         0.         0.        ]\n",
            " [0.         0.         0.         0.         0.         0.\n",
            "  0.         0.         0.         0.         0.         0.\n",
            "  0.         0.         0.         0.         0.        ]\n",
            " [0.         0.         0.         0.         0.         0.\n",
            "  0.         0.         0.         0.         0.         0.03337122\n",
            "  0.         0.         0.         0.         0.        ]]\n",
            "Model: \"sequential_9\"\n",
            "_________________________________________________________________\n",
            "Layer (type)                 Output Shape              Param #   \n",
            "=================================================================\n",
            "conv2d_9 (Conv2D)            (None, 8, 4, 8)           80        \n",
            "_________________________________________________________________\n",
            "max_pooling2d_9 (MaxPooling2 (None, 4, 2, 8)           0         \n",
            "_________________________________________________________________\n",
            "flatten_9 (Flatten)          (None, 64)                0         \n",
            "_________________________________________________________________\n",
            "dense_9 (Dense)              (None, 17)                1105      \n",
            "=================================================================\n",
            "Total params: 1,185\n",
            "Trainable params: 1,185\n",
            "Non-trainable params: 0\n",
            "_________________________________________________________________\n"
          ],
          "name": "stdout"
        },
        {
          "output_type": "execute_result",
          "data": {
            "text/plain": [
              "<IPython.core.display.SVG object>"
            ],
            "image/svg+xml": "<svg height=\"449pt\" viewBox=\"0.00 0.00 229.00 337.00\" width=\"305pt\" xmlns=\"http://www.w3.org/2000/svg\" xmlns:xlink=\"http://www.w3.org/1999/xlink\">\n<g class=\"graph\" id=\"graph0\" transform=\"scale(1.3333 1.3333) rotate(0) translate(4 333)\">\n<title>G</title>\n<polygon fill=\"#ffffff\" points=\"-4,4 -4,-333 225,-333 225,4 -4,4\" stroke=\"transparent\"/>\n<!-- 140130574627112 -->\n<g class=\"node\" id=\"node1\">\n<title>140130574627112</title>\n<polygon fill=\"none\" points=\"18.5,-292.5 18.5,-328.5 202.5,-328.5 202.5,-292.5 18.5,-292.5\" stroke=\"#000000\"/>\n<text fill=\"#000000\" font-family=\"Times,serif\" font-size=\"14.00\" text-anchor=\"middle\" x=\"110.5\" y=\"-306.8\">conv2d_9_input: InputLayer</text>\n</g>\n<!-- 140130574601240 -->\n<g class=\"node\" id=\"node2\">\n<title>140130574601240</title>\n<polygon fill=\"none\" points=\"44,-219.5 44,-255.5 177,-255.5 177,-219.5 44,-219.5\" stroke=\"#000000\"/>\n<text fill=\"#000000\" font-family=\"Times,serif\" font-size=\"14.00\" text-anchor=\"middle\" x=\"110.5\" y=\"-233.8\">conv2d_9: Conv2D</text>\n</g>\n<!-- 140130574627112&#45;&gt;140130574601240 -->\n<g class=\"edge\" id=\"edge1\">\n<title>140130574627112-&gt;140130574601240</title>\n<path d=\"M110.5,-292.4551C110.5,-284.3828 110.5,-274.6764 110.5,-265.6817\" fill=\"none\" stroke=\"#000000\"/>\n<polygon fill=\"#000000\" points=\"114.0001,-265.5903 110.5,-255.5904 107.0001,-265.5904 114.0001,-265.5903\" stroke=\"#000000\"/>\n</g>\n<!-- 140130574601688 -->\n<g class=\"node\" id=\"node3\">\n<title>140130574601688</title>\n<polygon fill=\"none\" points=\"0,-146.5 0,-182.5 221,-182.5 221,-146.5 0,-146.5\" stroke=\"#000000\"/>\n<text fill=\"#000000\" font-family=\"Times,serif\" font-size=\"14.00\" text-anchor=\"middle\" x=\"110.5\" y=\"-160.8\">max_pooling2d_9: MaxPooling2D</text>\n</g>\n<!-- 140130574601240&#45;&gt;140130574601688 -->\n<g class=\"edge\" id=\"edge2\">\n<title>140130574601240-&gt;140130574601688</title>\n<path d=\"M110.5,-219.4551C110.5,-211.3828 110.5,-201.6764 110.5,-192.6817\" fill=\"none\" stroke=\"#000000\"/>\n<polygon fill=\"#000000\" points=\"114.0001,-192.5903 110.5,-182.5904 107.0001,-192.5904 114.0001,-192.5903\" stroke=\"#000000\"/>\n</g>\n<!-- 140130574601856 -->\n<g class=\"node\" id=\"node4\">\n<title>140130574601856</title>\n<polygon fill=\"none\" points=\"54,-73.5 54,-109.5 167,-109.5 167,-73.5 54,-73.5\" stroke=\"#000000\"/>\n<text fill=\"#000000\" font-family=\"Times,serif\" font-size=\"14.00\" text-anchor=\"middle\" x=\"110.5\" y=\"-87.8\">flatten_9: Flatten</text>\n</g>\n<!-- 140130574601688&#45;&gt;140130574601856 -->\n<g class=\"edge\" id=\"edge3\">\n<title>140130574601688-&gt;140130574601856</title>\n<path d=\"M110.5,-146.4551C110.5,-138.3828 110.5,-128.6764 110.5,-119.6817\" fill=\"none\" stroke=\"#000000\"/>\n<polygon fill=\"#000000\" points=\"114.0001,-119.5903 110.5,-109.5904 107.0001,-119.5904 114.0001,-119.5903\" stroke=\"#000000\"/>\n</g>\n<!-- 140130574601968 -->\n<g class=\"node\" id=\"node5\">\n<title>140130574601968</title>\n<polygon fill=\"none\" points=\"57,-.5 57,-36.5 164,-36.5 164,-.5 57,-.5\" stroke=\"#000000\"/>\n<text fill=\"#000000\" font-family=\"Times,serif\" font-size=\"14.00\" text-anchor=\"middle\" x=\"110.5\" y=\"-14.8\">dense_9: Dense</text>\n</g>\n<!-- 140130574601856&#45;&gt;140130574601968 -->\n<g class=\"edge\" id=\"edge4\">\n<title>140130574601856-&gt;140130574601968</title>\n<path d=\"M110.5,-73.4551C110.5,-65.3828 110.5,-55.6764 110.5,-46.6817\" fill=\"none\" stroke=\"#000000\"/>\n<polygon fill=\"#000000\" points=\"114.0001,-46.5903 110.5,-36.5904 107.0001,-46.5904 114.0001,-46.5903\" stroke=\"#000000\"/>\n</g>\n</g>\n</svg>"
          },
          "metadata": {
            "tags": []
          },
          "execution_count": 27
        }
      ]
    }
  ]
}