{
  "nbformat": 4,
  "nbformat_minor": 0,
  "metadata": {
    "colab": {
      "name": "Keras 8/2.ipynb",
      "provenance": [],
      "collapsed_sections": [],
      "mount_file_id": "1zlxxtBNTSHHvnSdayec0gJfTo0Ihkv72",
      "authorship_tag": "ABX9TyP/czh9dg3Yo46IJ/5YX1eE",
      "include_colab_link": true
    },
    "kernelspec": {
      "name": "python3",
      "display_name": "Python 3"
    }
  },
  "cells": [
    {
      "cell_type": "markdown",
      "metadata": {
        "id": "view-in-github",
        "colab_type": "text"
      },
      "source": [
        "<a href=\"https://colab.research.google.com/github/Freya-LR/strategic_network/blob/master/Keras.ipynb\" target=\"_parent\"><img src=\"https://colab.research.google.com/assets/colab-badge.svg\" alt=\"Open In Colab\"/></a>"
      ]
    },
    {
      "cell_type": "code",
      "metadata": {
        "id": "9iJWK1hMwMpz",
        "colab_type": "code",
        "colab": {
          "base_uri": "https://localhost:8080/",
          "height": 139
        },
        "outputId": "eaddab32-377c-4e4e-9f0d-eb4814cd7736"
      },
      "source": [
        "\n",
        "import pandas as pd\n",
        "import networkx as nx\n",
        "import numpy as np\n",
        "import matplotlib.pyplot as plt\n",
        "from matplotlib.backends.backend_pdf import PdfPages, FigureCanvasPdf\n",
        "from matplotlib.figure import Figure\n",
        "import keras\n",
        "from keras.models import Model ,Sequential \n",
        "from keras import layers\n",
        "from keras.layers import Conv2D, MaxPooling2D, Dense, Flatten\n",
        "from keras.callbacks import EarlyStopping\n",
        "from keras.utils import to_categorical\n",
        "from keras.utils.vis_utils import model_to_dot\n",
        "from sklearn.model_selection import train_test_split\n",
        "\n",
        "import warnings\n",
        "import matplotlib.cbook\n",
        "from IPython.display import SVG\n",
        "warnings.filterwarnings(\"ignore\",category=matplotlib.cbook.mplDeprecation)\n",
        "from google.colab import drive\n",
        "drive.mount('/content/drive')\n"
      ],
      "execution_count": null,
      "outputs": [
        {
          "output_type": "stream",
          "text": [
            "Using TensorFlow backend.\n"
          ],
          "name": "stderr"
        },
        {
          "output_type": "stream",
          "text": [
            "Go to this URL in a browser: https://accounts.google.com/o/oauth2/auth?client_id=947318989803-6bn6qk8qdgf4n4g3pfee6491hc0brc4i.apps.googleusercontent.com&redirect_uri=urn%3aietf%3awg%3aoauth%3a2.0%3aoob&response_type=code&scope=email%20https%3a%2f%2fwww.googleapis.com%2fauth%2fdocs.test%20https%3a%2f%2fwww.googleapis.com%2fauth%2fdrive%20https%3a%2f%2fwww.googleapis.com%2fauth%2fdrive.photos.readonly%20https%3a%2f%2fwww.googleapis.com%2fauth%2fpeopleapi.readonly\n",
            "\n",
            "Enter your authorization code:\n",
            "··········\n",
            "Mounted at /content/drive\n"
          ],
          "name": "stdout"
        }
      ]
    },
    {
      "cell_type": "code",
      "metadata": {
        "id": "C_gpJ1VUwRQA",
        "colab_type": "code",
        "colab": {}
      },
      "source": [
        "\n",
        "with pd.ExcelFile('/content/drive/My Drive/output_values/output_n10_3.xlsx') as reader:\n",
        "    \n",
        "    closeness_n10_3=pd.read_excel(reader,sheet_name=\"closeness_centrality\")\n",
        "    betweenness_n10_3=pd.read_excel(reader,sheet_name=\"betweenness_centrality\")\n",
        "    eigenvector_n10_3=pd.read_excel(reader,sheet_name=\"eigenvector_centrality\")\n",
        "    page_rank_n10_3=pd.read_excel(reader,sheet_name=\"page_rank\")\n",
        "    triangles_n10_3=pd.read_excel(reader,sheet_name=\"triangles\")\n",
        "    clustering_n10_3=pd.read_excel(reader,sheet_name=\"clustering\")\n",
        "    wiener_index_n10_3=pd.read_excel(reader,sheet_name=\"wiener_index\")\n",
        "    transitivity_n10_3=pd.read_excel(reader,sheet_name=\"transitivity\")\n",
        "    diameter_radius_center_periphery_density_n10_3=pd.read_excel(reader,sheet_name=\"d_r_c_p_d\")\n",
        "    Efficiency_loss_n10_3=pd.read_excel(reader,sheet_name=\"Efficiency_loss\")\n",
        "\n",
        "\n"
      ],
      "execution_count": null,
      "outputs": []
    },
    {
      "cell_type": "code",
      "metadata": {
        "id": "89kbgPc5wT0B",
        "colab_type": "code",
        "colab": {}
      },
      "source": [
        "\n",
        "def com_data(n,closeness, betweenness, eigenvector,page_rank,triangles,clustering,wiener_index,transitivity,\n",
        "             diameter_radius_center_periphery_density,Efficiency_loss):\n",
        "    la=np.zeros((n,3))\n",
        "    for i in range(n):\n",
        "        la[i]=[wiener_index[0][i],transitivity[0][i],diameter_radius_center_periphery_density[4][i]]\n",
        "\n",
        "    Y = np.array(Efficiency_loss[0])\n",
        "    l=np.zeros((n,10,6))\n",
        "    for i in range(n):\n",
        "        for j in range(10):\n",
        "            l[i][j]=[closeness[j][i],betweenness[j][i],eigenvector[j][i],page_rank[j][i],triangles[j][i],clustering[j][i]]\n",
        "    print(l.shape)\n",
        "    print(Y.shape)\n",
        "    print(la.shape)\n",
        "    return l, la, Y\n"
      ],
      "execution_count": null,
      "outputs": []
    },
    {
      "cell_type": "code",
      "metadata": {
        "id": "q5cDTv8mwbEf",
        "colab_type": "code",
        "colab": {}
      },
      "source": [
        "def CNN(X,y):    #convolutional\n",
        "    #create model\n",
        "    X_train, X_test, y_train, y_test = train_test_split(X, y, test_size=0.13, random_state=42)\n",
        "    num_out_layer=int(max(y_train)+1)\n",
        "    X_train=np.expand_dims(X_train, axis=3)\n",
        "    X_test=np.expand_dims(X_test, axis=3)\n",
        "    num_filters = 8\n",
        "    filter_size = 3\n",
        "    pool_size = 2\n",
        "\n",
        "    model = Sequential([\n",
        "      Conv2D(num_filters, filter_size, input_shape=(10, 6, 1)),\n",
        "      MaxPooling2D(pool_size=pool_size),\n",
        "      Flatten(),\n",
        "      Dense(num_out_layer, activation='relu'),\n",
        "    ])\n",
        "    model.compile(optimizer='adam', loss='mean_squared_error',)\n",
        "    early_stopping_monitor = EarlyStopping(patience=3)\n",
        "    model.fit(X_train, to_categorical(y_train),\n",
        "              validation_data=(X_test, to_categorical(y_test,num_classes=num_out_layer)),\n",
        "              epochs=30, callbacks=[early_stopping_monitor],)\n",
        "    # Evaluate the model on the test data using `evaluate`\n",
        "    print(\"Evaluate on test data\")\n",
        "    results = model.evaluate(X_test, to_categorical(y_test,num_classes=num_out_layer), verbose=0)\n",
        "    print(\"test loss:\", results)\n",
        "    # Generate predictions (probabilities -- the output of the last layer)\n",
        "    # on new data using `predict`\n",
        "\n",
        "    print(\"Generate predictions for 3 samples\")\n",
        "    predictions = model.predict(X_test[:3])\n",
        "\n",
        "    print(predictions)\n",
        "    \n",
        "    return model\n",
        "\n",
        "\n",
        "\n"
      ],
      "execution_count": null,
      "outputs": []
    },
    {
      "cell_type": "code",
      "metadata": {
        "id": "-wRGiZxpWXQA",
        "colab_type": "code",
        "colab": {
          "base_uri": "https://localhost:8080/",
          "height": 867
        },
        "outputId": "121f76ca-3345-4a1c-8ec2-b032ad4c3920"
      },
      "source": [
        "X, Xa, y=com_data(1000, closeness_n10_3, betweenness_n10_3, eigenvector_n10_3,page_rank_n10_3,triangles_n10_3,clustering_n10_3,\n",
        "\n",
        "        wiener_index_n10_3,transitivity_n10_3,diameter_radius_center_periphery_density_n10_3,Efficiency_loss_n10_3)\n",
        "\n",
        "\n",
        "model=CNN(X,y)\n"
      ],
      "execution_count": null,
      "outputs": [
        {
          "output_type": "stream",
          "text": [
            "(1000, 10, 6)\n",
            "(1000,)\n",
            "(1000, 3)\n",
            "Train on 870 samples, validate on 130 samples\n",
            "Epoch 1/30\n",
            "870/870 [==============================] - 0s 136us/step - loss: 4.2585 - val_loss: 1.1256\n",
            "Epoch 2/30\n",
            "870/870 [==============================] - 0s 64us/step - loss: 0.5038 - val_loss: 0.1498\n",
            "Epoch 3/30\n",
            "870/870 [==============================] - 0s 67us/step - loss: 0.0952 - val_loss: 0.0673\n",
            "Epoch 4/30\n",
            "870/870 [==============================] - 0s 64us/step - loss: 0.0655 - val_loss: 0.0612\n",
            "Epoch 5/30\n",
            "870/870 [==============================] - 0s 62us/step - loss: 0.0620 - val_loss: 0.0601\n",
            "Epoch 6/30\n",
            "870/870 [==============================] - 0s 67us/step - loss: 0.0608 - val_loss: 0.0597\n",
            "Epoch 7/30\n",
            "870/870 [==============================] - 0s 64us/step - loss: 0.0602 - val_loss: 0.0596\n",
            "Epoch 8/30\n",
            "870/870 [==============================] - 0s 75us/step - loss: 0.0598 - val_loss: 0.0594\n",
            "Epoch 9/30\n",
            "870/870 [==============================] - 0s 78us/step - loss: 0.0597 - val_loss: 0.0593\n",
            "Epoch 10/30\n",
            "870/870 [==============================] - 0s 73us/step - loss: 0.0594 - val_loss: 0.0593\n",
            "Epoch 11/30\n",
            "870/870 [==============================] - 0s 82us/step - loss: 0.0593 - val_loss: 0.0592\n",
            "Epoch 12/30\n",
            "870/870 [==============================] - 0s 70us/step - loss: 0.0592 - val_loss: 0.0592\n",
            "Epoch 13/30\n",
            "870/870 [==============================] - 0s 75us/step - loss: 0.0592 - val_loss: 0.0592\n",
            "Epoch 14/30\n",
            "870/870 [==============================] - 0s 86us/step - loss: 0.0591 - val_loss: 0.0592\n",
            "Epoch 15/30\n",
            "870/870 [==============================] - 0s 70us/step - loss: 0.0591 - val_loss: 0.0591\n",
            "Epoch 16/30\n",
            "870/870 [==============================] - 0s 72us/step - loss: 0.0590 - val_loss: 0.0591\n",
            "Epoch 17/30\n",
            "870/870 [==============================] - 0s 68us/step - loss: 0.0590 - val_loss: 0.0590\n",
            "Epoch 18/30\n",
            "870/870 [==============================] - 0s 78us/step - loss: 0.0590 - val_loss: 0.0591\n",
            "Epoch 19/30\n",
            "870/870 [==============================] - 0s 70us/step - loss: 0.0590 - val_loss: 0.0591\n",
            "Epoch 20/30\n",
            "870/870 [==============================] - 0s 65us/step - loss: 0.0589 - val_loss: 0.0591\n",
            "Evaluate on test data\n",
            "test loss: 0.059058050983227216\n",
            "Generate predictions for 3 samples\n",
            "[[0. 0. 0. 0. 0. 0. 0. 0. 0. 0. 0. 0. 0. 0. 0. 0. 0.]\n",
            " [0. 0. 0. 0. 0. 0. 0. 0. 0. 0. 0. 0. 0. 0. 0. 0. 0.]\n",
            " [0. 0. 0. 0. 0. 0. 0. 0. 0. 0. 0. 0. 0. 0. 0. 0. 0.]]\n"
          ],
          "name": "stdout"
        }
      ]
    },
    {
      "cell_type": "code",
      "metadata": {
        "id": "2KOLxM4X2db4",
        "colab_type": "code",
        "colab": {
          "base_uri": "https://localhost:8080/",
          "height": 730
        },
        "outputId": "b1453020-1279-42ba-a23a-8db1501d7a88"
      },
      "source": [
        "# Summary of neural network\n",
        "model.summary()\n",
        "\n",
        "# Output network visualization\n",
        "SVG(model_to_dot(model,show_layer_names=True, rankdir='TB',\n",
        "    expand_nested=False, dpi=70).create(prog='dot', format='svg'))"
      ],
      "execution_count": null,
      "outputs": [
        {
          "output_type": "stream",
          "text": [
            "Model: \"sequential_2\"\n",
            "_________________________________________________________________\n",
            "Layer (type)                 Output Shape              Param #   \n",
            "=================================================================\n",
            "conv2d_2 (Conv2D)            (None, 8, 4, 8)           80        \n",
            "_________________________________________________________________\n",
            "max_pooling2d_2 (MaxPooling2 (None, 4, 2, 8)           0         \n",
            "_________________________________________________________________\n",
            "flatten_2 (Flatten)          (None, 64)                0         \n",
            "_________________________________________________________________\n",
            "dense_2 (Dense)              (None, 17)                1105      \n",
            "=================================================================\n",
            "Total params: 1,185\n",
            "Trainable params: 1,185\n",
            "Non-trainable params: 0\n",
            "_________________________________________________________________\n"
          ],
          "name": "stdout"
        },
        {
          "output_type": "execute_result",
          "data": {
            "text/plain": [
              "<IPython.core.display.SVG object>"
            ],
            "image/svg+xml": "<svg height=\"328pt\" viewBox=\"0.00 0.00 229.00 337.00\" width=\"223pt\" xmlns=\"http://www.w3.org/2000/svg\" xmlns:xlink=\"http://www.w3.org/1999/xlink\">\n<g class=\"graph\" id=\"graph0\" transform=\"scale(.9722 .9722) rotate(0) translate(4 333)\">\n<title>G</title>\n<polygon fill=\"#ffffff\" points=\"-4,4 -4,-333 225,-333 225,4 -4,4\" stroke=\"transparent\"/>\n<!-- 140057771827496 -->\n<g class=\"node\" id=\"node1\">\n<title>140057771827496</title>\n<polygon fill=\"none\" points=\"18.5,-292.5 18.5,-328.5 202.5,-328.5 202.5,-292.5 18.5,-292.5\" stroke=\"#000000\"/>\n<text fill=\"#000000\" font-family=\"Times,serif\" font-size=\"14.00\" text-anchor=\"middle\" x=\"110.5\" y=\"-306.8\">conv2d_2_input: InputLayer</text>\n</g>\n<!-- 140057785621696 -->\n<g class=\"node\" id=\"node2\">\n<title>140057785621696</title>\n<polygon fill=\"none\" points=\"44,-219.5 44,-255.5 177,-255.5 177,-219.5 44,-219.5\" stroke=\"#000000\"/>\n<text fill=\"#000000\" font-family=\"Times,serif\" font-size=\"14.00\" text-anchor=\"middle\" x=\"110.5\" y=\"-233.8\">conv2d_2: Conv2D</text>\n</g>\n<!-- 140057771827496&#45;&gt;140057785621696 -->\n<g class=\"edge\" id=\"edge1\">\n<title>140057771827496-&gt;140057785621696</title>\n<path d=\"M110.5,-292.4551C110.5,-284.3828 110.5,-274.6764 110.5,-265.6817\" fill=\"none\" stroke=\"#000000\"/>\n<polygon fill=\"#000000\" points=\"114.0001,-265.5903 110.5,-255.5904 107.0001,-265.5904 114.0001,-265.5903\" stroke=\"#000000\"/>\n</g>\n<!-- 140057785622032 -->\n<g class=\"node\" id=\"node3\">\n<title>140057785622032</title>\n<polygon fill=\"none\" points=\"0,-146.5 0,-182.5 221,-182.5 221,-146.5 0,-146.5\" stroke=\"#000000\"/>\n<text fill=\"#000000\" font-family=\"Times,serif\" font-size=\"14.00\" text-anchor=\"middle\" x=\"110.5\" y=\"-160.8\">max_pooling2d_2: MaxPooling2D</text>\n</g>\n<!-- 140057785621696&#45;&gt;140057785622032 -->\n<g class=\"edge\" id=\"edge2\">\n<title>140057785621696-&gt;140057785622032</title>\n<path d=\"M110.5,-219.4551C110.5,-211.3828 110.5,-201.6764 110.5,-192.6817\" fill=\"none\" stroke=\"#000000\"/>\n<polygon fill=\"#000000\" points=\"114.0001,-192.5903 110.5,-182.5904 107.0001,-192.5904 114.0001,-192.5903\" stroke=\"#000000\"/>\n</g>\n<!-- 140057785622200 -->\n<g class=\"node\" id=\"node4\">\n<title>140057785622200</title>\n<polygon fill=\"none\" points=\"54,-73.5 54,-109.5 167,-109.5 167,-73.5 54,-73.5\" stroke=\"#000000\"/>\n<text fill=\"#000000\" font-family=\"Times,serif\" font-size=\"14.00\" text-anchor=\"middle\" x=\"110.5\" y=\"-87.8\">flatten_2: Flatten</text>\n</g>\n<!-- 140057785622032&#45;&gt;140057785622200 -->\n<g class=\"edge\" id=\"edge3\">\n<title>140057785622032-&gt;140057785622200</title>\n<path d=\"M110.5,-146.4551C110.5,-138.3828 110.5,-128.6764 110.5,-119.6817\" fill=\"none\" stroke=\"#000000\"/>\n<polygon fill=\"#000000\" points=\"114.0001,-119.5903 110.5,-109.5904 107.0001,-119.5904 114.0001,-119.5903\" stroke=\"#000000\"/>\n</g>\n<!-- 140057785622312 -->\n<g class=\"node\" id=\"node5\">\n<title>140057785622312</title>\n<polygon fill=\"none\" points=\"57,-.5 57,-36.5 164,-36.5 164,-.5 57,-.5\" stroke=\"#000000\"/>\n<text fill=\"#000000\" font-family=\"Times,serif\" font-size=\"14.00\" text-anchor=\"middle\" x=\"110.5\" y=\"-14.8\">dense_2: Dense</text>\n</g>\n<!-- 140057785622200&#45;&gt;140057785622312 -->\n<g class=\"edge\" id=\"edge4\">\n<title>140057785622200-&gt;140057785622312</title>\n<path d=\"M110.5,-73.4551C110.5,-65.3828 110.5,-55.6764 110.5,-46.6817\" fill=\"none\" stroke=\"#000000\"/>\n<polygon fill=\"#000000\" points=\"114.0001,-46.5903 110.5,-36.5904 107.0001,-46.5904 114.0001,-46.5903\" stroke=\"#000000\"/>\n</g>\n</g>\n</svg>"
          },
          "metadata": {
            "tags": []
          },
          "execution_count": 7
        }
      ]
    },
    {
      "cell_type": "code",
      "metadata": {
        "id": "cV9ScVSA73Gh",
        "colab_type": "code",
        "colab": {}
      },
      "source": [
        "def CNN_s(X,y):   # 2d parameters without convolutional\n",
        "    #create model\n",
        "    X_train, X_test, y_train, y_test = train_test_split(X, y, test_size=0.13, random_state=42)\n",
        "    num_out_layer=int(max(y_train)+1)\n",
        "    model = Sequential([\n",
        "      Dense(10, activation='relu',input_shape=(3, )),\n",
        "      Dense(10,activation='relu'),\n",
        "      Dense(num_out_layer),\n",
        "    ])\n",
        "    model.compile(optimizer='adam', loss='mean_squared_error',)\n",
        "    early_stopping_monitor = EarlyStopping(patience=3)\n",
        "    model.fit(X_train, to_categorical(y_train),\n",
        "              validation_data=(X_test, to_categorical(y_test,num_classes=num_out_layer)),\n",
        "              epochs=30, callbacks=[early_stopping_monitor],)\n",
        "    # Evaluate the model on the test data using `evaluate`\n",
        "    print(\"Evaluate on test data\")\n",
        "    results = model.evaluate(X_test, to_categorical(y_test,num_classes=num_out_layer), verbose=0)\n",
        "    print(\"test loss:\", results)\n",
        "    # Generate predictions (probabilities -- the output of the last layer)\n",
        "    # on new data using `predict`\n",
        "\n",
        "    print(\"Generate predictions for 3 samples\")\n",
        "    predictions = model.predict(X_test[:3])\n",
        "\n",
        "    print(predictions)\n",
        "    \n",
        "    return model\n",
        "\n"
      ],
      "execution_count": null,
      "outputs": []
    },
    {
      "cell_type": "code",
      "metadata": {
        "id": "-T4oVryA77Ca",
        "colab_type": "code",
        "colab": {}
      },
      "source": [
        "model_s=CNN_s(Xa,y)\n",
        "# Summary of neural network\n",
        "model_s.summary()\n",
        "\n",
        "# Output network visualization\n",
        "SVG(model_to_dot(model_s,show_layer_names=True, rankdir='TB',\n",
        "    expand_nested=False, dpi=70).create(prog='dot', format='svg'))"
      ],
      "execution_count": null,
      "outputs": []
    },
    {
      "cell_type": "code",
      "metadata": {
        "id": "ss56l70i308p",
        "colab_type": "code",
        "colab": {}
      },
      "source": [
        "def CNN_mc(X,y):   # change numbers of filter in convolutional\n",
        "    #create model\n",
        "    X_train, X_test, y_train, y_test = train_test_split(X, y, test_size=0.13, random_state=42)\n",
        "    num_out_layer=int(max(y_train)+1)\n",
        "    X_train=np.expand_dims(X_train, axis=3)\n",
        "    X_test=np.expand_dims(X_test, axis=3)\n",
        "    num_filters = 32\n",
        "    filter_size = 4\n",
        "    pool_size = 2\n",
        "\n",
        "    model = Sequential([\n",
        "      Conv2D(num_filters, filter_size, input_shape=(10, 6, 1)),\n",
        "      MaxPooling2D(pool_size=pool_size),\n",
        "      Flatten(),\n",
        "      Dense(num_out_layer, activation='relu'),\n",
        "    ])\n",
        "    model.compile(optimizer='adam', loss='mean_squared_error',)\n",
        "    early_stopping_monitor = EarlyStopping(patience=3)\n",
        "    model.fit(X_train, to_categorical(y_train), \n",
        "              validation_data=(X_test, to_categorical(y_test,num_classes=num_out_layer)),\n",
        "              epochs=30, callbacks=[early_stopping_monitor],)\n",
        "    # Evaluate the model on the test data using `evaluate`\n",
        "    print(\"Evaluate on test data\")\n",
        "    results = model.evaluate(X_test, to_categorical(y_test,num_classes=num_out_layer), verbose=0)\n",
        "    print(\"test loss:\", results)\n",
        "    # Generate predictions (probabilities -- the output of the last layer)\n",
        "    # on new data using `predict`\n",
        "\n",
        "    print(\"Generate predictions for 3 samples\")\n",
        "    predictions = model.predict(X_test[:7])\n",
        "\n",
        "    print(predictions)\n",
        "    \n",
        "    return model\n",
        "\n",
        "\n"
      ],
      "execution_count": null,
      "outputs": []
    },
    {
      "cell_type": "code",
      "metadata": {
        "id": "ywNH-U2VtnWY",
        "colab_type": "code",
        "colab": {
          "base_uri": "https://localhost:8080/",
          "height": 714
        },
        "outputId": "81e98bc6-9f5e-48d0-8419-ef79bda8b788"
      },
      "source": [
        "model_mc=CNN_mc(X,y)\n",
        "\n"
      ],
      "execution_count": null,
      "outputs": [
        {
          "output_type": "stream",
          "text": [
            "Train on 870 samples, validate on 130 samples\n",
            "Epoch 1/30\n",
            "870/870 [==============================] - 0s 142us/step - loss: 0.8170 - val_loss: 0.0597\n",
            "Epoch 2/30\n",
            "870/870 [==============================] - 0s 84us/step - loss: 0.0591 - val_loss: 0.0582\n",
            "Epoch 3/30\n",
            "870/870 [==============================] - 0s 72us/step - loss: 0.0587 - val_loss: 0.0582\n",
            "Epoch 4/30\n",
            "870/870 [==============================] - 0s 68us/step - loss: 0.0586 - val_loss: 0.0583\n",
            "Epoch 5/30\n",
            "870/870 [==============================] - 0s 65us/step - loss: 0.0586 - val_loss: 0.0581\n",
            "Epoch 6/30\n",
            "870/870 [==============================] - 0s 75us/step - loss: 0.0586 - val_loss: 0.0583\n",
            "Epoch 7/30\n",
            "870/870 [==============================] - 0s 64us/step - loss: 0.0586 - val_loss: 0.0582\n",
            "Epoch 8/30\n",
            "870/870 [==============================] - 0s 62us/step - loss: 0.0586 - val_loss: 0.0585\n",
            "Evaluate on test data\n",
            "test loss: 0.05846380734672913\n",
            "Generate predictions for 3 samples\n",
            "[[0.         0.         0.         0.         0.         0.\n",
            "  0.         0.         0.         0.         0.         0.\n",
            "  0.         0.         0.         0.         0.        ]\n",
            " [0.         0.         0.         0.         0.         0.\n",
            "  0.         0.         0.         0.         0.         0.\n",
            "  0.         0.         0.         0.         0.        ]\n",
            " [0.         0.         0.         0.         0.         0.\n",
            "  0.         0.         0.         0.         0.         0.\n",
            "  0.         0.         0.         0.         0.        ]\n",
            " [0.         0.         0.         0.         0.         0.\n",
            "  0.         0.         0.         0.         0.         0.14834327\n",
            "  0.         0.         0.         0.         0.        ]\n",
            " [0.         0.         0.         0.         0.         0.\n",
            "  0.         0.         0.         0.         0.03739858 0.\n",
            "  0.         0.         0.         0.         0.        ]\n",
            " [0.         0.         0.         0.         0.         0.\n",
            "  0.         0.         0.         0.         0.         0.\n",
            "  0.         0.         0.         0.         0.        ]\n",
            " [0.         0.         0.         0.         0.         0.\n",
            "  0.         0.         0.         0.         0.         0.\n",
            "  0.         0.         0.         0.         0.        ]]\n"
          ],
          "name": "stdout"
        }
      ]
    },
    {
      "cell_type": "code",
      "metadata": {
        "id": "5Ox03GfkWtv_",
        "colab_type": "code",
        "colab": {
          "base_uri": "https://localhost:8080/",
          "height": 730
        },
        "outputId": "ab77341a-f7c1-4856-ce49-08d64e198e8d"
      },
      "source": [
        "\n",
        "# Summary of neural network\n",
        "model_mc.summary()\n",
        "\n",
        "# Output network visualization\n",
        "SVG(model_to_dot(model_mc,show_layer_names=True, rankdir='TB',\n",
        "    expand_nested=False, dpi=70).create(prog='dot', format='svg'))"
      ],
      "execution_count": null,
      "outputs": [
        {
          "output_type": "stream",
          "text": [
            "Model: \"sequential_5\"\n",
            "_________________________________________________________________\n",
            "Layer (type)                 Output Shape              Param #   \n",
            "=================================================================\n",
            "conv2d_4 (Conv2D)            (None, 7, 3, 32)          544       \n",
            "_________________________________________________________________\n",
            "max_pooling2d_4 (MaxPooling2 (None, 3, 1, 32)          0         \n",
            "_________________________________________________________________\n",
            "flatten_4 (Flatten)          (None, 96)                0         \n",
            "_________________________________________________________________\n",
            "dense_7 (Dense)              (None, 17)                1649      \n",
            "=================================================================\n",
            "Total params: 2,193\n",
            "Trainable params: 2,193\n",
            "Non-trainable params: 0\n",
            "_________________________________________________________________\n"
          ],
          "name": "stdout"
        },
        {
          "output_type": "execute_result",
          "data": {
            "text/plain": [
              "<IPython.core.display.SVG object>"
            ],
            "image/svg+xml": "<svg height=\"328pt\" viewBox=\"0.00 0.00 229.00 337.00\" width=\"223pt\" xmlns=\"http://www.w3.org/2000/svg\" xmlns:xlink=\"http://www.w3.org/1999/xlink\">\n<g class=\"graph\" id=\"graph0\" transform=\"scale(.9722 .9722) rotate(0) translate(4 333)\">\n<title>G</title>\n<polygon fill=\"#ffffff\" points=\"-4,4 -4,-333 225,-333 225,4 -4,4\" stroke=\"transparent\"/>\n<!-- 140057766331448 -->\n<g class=\"node\" id=\"node1\">\n<title>140057766331448</title>\n<polygon fill=\"none\" points=\"18.5,-292.5 18.5,-328.5 202.5,-328.5 202.5,-292.5 18.5,-292.5\" stroke=\"#000000\"/>\n<text fill=\"#000000\" font-family=\"Times,serif\" font-size=\"14.00\" text-anchor=\"middle\" x=\"110.5\" y=\"-306.8\">conv2d_4_input: InputLayer</text>\n</g>\n<!-- 140057766813536 -->\n<g class=\"node\" id=\"node2\">\n<title>140057766813536</title>\n<polygon fill=\"none\" points=\"44,-219.5 44,-255.5 177,-255.5 177,-219.5 44,-219.5\" stroke=\"#000000\"/>\n<text fill=\"#000000\" font-family=\"Times,serif\" font-size=\"14.00\" text-anchor=\"middle\" x=\"110.5\" y=\"-233.8\">conv2d_4: Conv2D</text>\n</g>\n<!-- 140057766331448&#45;&gt;140057766813536 -->\n<g class=\"edge\" id=\"edge1\">\n<title>140057766331448-&gt;140057766813536</title>\n<path d=\"M110.5,-292.4551C110.5,-284.3828 110.5,-274.6764 110.5,-265.6817\" fill=\"none\" stroke=\"#000000\"/>\n<polygon fill=\"#000000\" points=\"114.0001,-265.5903 110.5,-255.5904 107.0001,-265.5904 114.0001,-265.5903\" stroke=\"#000000\"/>\n</g>\n<!-- 140057766330664 -->\n<g class=\"node\" id=\"node3\">\n<title>140057766330664</title>\n<polygon fill=\"none\" points=\"0,-146.5 0,-182.5 221,-182.5 221,-146.5 0,-146.5\" stroke=\"#000000\"/>\n<text fill=\"#000000\" font-family=\"Times,serif\" font-size=\"14.00\" text-anchor=\"middle\" x=\"110.5\" y=\"-160.8\">max_pooling2d_4: MaxPooling2D</text>\n</g>\n<!-- 140057766813536&#45;&gt;140057766330664 -->\n<g class=\"edge\" id=\"edge2\">\n<title>140057766813536-&gt;140057766330664</title>\n<path d=\"M110.5,-219.4551C110.5,-211.3828 110.5,-201.6764 110.5,-192.6817\" fill=\"none\" stroke=\"#000000\"/>\n<polygon fill=\"#000000\" points=\"114.0001,-192.5903 110.5,-182.5904 107.0001,-192.5904 114.0001,-192.5903\" stroke=\"#000000\"/>\n</g>\n<!-- 140057766330832 -->\n<g class=\"node\" id=\"node4\">\n<title>140057766330832</title>\n<polygon fill=\"none\" points=\"54,-73.5 54,-109.5 167,-109.5 167,-73.5 54,-73.5\" stroke=\"#000000\"/>\n<text fill=\"#000000\" font-family=\"Times,serif\" font-size=\"14.00\" text-anchor=\"middle\" x=\"110.5\" y=\"-87.8\">flatten_4: Flatten</text>\n</g>\n<!-- 140057766330664&#45;&gt;140057766330832 -->\n<g class=\"edge\" id=\"edge3\">\n<title>140057766330664-&gt;140057766330832</title>\n<path d=\"M110.5,-146.4551C110.5,-138.3828 110.5,-128.6764 110.5,-119.6817\" fill=\"none\" stroke=\"#000000\"/>\n<polygon fill=\"#000000\" points=\"114.0001,-119.5903 110.5,-109.5904 107.0001,-119.5904 114.0001,-119.5903\" stroke=\"#000000\"/>\n</g>\n<!-- 140057766330944 -->\n<g class=\"node\" id=\"node5\">\n<title>140057766330944</title>\n<polygon fill=\"none\" points=\"57,-.5 57,-36.5 164,-36.5 164,-.5 57,-.5\" stroke=\"#000000\"/>\n<text fill=\"#000000\" font-family=\"Times,serif\" font-size=\"14.00\" text-anchor=\"middle\" x=\"110.5\" y=\"-14.8\">dense_7: Dense</text>\n</g>\n<!-- 140057766330832&#45;&gt;140057766330944 -->\n<g class=\"edge\" id=\"edge4\">\n<title>140057766330832-&gt;140057766330944</title>\n<path d=\"M110.5,-73.4551C110.5,-65.3828 110.5,-55.6764 110.5,-46.6817\" fill=\"none\" stroke=\"#000000\"/>\n<polygon fill=\"#000000\" points=\"114.0001,-46.5903 110.5,-36.5904 107.0001,-46.5904 114.0001,-46.5903\" stroke=\"#000000\"/>\n</g>\n</g>\n</svg>"
          },
          "metadata": {
            "tags": []
          },
          "execution_count": 13
        }
      ]
    },
    {
      "cell_type": "code",
      "metadata": {
        "id": "8ZigGabBT-FT",
        "colab_type": "code",
        "colab": {}
      },
      "source": [
        "with pd.ExcelFile('/content/drive/My Drive/output_values/output_n10_3_combined.xlsx') as reader:\n",
        "    \n",
        "    closeness_n10_3_c=pd.read_excel(reader,sheet_name=\"closeness_centrality\")\n",
        "    betweenness_n10_3_c=pd.read_excel(reader,sheet_name=\"betweenness_centrality\")\n",
        "    eigenvector_n10_3_c=pd.read_excel(reader,sheet_name=\"eigenvector_centrality\")\n",
        "    page_rank_n10_3_c=pd.read_excel(reader,sheet_name=\"page_rank\")\n",
        "    triangles_n10_3_c=pd.read_excel(reader,sheet_name=\"triangles\")\n",
        "    clustering_n10_3_c=pd.read_excel(reader,sheet_name=\"clustering\")\n",
        "    wiener_index_n10_3_c=pd.read_excel(reader,sheet_name=\"wiener_index\")\n",
        "    transitivity_n10_3_c=pd.read_excel(reader,sheet_name=\"transitivity\")\n",
        "    eccentricity_n10_3_c=pd.read_excel(reader,sheet_name=\"eccentricity\")\n",
        "\n",
        "    diameter_radius_center_periphery_density_n10_3_c=pd.read_excel(reader,sheet_name=\"d_r_c_p_d\")\n",
        "    Efficiency_loss_n10_3_c=pd.read_excel(reader,sheet_name=\"Efficiency_loss\")\n"
      ],
      "execution_count": null,
      "outputs": []
    },
    {
      "cell_type": "code",
      "metadata": {
        "id": "URkPjKz5UGvi",
        "colab_type": "code",
        "colab": {
          "base_uri": "https://localhost:8080/",
          "height": 68
        },
        "outputId": "5f2f3cc2-7fc8-43b0-8454-11863fb563b5"
      },
      "source": [
        "X_c, Xa_c, y_c=com_data(10560, closeness_n10_3_c, betweenness_n10_3_c, eigenvector_n10_3_c,\n",
        "                        page_rank_n10_3_c,triangles_n10_3_c,clustering_n10_3_c,\n",
        "                        wiener_index_n10_3_c,transitivity_n10_3_c,\n",
        "                        diameter_radius_center_periphery_density_n10_3_c,\n",
        "                        Efficiency_loss_n10_3_c)\n",
        "\n",
        "\n",
        "\n"
      ],
      "execution_count": null,
      "outputs": [
        {
          "output_type": "stream",
          "text": [
            "(10560, 10, 6)\n",
            "(10560,)\n",
            "(10560, 3)\n"
          ],
          "name": "stdout"
        }
      ]
    },
    {
      "cell_type": "code",
      "metadata": {
        "id": "s7hPxKXAfY31",
        "colab_type": "code",
        "colab": {
          "base_uri": "https://localhost:8080/",
          "height": 1000
        },
        "outputId": "db2683c4-2080-4d82-aaf5-f0f97707cc96"
      },
      "source": [
        "X_c_train, X_c_test, y_c_train, y_c_test = train_test_split(X_c, y_c, test_size=0.23, random_state=42)\n",
        "model_c=CNN(X_c,y_c)"
      ],
      "execution_count": null,
      "outputs": [
        {
          "output_type": "stream",
          "text": [
            "Train on 9187 samples, validate on 1373 samples\n",
            "Epoch 1/30\n",
            "9187/9187 [==============================] - 1s 75us/step - loss: 0.0923 - val_loss: 0.0069\n",
            "Epoch 2/30\n",
            "9187/9187 [==============================] - 1s 68us/step - loss: 0.0069 - val_loss: 0.0069\n",
            "Epoch 3/30\n",
            "9187/9187 [==============================] - 1s 69us/step - loss: 0.0069 - val_loss: 0.0069\n",
            "Epoch 4/30\n",
            "9187/9187 [==============================] - 1s 65us/step - loss: 0.0069 - val_loss: 0.0069\n",
            "Epoch 5/30\n",
            "9187/9187 [==============================] - 1s 63us/step - loss: 0.0069 - val_loss: 0.0069\n",
            "Epoch 6/30\n",
            "9187/9187 [==============================] - 1s 63us/step - loss: 0.0069 - val_loss: 0.0069\n",
            "Epoch 7/30\n",
            "9187/9187 [==============================] - 1s 65us/step - loss: 0.0069 - val_loss: 0.0069\n",
            "Epoch 8/30\n",
            "9187/9187 [==============================] - 1s 63us/step - loss: 0.0069 - val_loss: 0.0069\n",
            "Epoch 9/30\n",
            "9187/9187 [==============================] - 1s 65us/step - loss: 0.0069 - val_loss: 0.0069\n",
            "Epoch 10/30\n",
            "9187/9187 [==============================] - 1s 63us/step - loss: 0.0068 - val_loss: 0.0069\n",
            "Epoch 11/30\n",
            "9187/9187 [==============================] - 1s 62us/step - loss: 0.0068 - val_loss: 0.0069\n",
            "Epoch 12/30\n",
            "9187/9187 [==============================] - 1s 68us/step - loss: 0.0068 - val_loss: 0.0069\n",
            "Epoch 13/30\n",
            "9187/9187 [==============================] - 1s 64us/step - loss: 0.0068 - val_loss: 0.0069\n",
            "Epoch 14/30\n",
            "9187/9187 [==============================] - 1s 66us/step - loss: 0.0068 - val_loss: 0.0069\n",
            "Epoch 15/30\n",
            "9187/9187 [==============================] - 1s 63us/step - loss: 0.0068 - val_loss: 0.0068\n",
            "Epoch 16/30\n",
            "9187/9187 [==============================] - 1s 64us/step - loss: 0.0068 - val_loss: 0.0069\n",
            "Epoch 17/30\n",
            "9187/9187 [==============================] - 1s 64us/step - loss: 0.0068 - val_loss: 0.0069\n",
            "Epoch 18/30\n",
            "9187/9187 [==============================] - 1s 68us/step - loss: 0.0068 - val_loss: 0.0068\n",
            "Epoch 19/30\n",
            "9187/9187 [==============================] - 1s 64us/step - loss: 0.0068 - val_loss: 0.0068\n",
            "Epoch 20/30\n",
            "9187/9187 [==============================] - 1s 62us/step - loss: 0.0068 - val_loss: 0.0068\n",
            "Epoch 21/30\n",
            "9187/9187 [==============================] - 1s 65us/step - loss: 0.0068 - val_loss: 0.0068\n",
            "Epoch 22/30\n",
            "9187/9187 [==============================] - 1s 65us/step - loss: 0.0068 - val_loss: 0.0068\n",
            "Evaluate on test data\n",
            "test loss: 0.006849822536034907\n",
            "Generate predictions for 3 samples\n",
            "[[0. 0. 0. 0. 0. 0. 0. 0. 0. 0. 0. 0. 0. 0. 0. 0. 0. 0. 0. 0. 0. 0. 0. 0.\n",
            "  0. 0. 0. 0. 0. 0. 0. 0. 0. 0. 0. 0. 0. 0. 0. 0. 0. 0. 0. 0. 0. 0. 0. 0.\n",
            "  0. 0. 0. 0. 0. 0. 0. 0. 0. 0. 0. 0. 0. 0. 0. 0. 0. 0. 0. 0. 0. 0. 0. 0.\n",
            "  0. 0. 0. 0. 0. 0. 0. 0. 0. 0. 0. 0. 0. 0. 0. 0. 0. 0. 0. 0. 0. 0. 0. 0.\n",
            "  0. 0. 0. 0. 0. 0. 0. 0. 0. 0. 0. 0. 0. 0. 0. 0. 0. 0. 0. 0. 0. 0. 0. 0.\n",
            "  0. 0. 0. 0. 0. 0. 0. 0. 0. 0. 0. 0. 0. 0. 0. 0. 0. 0. 0. 0. 0. 0. 0. 0.\n",
            "  0. 0.]\n",
            " [0. 0. 0. 0. 0. 0. 0. 0. 0. 0. 0. 0. 0. 0. 0. 0. 0. 0. 0. 0. 0. 0. 0. 0.\n",
            "  0. 0. 0. 0. 0. 0. 0. 0. 0. 0. 0. 0. 0. 0. 0. 0. 0. 0. 0. 0. 0. 0. 0. 0.\n",
            "  0. 0. 0. 0. 0. 0. 0. 0. 0. 0. 0. 0. 0. 0. 0. 0. 0. 0. 0. 0. 0. 0. 0. 0.\n",
            "  0. 0. 0. 0. 0. 0. 0. 0. 0. 0. 0. 0. 0. 0. 0. 0. 0. 0. 0. 0. 0. 0. 0. 0.\n",
            "  0. 0. 0. 0. 0. 0. 0. 0. 0. 0. 0. 0. 0. 0. 0. 0. 0. 0. 0. 0. 0. 0. 0. 0.\n",
            "  0. 0. 0. 0. 0. 0. 0. 0. 0. 0. 0. 0. 0. 0. 0. 0. 0. 0. 0. 0. 0. 0. 0. 0.\n",
            "  0. 0.]\n",
            " [0. 0. 0. 0. 0. 0. 0. 0. 0. 0. 0. 0. 0. 0. 0. 0. 0. 0. 0. 0. 0. 0. 0. 0.\n",
            "  0. 0. 0. 0. 0. 0. 0. 0. 0. 0. 0. 0. 0. 0. 0. 0. 0. 0. 0. 0. 0. 0. 0. 0.\n",
            "  0. 0. 0. 0. 0. 0. 0. 0. 0. 0. 0. 0. 0. 0. 0. 0. 0. 0. 0. 0. 0. 0. 0. 0.\n",
            "  0. 0. 0. 0. 0. 0. 0. 0. 0. 0. 0. 0. 0. 0. 0. 0. 0. 0. 0. 0. 0. 0. 0. 0.\n",
            "  0. 0. 0. 0. 0. 0. 0. 0. 0. 0. 0. 0. 0. 0. 0. 0. 0. 0. 0. 0. 0. 0. 0. 0.\n",
            "  0. 0. 0. 0. 0. 0. 0. 0. 0. 0. 0. 0. 0. 0. 0. 0. 0. 0. 0. 0. 0. 0. 0. 0.\n",
            "  0. 0.]]\n"
          ],
          "name": "stdout"
        }
      ]
    },
    {
      "cell_type": "code",
      "metadata": {
        "id": "NNo0rJBNe2P9",
        "colab_type": "code",
        "colab": {
          "base_uri": "https://localhost:8080/",
          "height": 730
        },
        "outputId": "1c344588-57e5-44a6-c752-949fa34d4de1"
      },
      "source": [
        "# Summary of neural network\n",
        "model_mc.summary()\n",
        "# Output network visualization\n",
        "SVG(model_to_dot(model_c,show_layer_names=True, rankdir='TB',\n",
        "    expand_nested=False, dpi=70).create(prog='dot', format='svg'))"
      ],
      "execution_count": null,
      "outputs": [
        {
          "output_type": "stream",
          "text": [
            "Model: \"sequential_5\"\n",
            "_________________________________________________________________\n",
            "Layer (type)                 Output Shape              Param #   \n",
            "=================================================================\n",
            "conv2d_4 (Conv2D)            (None, 7, 3, 32)          544       \n",
            "_________________________________________________________________\n",
            "max_pooling2d_4 (MaxPooling2 (None, 3, 1, 32)          0         \n",
            "_________________________________________________________________\n",
            "flatten_4 (Flatten)          (None, 96)                0         \n",
            "_________________________________________________________________\n",
            "dense_7 (Dense)              (None, 17)                1649      \n",
            "=================================================================\n",
            "Total params: 2,193\n",
            "Trainable params: 2,193\n",
            "Non-trainable params: 0\n",
            "_________________________________________________________________\n"
          ],
          "name": "stdout"
        },
        {
          "output_type": "execute_result",
          "data": {
            "text/plain": [
              "<IPython.core.display.SVG object>"
            ],
            "image/svg+xml": "<svg height=\"328pt\" viewBox=\"0.00 0.00 229.00 337.00\" width=\"223pt\" xmlns=\"http://www.w3.org/2000/svg\" xmlns:xlink=\"http://www.w3.org/1999/xlink\">\n<g class=\"graph\" id=\"graph0\" transform=\"scale(.9722 .9722) rotate(0) translate(4 333)\">\n<title>G</title>\n<polygon fill=\"#ffffff\" points=\"-4,4 -4,-333 225,-333 225,4 -4,4\" stroke=\"transparent\"/>\n<!-- 140057769520544 -->\n<g class=\"node\" id=\"node1\">\n<title>140057769520544</title>\n<polygon fill=\"none\" points=\"18.5,-292.5 18.5,-328.5 202.5,-328.5 202.5,-292.5 18.5,-292.5\" stroke=\"#000000\"/>\n<text fill=\"#000000\" font-family=\"Times,serif\" font-size=\"14.00\" text-anchor=\"middle\" x=\"110.5\" y=\"-306.8\">conv2d_5_input: InputLayer</text>\n</g>\n<!-- 140057769301160 -->\n<g class=\"node\" id=\"node2\">\n<title>140057769301160</title>\n<polygon fill=\"none\" points=\"44,-219.5 44,-255.5 177,-255.5 177,-219.5 44,-219.5\" stroke=\"#000000\"/>\n<text fill=\"#000000\" font-family=\"Times,serif\" font-size=\"14.00\" text-anchor=\"middle\" x=\"110.5\" y=\"-233.8\">conv2d_5: Conv2D</text>\n</g>\n<!-- 140057769520544&#45;&gt;140057769301160 -->\n<g class=\"edge\" id=\"edge1\">\n<title>140057769520544-&gt;140057769301160</title>\n<path d=\"M110.5,-292.4551C110.5,-284.3828 110.5,-274.6764 110.5,-265.6817\" fill=\"none\" stroke=\"#000000\"/>\n<polygon fill=\"#000000\" points=\"114.0001,-265.5903 110.5,-255.5904 107.0001,-265.5904 114.0001,-265.5903\" stroke=\"#000000\"/>\n</g>\n<!-- 140057769517632 -->\n<g class=\"node\" id=\"node3\">\n<title>140057769517632</title>\n<polygon fill=\"none\" points=\"0,-146.5 0,-182.5 221,-182.5 221,-146.5 0,-146.5\" stroke=\"#000000\"/>\n<text fill=\"#000000\" font-family=\"Times,serif\" font-size=\"14.00\" text-anchor=\"middle\" x=\"110.5\" y=\"-160.8\">max_pooling2d_5: MaxPooling2D</text>\n</g>\n<!-- 140057769301160&#45;&gt;140057769517632 -->\n<g class=\"edge\" id=\"edge2\">\n<title>140057769301160-&gt;140057769517632</title>\n<path d=\"M110.5,-219.4551C110.5,-211.3828 110.5,-201.6764 110.5,-192.6817\" fill=\"none\" stroke=\"#000000\"/>\n<polygon fill=\"#000000\" points=\"114.0001,-192.5903 110.5,-182.5904 107.0001,-192.5904 114.0001,-192.5903\" stroke=\"#000000\"/>\n</g>\n<!-- 140057769517352 -->\n<g class=\"node\" id=\"node4\">\n<title>140057769517352</title>\n<polygon fill=\"none\" points=\"54,-73.5 54,-109.5 167,-109.5 167,-73.5 54,-73.5\" stroke=\"#000000\"/>\n<text fill=\"#000000\" font-family=\"Times,serif\" font-size=\"14.00\" text-anchor=\"middle\" x=\"110.5\" y=\"-87.8\">flatten_5: Flatten</text>\n</g>\n<!-- 140057769517632&#45;&gt;140057769517352 -->\n<g class=\"edge\" id=\"edge3\">\n<title>140057769517632-&gt;140057769517352</title>\n<path d=\"M110.5,-146.4551C110.5,-138.3828 110.5,-128.6764 110.5,-119.6817\" fill=\"none\" stroke=\"#000000\"/>\n<polygon fill=\"#000000\" points=\"114.0001,-119.5903 110.5,-109.5904 107.0001,-119.5904 114.0001,-119.5903\" stroke=\"#000000\"/>\n</g>\n<!-- 140057769521048 -->\n<g class=\"node\" id=\"node5\">\n<title>140057769521048</title>\n<polygon fill=\"none\" points=\"57,-.5 57,-36.5 164,-36.5 164,-.5 57,-.5\" stroke=\"#000000\"/>\n<text fill=\"#000000\" font-family=\"Times,serif\" font-size=\"14.00\" text-anchor=\"middle\" x=\"110.5\" y=\"-14.8\">dense_8: Dense</text>\n</g>\n<!-- 140057769517352&#45;&gt;140057769521048 -->\n<g class=\"edge\" id=\"edge4\">\n<title>140057769517352-&gt;140057769521048</title>\n<path d=\"M110.5,-73.4551C110.5,-65.3828 110.5,-55.6764 110.5,-46.6817\" fill=\"none\" stroke=\"#000000\"/>\n<polygon fill=\"#000000\" points=\"114.0001,-46.5903 110.5,-36.5904 107.0001,-46.5904 114.0001,-46.5903\" stroke=\"#000000\"/>\n</g>\n</g>\n</svg>"
          },
          "metadata": {
            "tags": []
          },
          "execution_count": 17
        }
      ]
    },
    {
      "cell_type": "code",
      "metadata": {
        "id": "H2eF-M4o8W9H",
        "colab_type": "code",
        "colab": {}
      },
      "source": [
        "model_s_c=CNN_s(Xa_c,y_c)"
      ],
      "execution_count": null,
      "outputs": []
    },
    {
      "cell_type": "code",
      "metadata": {
        "id": "zcPyzEm88mwT",
        "colab_type": "code",
        "colab": {}
      },
      "source": [
        "# Summary of neural network\n",
        "model_s_c.summary()\n",
        "\n",
        "# Output network visualization\n",
        "SVG(model_to_dot(model_s_c,show_layer_names=True, rankdir='TB',\n",
        "    expand_nested=False, dpi=70).create(prog='dot', format='svg'))"
      ],
      "execution_count": null,
      "outputs": []
    },
    {
      "cell_type": "code",
      "metadata": {
        "id": "DZsN7bWwt_Nj",
        "colab_type": "code",
        "colab": {
          "base_uri": "https://localhost:8080/",
          "height": 510
        },
        "outputId": "4e4521f0-d996-4cd5-e8be-ce0938593818"
      },
      "source": [
        "model_mc_c=CNN_mc(X_c,y_c)\n"
      ],
      "execution_count": null,
      "outputs": [
        {
          "output_type": "stream",
          "text": [
            "Train on 9187 samples, validate on 1373 samples\n",
            "Epoch 1/30\n",
            "9187/9187 [==============================] - 1s 78us/step - loss: 0.0133 - val_loss: 0.0069\n",
            "Epoch 2/30\n",
            "9187/9187 [==============================] - 1s 68us/step - loss: 0.0068 - val_loss: 0.0069\n",
            "Epoch 3/30\n",
            "9187/9187 [==============================] - 1s 66us/step - loss: 0.0069 - val_loss: 0.0069\n",
            "Epoch 4/30\n",
            "9187/9187 [==============================] - 1s 69us/step - loss: 0.0068 - val_loss: 0.0069\n",
            "Epoch 5/30\n",
            "9187/9187 [==============================] - 1s 65us/step - loss: 0.0068 - val_loss: 0.0068\n",
            "Epoch 6/30\n",
            "9187/9187 [==============================] - 1s 66us/step - loss: 0.0068 - val_loss: 0.0068\n",
            "Epoch 7/30\n",
            "9187/9187 [==============================] - 1s 69us/step - loss: 0.0068 - val_loss: 0.0068\n",
            "Epoch 8/30\n",
            "9187/9187 [==============================] - 1s 67us/step - loss: 0.0068 - val_loss: 0.0068\n",
            "Epoch 9/30\n",
            "9187/9187 [==============================] - 1s 68us/step - loss: 0.0068 - val_loss: 0.0068\n",
            "Evaluate on test data\n",
            "test loss: 0.006849532685115749\n",
            "Generate predictions for 3 samples\n",
            "[[0. 0. 0. ... 0. 0. 0.]\n",
            " [0. 0. 0. ... 0. 0. 0.]\n",
            " [0. 0. 0. ... 0. 0. 0.]\n",
            " ...\n",
            " [0. 0. 0. ... 0. 0. 0.]\n",
            " [0. 0. 0. ... 0. 0. 0.]\n",
            " [0. 0. 0. ... 0. 0. 0.]]\n"
          ],
          "name": "stdout"
        }
      ]
    },
    {
      "cell_type": "code",
      "metadata": {
        "id": "-E_oRV_adHTy",
        "colab_type": "code",
        "colab": {
          "base_uri": "https://localhost:8080/",
          "height": 730
        },
        "outputId": "0003c273-d0e8-43f3-87b0-d5a18c6b34c2"
      },
      "source": [
        "\n",
        "# Summary of neural network\n",
        "model_mc_c.summary()\n",
        "\n",
        "# Output network visualization\n",
        "SVG(model_to_dot(model_mc_c,show_layer_names=True, rankdir='TB',\n",
        "    expand_nested=False, dpi=70).create(prog='dot', format='svg'))"
      ],
      "execution_count": null,
      "outputs": [
        {
          "output_type": "stream",
          "text": [
            "Model: \"sequential_8\"\n",
            "_________________________________________________________________\n",
            "Layer (type)                 Output Shape              Param #   \n",
            "=================================================================\n",
            "conv2d_6 (Conv2D)            (None, 7, 3, 32)          544       \n",
            "_________________________________________________________________\n",
            "max_pooling2d_6 (MaxPooling2 (None, 3, 1, 32)          0         \n",
            "_________________________________________________________________\n",
            "flatten_6 (Flatten)          (None, 96)                0         \n",
            "_________________________________________________________________\n",
            "dense_12 (Dense)             (None, 146)               14162     \n",
            "=================================================================\n",
            "Total params: 14,706\n",
            "Trainable params: 14,706\n",
            "Non-trainable params: 0\n",
            "_________________________________________________________________\n"
          ],
          "name": "stdout"
        },
        {
          "output_type": "execute_result",
          "data": {
            "text/plain": [
              "<IPython.core.display.SVG object>"
            ],
            "image/svg+xml": "<svg height=\"328pt\" viewBox=\"0.00 0.00 229.00 337.00\" width=\"223pt\" xmlns=\"http://www.w3.org/2000/svg\" xmlns:xlink=\"http://www.w3.org/1999/xlink\">\n<g class=\"graph\" id=\"graph0\" transform=\"scale(.9722 .9722) rotate(0) translate(4 333)\">\n<title>G</title>\n<polygon fill=\"#ffffff\" points=\"-4,4 -4,-333 225,-333 225,4 -4,4\" stroke=\"transparent\"/>\n<!-- 140057724518128 -->\n<g class=\"node\" id=\"node1\">\n<title>140057724518128</title>\n<polygon fill=\"none\" points=\"18.5,-292.5 18.5,-328.5 202.5,-328.5 202.5,-292.5 18.5,-292.5\" stroke=\"#000000\"/>\n<text fill=\"#000000\" font-family=\"Times,serif\" font-size=\"14.00\" text-anchor=\"middle\" x=\"110.5\" y=\"-306.8\">conv2d_6_input: InputLayer</text>\n</g>\n<!-- 140057765175248 -->\n<g class=\"node\" id=\"node2\">\n<title>140057765175248</title>\n<polygon fill=\"none\" points=\"44,-219.5 44,-255.5 177,-255.5 177,-219.5 44,-219.5\" stroke=\"#000000\"/>\n<text fill=\"#000000\" font-family=\"Times,serif\" font-size=\"14.00\" text-anchor=\"middle\" x=\"110.5\" y=\"-233.8\">conv2d_6: Conv2D</text>\n</g>\n<!-- 140057724518128&#45;&gt;140057765175248 -->\n<g class=\"edge\" id=\"edge1\">\n<title>140057724518128-&gt;140057765175248</title>\n<path d=\"M110.5,-292.4551C110.5,-284.3828 110.5,-274.6764 110.5,-265.6817\" fill=\"none\" stroke=\"#000000\"/>\n<polygon fill=\"#000000\" points=\"114.0001,-265.5903 110.5,-255.5904 107.0001,-265.5904 114.0001,-265.5903\" stroke=\"#000000\"/>\n</g>\n<!-- 140057724515552 -->\n<g class=\"node\" id=\"node3\">\n<title>140057724515552</title>\n<polygon fill=\"none\" points=\"0,-146.5 0,-182.5 221,-182.5 221,-146.5 0,-146.5\" stroke=\"#000000\"/>\n<text fill=\"#000000\" font-family=\"Times,serif\" font-size=\"14.00\" text-anchor=\"middle\" x=\"110.5\" y=\"-160.8\">max_pooling2d_6: MaxPooling2D</text>\n</g>\n<!-- 140057765175248&#45;&gt;140057724515552 -->\n<g class=\"edge\" id=\"edge2\">\n<title>140057765175248-&gt;140057724515552</title>\n<path d=\"M110.5,-219.4551C110.5,-211.3828 110.5,-201.6764 110.5,-192.6817\" fill=\"none\" stroke=\"#000000\"/>\n<polygon fill=\"#000000\" points=\"114.0001,-192.5903 110.5,-182.5904 107.0001,-192.5904 114.0001,-192.5903\" stroke=\"#000000\"/>\n</g>\n<!-- 140057724516224 -->\n<g class=\"node\" id=\"node4\">\n<title>140057724516224</title>\n<polygon fill=\"none\" points=\"54,-73.5 54,-109.5 167,-109.5 167,-73.5 54,-73.5\" stroke=\"#000000\"/>\n<text fill=\"#000000\" font-family=\"Times,serif\" font-size=\"14.00\" text-anchor=\"middle\" x=\"110.5\" y=\"-87.8\">flatten_6: Flatten</text>\n</g>\n<!-- 140057724515552&#45;&gt;140057724516224 -->\n<g class=\"edge\" id=\"edge3\">\n<title>140057724515552-&gt;140057724516224</title>\n<path d=\"M110.5,-146.4551C110.5,-138.3828 110.5,-128.6764 110.5,-119.6817\" fill=\"none\" stroke=\"#000000\"/>\n<polygon fill=\"#000000\" points=\"114.0001,-119.5903 110.5,-109.5904 107.0001,-119.5904 114.0001,-119.5903\" stroke=\"#000000\"/>\n</g>\n<!-- 140057724516336 -->\n<g class=\"node\" id=\"node5\">\n<title>140057724516336</title>\n<polygon fill=\"none\" points=\"53.5,-.5 53.5,-36.5 167.5,-36.5 167.5,-.5 53.5,-.5\" stroke=\"#000000\"/>\n<text fill=\"#000000\" font-family=\"Times,serif\" font-size=\"14.00\" text-anchor=\"middle\" x=\"110.5\" y=\"-14.8\">dense_12: Dense</text>\n</g>\n<!-- 140057724516224&#45;&gt;140057724516336 -->\n<g class=\"edge\" id=\"edge4\">\n<title>140057724516224-&gt;140057724516336</title>\n<path d=\"M110.5,-73.4551C110.5,-65.3828 110.5,-55.6764 110.5,-46.6817\" fill=\"none\" stroke=\"#000000\"/>\n<polygon fill=\"#000000\" points=\"114.0001,-46.5903 110.5,-36.5904 107.0001,-46.5904 114.0001,-46.5903\" stroke=\"#000000\"/>\n</g>\n</g>\n</svg>"
          },
          "metadata": {
            "tags": []
          },
          "execution_count": 21
        }
      ]
    }
  ]
}