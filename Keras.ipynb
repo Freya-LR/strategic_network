{
  "nbformat": 4,
  "nbformat_minor": 0,
  "metadata": {
    "colab": {
      "name": "Keras.ipynb",
      "provenance": [],
      "collapsed_sections": [],
      "mount_file_id": "1zlxxtBNTSHHvnSdayec0gJfTo0Ihkv72",
      "authorship_tag": "ABX9TyNDBd82z6nRbOaAG4UiGvgt",
      "include_colab_link": true
    },
    "kernelspec": {
      "name": "python3",
      "display_name": "Python 3"
    }
  },
  "cells": [
    {
      "cell_type": "markdown",
      "metadata": {
        "id": "view-in-github",
        "colab_type": "text"
      },
      "source": [
        "<a href=\"https://colab.research.google.com/github/Freya-LR/strategic_network/blob/master/Keras.ipynb\" target=\"_parent\"><img src=\"https://colab.research.google.com/assets/colab-badge.svg\" alt=\"Open In Colab\"/></a>"
      ]
    },
    {
      "cell_type": "code",
      "metadata": {
        "id": "9iJWK1hMwMpz",
        "colab_type": "code",
        "colab": {
          "base_uri": "https://localhost:8080/",
          "height": 34
        },
        "outputId": "4693e64b-672d-4a03-9416-a9d292fdfa92"
      },
      "source": [
        "\n",
        "import pandas as pd\n",
        "import networkx as nx\n",
        "import numpy as np\n",
        "import matplotlib.pyplot as plt\n",
        "from matplotlib.backends.backend_pdf import PdfPages, FigureCanvasPdf\n",
        "from matplotlib.figure import Figure\n",
        "import keras\n",
        "from keras.models import Model ,Sequential \n",
        "from keras import layers\n",
        "from keras.layers import Conv2D, MaxPooling2D, Dense, Flatten\n",
        "from keras.callbacks import EarlyStopping\n",
        "from keras.utils import to_categorical\n",
        "from keras.utils.vis_utils import model_to_dot\n",
        "from sklearn.model_selection import train_test_split\n",
        "\n",
        "import warnings\n",
        "import matplotlib.cbook\n",
        "from IPython.display import SVG\n",
        "warnings.filterwarnings(\"ignore\",category=matplotlib.cbook.mplDeprecation)\n",
        "from google.colab import drive\n",
        "drive.mount('/content/drive')\n"
      ],
      "execution_count": null,
      "outputs": [
        {
          "output_type": "stream",
          "text": [
            "Drive already mounted at /content/drive; to attempt to forcibly remount, call drive.mount(\"/content/drive\", force_remount=True).\n"
          ],
          "name": "stdout"
        }
      ]
    },
    {
      "cell_type": "code",
      "metadata": {
        "id": "C_gpJ1VUwRQA",
        "colab_type": "code",
        "colab": {}
      },
      "source": [
        "\n",
        "with pd.ExcelFile('/content/drive/My Drive/output_values/output_n10_3.xlsx') as reader:\n",
        "    \n",
        "    closeness_n10_3=pd.read_excel(reader,sheet_name=\"closeness_centrality\")\n",
        "    betweenness_n10_3=pd.read_excel(reader,sheet_name=\"betweenness_centrality\")\n",
        "    eigenvector_n10_3=pd.read_excel(reader,sheet_name=\"eigenvector_centrality\")\n",
        "    page_rank_n10_3=pd.read_excel(reader,sheet_name=\"page_rank\")\n",
        "    triangles_n10_3=pd.read_excel(reader,sheet_name=\"triangles\")\n",
        "    clustering_n10_3=pd.read_excel(reader,sheet_name=\"clustering\")\n",
        "    wiener_index_n10_3=pd.read_excel(reader,sheet_name=\"wiener_index\")\n",
        "    transitivity_n10_3=pd.read_excel(reader,sheet_name=\"transitivity\")\n",
        "    diameter_radius_center_periphery_density_n10_3=pd.read_excel(reader,sheet_name=\"d_r_c_p_d\")\n",
        "    Efficiency_loss_n10_3=pd.read_excel(reader,sheet_name=\"Efficiency_loss\")\n",
        "\n",
        "\n"
      ],
      "execution_count": null,
      "outputs": []
    },
    {
      "cell_type": "code",
      "metadata": {
        "id": "89kbgPc5wT0B",
        "colab_type": "code",
        "colab": {}
      },
      "source": [
        "\n",
        "def com_data(n,closeness, betweenness, eigenvector,page_rank,triangles,clustering,wiener_index,transitivity,\n",
        "             diameter_radius_center_periphery_density,Efficiency_loss):\n",
        "    la=np.zeros((n,3))\n",
        "    for i in range(n):\n",
        "        la[i]=[wiener_index[0][i],transitivity[0][i],diameter_radius_center_periphery_density[4][i]]\n",
        "\n",
        "    Y = np.array(Efficiency_loss[0])\n",
        "    l=np.zeros((n,10,6))\n",
        "    for i in range(n):\n",
        "        for j in range(10):\n",
        "            l[i][j]=[closeness[j][i],betweenness[j][i],eigenvector[j][i],page_rank[j][i],triangles[j][i],clustering[j][i]]\n",
        "    print(l.shape)\n",
        "    print(Y.shape)\n",
        "    print(la.shape)\n",
        "    return l, la, Y\n",
        "\n",
        "\n",
        "\n",
        "\n"
      ],
      "execution_count": null,
      "outputs": []
    },
    {
      "cell_type": "code",
      "metadata": {
        "id": "q5cDTv8mwbEf",
        "colab_type": "code",
        "colab": {}
      },
      "source": [
        "def DLSN(X,y):    #convolutional\n",
        "    #create model\n",
        "    X_train, X_test, y_train, y_test = train_test_split(X, y, test_size=0.13, random_state=42)\n",
        "    num_out_layer=int(max(y_train)+1)\n",
        "    X_train=np.expand_dims(X_train, axis=3)\n",
        "    X_test=np.expand_dims(X_test, axis=3)\n",
        "    num_filters = 8\n",
        "    filter_size = 3\n",
        "    pool_size = 2\n",
        "\n",
        "    model = Sequential([\n",
        "      Conv2D(num_filters, filter_size, input_shape=(10, 6, 1)),\n",
        "      MaxPooling2D(pool_size=pool_size),\n",
        "      Flatten(),\n",
        "      Dense(num_out_layer, activation='relu'),\n",
        "    ])\n",
        "    model.compile(optimizer='adam', loss='mean_squared_error',)\n",
        "    early_stopping_monitor = EarlyStopping(patience=3)\n",
        "    model.fit(X_train, to_categorical(y_train),\n",
        "              validation_data=(X_test, to_categorical(y_test,num_classes=num_out_layer)),\n",
        "              epochs=30, callbacks=[early_stopping_monitor],)\n",
        "    # Evaluate the model on the test data using `evaluate`\n",
        "    print(\"Evaluate on test data\")\n",
        "    results = model.evaluate(X_test, to_categorical(y_test,num_classes=num_out_layer), verbose=0)\n",
        "    print(\"test loss:\", results)\n",
        "    # Generate predictions (probabilities -- the output of the last layer)\n",
        "    # on new data using `predict`\n",
        "\n",
        "    print(\"Generate predictions for 3 samples\")\n",
        "    predictions = model.predict(X_test[:3])\n",
        "\n",
        "    print(predictions)\n",
        "    \n",
        "    return model\n",
        "\n",
        "\n",
        "\n"
      ],
      "execution_count": null,
      "outputs": []
    },
    {
      "cell_type": "code",
      "metadata": {
        "id": "-wRGiZxpWXQA",
        "colab_type": "code",
        "colab": {
          "base_uri": "https://localhost:8080/",
          "height": 510
        },
        "outputId": "d410dd77-1c97-4f66-c842-ed2202108ef4"
      },
      "source": [
        "X, Xa, y=com_data(1000, closeness_n10_3, betweenness_n10_3, eigenvector_n10_3,page_rank_n10_3,triangles_n10_3,clustering_n10_3,\n",
        "\n",
        "        wiener_index_n10_3,transitivity_n10_3,diameter_radius_center_periphery_density_n10_3,Efficiency_loss_n10_3)\n",
        "\n",
        "\n",
        "model=DLSN(X,y)\n",
        "y_test[:3]"
      ],
      "execution_count": null,
      "outputs": [
        {
          "output_type": "stream",
          "text": [
            "(1000, 10, 6)\n",
            "(1000,)\n",
            "(1000, 3)\n",
            "Train on 900 samples, validate on 100 samples\n",
            "Epoch 1/30\n",
            "900/900 [==============================] - 0s 139us/step - loss: 4.2631 - val_loss: 0.7469\n",
            "Epoch 2/30\n",
            "900/900 [==============================] - 0s 80us/step - loss: 0.2396 - val_loss: 0.0624\n",
            "Epoch 3/30\n",
            "900/900 [==============================] - 0s 117us/step - loss: 0.0605 - val_loss: 0.0588\n",
            "Epoch 4/30\n",
            "900/900 [==============================] - 0s 96us/step - loss: 0.0596 - val_loss: 0.0588\n",
            "Epoch 5/30\n",
            "900/900 [==============================] - 0s 99us/step - loss: 0.0595 - val_loss: 0.0588\n",
            "Epoch 6/30\n",
            "900/900 [==============================] - 0s 87us/step - loss: 0.0594 - val_loss: 0.0588\n",
            "Evaluate on test data\n",
            "test loss: 0.05883291646838188\n",
            "Generate predictions for 3 samples\n",
            "[[0.         0.         0.         0.         0.         0.\n",
            "  0.         0.         0.37996644 0.         0.         0.\n",
            "  0.         0.         0.         0.         0.        ]\n",
            " [0.         0.         0.         0.         0.         0.\n",
            "  0.         0.         0.         0.         0.         0.\n",
            "  0.         0.         0.         0.         0.        ]\n",
            " [0.         0.         0.         0.         0.         0.\n",
            "  0.         0.         0.         0.         0.         0.\n",
            "  0.         0.         0.         0.         0.        ]]\n"
          ],
          "name": "stdout"
        },
        {
          "output_type": "execute_result",
          "data": {
            "text/plain": [
              "array([ 5.6, 11.2, 13. ])"
            ]
          },
          "metadata": {
            "tags": []
          },
          "execution_count": 35
        }
      ]
    },
    {
      "cell_type": "code",
      "metadata": {
        "id": "2KOLxM4X2db4",
        "colab_type": "code",
        "colab": {
          "base_uri": "https://localhost:8080/",
          "height": 730
        },
        "outputId": "0cee98a5-ac7a-4de3-9d51-9067dbfb155d"
      },
      "source": [
        "# Summary of neural network\n",
        "model.summary()\n",
        "\n",
        "# Output network visualization\n",
        "SVG(model_to_dot(model,show_layer_names=True, rankdir='TB',\n",
        "    expand_nested=False, dpi=70).create(prog='dot', format='svg'))"
      ],
      "execution_count": null,
      "outputs": [
        {
          "output_type": "stream",
          "text": [
            "Model: \"sequential_4\"\n",
            "_________________________________________________________________\n",
            "Layer (type)                 Output Shape              Param #   \n",
            "=================================================================\n",
            "conv2d_3 (Conv2D)            (None, 8, 4, 8)           80        \n",
            "_________________________________________________________________\n",
            "max_pooling2d_3 (MaxPooling2 (None, 4, 2, 8)           0         \n",
            "_________________________________________________________________\n",
            "flatten_3 (Flatten)          (None, 64)                0         \n",
            "_________________________________________________________________\n",
            "dense_6 (Dense)              (None, 17)                1105      \n",
            "=================================================================\n",
            "Total params: 1,185\n",
            "Trainable params: 1,185\n",
            "Non-trainable params: 0\n",
            "_________________________________________________________________\n"
          ],
          "name": "stdout"
        },
        {
          "output_type": "execute_result",
          "data": {
            "text/plain": [
              "<IPython.core.display.SVG object>"
            ],
            "image/svg+xml": "<svg height=\"328pt\" viewBox=\"0.00 0.00 229.00 337.00\" width=\"223pt\" xmlns=\"http://www.w3.org/2000/svg\" xmlns:xlink=\"http://www.w3.org/1999/xlink\">\n<g class=\"graph\" id=\"graph0\" transform=\"scale(.9722 .9722) rotate(0) translate(4 333)\">\n<title>G</title>\n<polygon fill=\"#ffffff\" points=\"-4,4 -4,-333 225,-333 225,4 -4,4\" stroke=\"transparent\"/>\n<!-- 140289748245808 -->\n<g class=\"node\" id=\"node1\">\n<title>140289748245808</title>\n<polygon fill=\"none\" points=\"18.5,-292.5 18.5,-328.5 202.5,-328.5 202.5,-292.5 18.5,-292.5\" stroke=\"#000000\"/>\n<text fill=\"#000000\" font-family=\"Times,serif\" font-size=\"14.00\" text-anchor=\"middle\" x=\"110.5\" y=\"-306.8\">conv2d_3_input: InputLayer</text>\n</g>\n<!-- 140289748245024 -->\n<g class=\"node\" id=\"node2\">\n<title>140289748245024</title>\n<polygon fill=\"none\" points=\"44,-219.5 44,-255.5 177,-255.5 177,-219.5 44,-219.5\" stroke=\"#000000\"/>\n<text fill=\"#000000\" font-family=\"Times,serif\" font-size=\"14.00\" text-anchor=\"middle\" x=\"110.5\" y=\"-233.8\">conv2d_3: Conv2D</text>\n</g>\n<!-- 140289748245808&#45;&gt;140289748245024 -->\n<g class=\"edge\" id=\"edge1\">\n<title>140289748245808-&gt;140289748245024</title>\n<path d=\"M110.5,-292.4551C110.5,-284.3828 110.5,-274.6764 110.5,-265.6817\" fill=\"none\" stroke=\"#000000\"/>\n<polygon fill=\"#000000\" points=\"114.0001,-265.5903 110.5,-255.5904 107.0001,-265.5904 114.0001,-265.5903\" stroke=\"#000000\"/>\n</g>\n<!-- 140289748243008 -->\n<g class=\"node\" id=\"node3\">\n<title>140289748243008</title>\n<polygon fill=\"none\" points=\"0,-146.5 0,-182.5 221,-182.5 221,-146.5 0,-146.5\" stroke=\"#000000\"/>\n<text fill=\"#000000\" font-family=\"Times,serif\" font-size=\"14.00\" text-anchor=\"middle\" x=\"110.5\" y=\"-160.8\">max_pooling2d_3: MaxPooling2D</text>\n</g>\n<!-- 140289748245024&#45;&gt;140289748243008 -->\n<g class=\"edge\" id=\"edge2\">\n<title>140289748245024-&gt;140289748243008</title>\n<path d=\"M110.5,-219.4551C110.5,-211.3828 110.5,-201.6764 110.5,-192.6817\" fill=\"none\" stroke=\"#000000\"/>\n<polygon fill=\"#000000\" points=\"114.0001,-192.5903 110.5,-182.5904 107.0001,-192.5904 114.0001,-192.5903\" stroke=\"#000000\"/>\n</g>\n<!-- 140289748245136 -->\n<g class=\"node\" id=\"node4\">\n<title>140289748245136</title>\n<polygon fill=\"none\" points=\"54,-73.5 54,-109.5 167,-109.5 167,-73.5 54,-73.5\" stroke=\"#000000\"/>\n<text fill=\"#000000\" font-family=\"Times,serif\" font-size=\"14.00\" text-anchor=\"middle\" x=\"110.5\" y=\"-87.8\">flatten_3: Flatten</text>\n</g>\n<!-- 140289748243008&#45;&gt;140289748245136 -->\n<g class=\"edge\" id=\"edge3\">\n<title>140289748243008-&gt;140289748245136</title>\n<path d=\"M110.5,-146.4551C110.5,-138.3828 110.5,-128.6764 110.5,-119.6817\" fill=\"none\" stroke=\"#000000\"/>\n<polygon fill=\"#000000\" points=\"114.0001,-119.5903 110.5,-109.5904 107.0001,-119.5904 114.0001,-119.5903\" stroke=\"#000000\"/>\n</g>\n<!-- 140289748244856 -->\n<g class=\"node\" id=\"node5\">\n<title>140289748244856</title>\n<polygon fill=\"none\" points=\"57,-.5 57,-36.5 164,-36.5 164,-.5 57,-.5\" stroke=\"#000000\"/>\n<text fill=\"#000000\" font-family=\"Times,serif\" font-size=\"14.00\" text-anchor=\"middle\" x=\"110.5\" y=\"-14.8\">dense_6: Dense</text>\n</g>\n<!-- 140289748245136&#45;&gt;140289748244856 -->\n<g class=\"edge\" id=\"edge4\">\n<title>140289748245136-&gt;140289748244856</title>\n<path d=\"M110.5,-73.4551C110.5,-65.3828 110.5,-55.6764 110.5,-46.6817\" fill=\"none\" stroke=\"#000000\"/>\n<polygon fill=\"#000000\" points=\"114.0001,-46.5903 110.5,-36.5904 107.0001,-46.5904 114.0001,-46.5903\" stroke=\"#000000\"/>\n</g>\n</g>\n</svg>"
          },
          "metadata": {
            "tags": []
          },
          "execution_count": 89
        }
      ]
    },
    {
      "cell_type": "code",
      "metadata": {
        "id": "3_7fDMzy7sMj",
        "colab_type": "code",
        "colab": {}
      },
      "source": [
        "def DLSN_s(X,y):   # without convolutional\n",
        "    #create model\n",
        "    X_train, X_test, y_train, y_test = train_test_split(X, y, test_size=0.13, random_state=42)\n",
        "    num_out_layer=int(max(y_train)+1)\n",
        "    model = Sequential([\n",
        "      Dense(10, activation='relu',input_shape=(3, )),\n",
        "      Dense(10,activation='relu'),\n",
        "      Dense(num_out_layer),\n",
        "    ])\n",
        "    model.compile(optimizer='adam', loss='mean_squared_error',)\n",
        "    early_stopping_monitor = EarlyStopping(patience=3)\n",
        "    model.fit(X_train, to_categorical(y_train),\n",
        "              validation_data=(X_test, to_categorical(y_test,num_classes=num_out_layer)),\n",
        "              epochs=30, callbacks=[early_stopping_monitor],)\n",
        "    # Evaluate the model on the test data using `evaluate`\n",
        "    print(\"Evaluate on test data\")\n",
        "    results = model.evaluate(X_test, to_categorical(y_test,num_classes=num_out_layer), verbose=0)\n",
        "    print(\"test loss:\", results)\n",
        "    # Generate predictions (probabilities -- the output of the last layer)\n",
        "    # on new data using `predict`\n",
        "\n",
        "    print(\"Generate predictions for 3 samples\")\n",
        "    predictions = model.predict(X_test[:3])\n",
        "\n",
        "    print(predictions)\n",
        "    \n",
        "    return model\n",
        "\n",
        "\n"
      ],
      "execution_count": null,
      "outputs": []
    },
    {
      "cell_type": "code",
      "metadata": {
        "id": "37K-iXx_WgIo",
        "colab_type": "code",
        "colab": {
          "base_uri": "https://localhost:8080/",
          "height": 1000
        },
        "outputId": "5f104672-7651-4934-8abf-96ee67780879"
      },
      "source": [
        "model_s=DLSN_s(Xa,y)\n",
        "# Summary of neural network\n",
        "model_s.summary()\n",
        "\n",
        "# Output network visualization\n",
        "SVG(model_to_dot(model_s,show_layer_names=True, rankdir='TB',\n",
        "    expand_nested=False, dpi=70).create(prog='dot', format='svg'))"
      ],
      "execution_count": null,
      "outputs": [
        {
          "output_type": "stream",
          "text": [
            "Train on 900 samples, validate on 100 samples\n",
            "Epoch 1/30\n",
            "900/900 [==============================] - 0s 142us/step - loss: 47.5956 - val_loss: 28.2912\n",
            "Epoch 2/30\n",
            "900/900 [==============================] - 0s 47us/step - loss: 19.5912 - val_loss: 12.4062\n",
            "Epoch 3/30\n",
            "900/900 [==============================] - 0s 52us/step - loss: 8.9497 - val_loss: 5.9556\n",
            "Epoch 4/30\n",
            "900/900 [==============================] - 0s 48us/step - loss: 4.3975 - val_loss: 3.0007\n",
            "Epoch 5/30\n",
            "900/900 [==============================] - 0s 43us/step - loss: 2.2432 - val_loss: 1.5530\n",
            "Epoch 6/30\n",
            "900/900 [==============================] - 0s 51us/step - loss: 1.1753 - val_loss: 0.8278\n",
            "Epoch 7/30\n",
            "900/900 [==============================] - 0s 48us/step - loss: 0.6360 - val_loss: 0.4577\n",
            "Epoch 8/30\n",
            "900/900 [==============================] - 0s 48us/step - loss: 0.3597 - val_loss: 0.2677\n",
            "Epoch 9/30\n",
            "900/900 [==============================] - 0s 52us/step - loss: 0.2175 - val_loss: 0.1696\n",
            "Epoch 10/30\n",
            "900/900 [==============================] - 0s 53us/step - loss: 0.1434 - val_loss: 0.1179\n",
            "Epoch 11/30\n",
            "900/900 [==============================] - 0s 50us/step - loss: 0.1040 - val_loss: 0.0907\n",
            "Epoch 12/30\n",
            "900/900 [==============================] - 0s 58us/step - loss: 0.0833 - val_loss: 0.0758\n",
            "Epoch 13/30\n",
            "900/900 [==============================] - 0s 53us/step - loss: 0.0714 - val_loss: 0.0668\n",
            "Epoch 14/30\n",
            "900/900 [==============================] - 0s 47us/step - loss: 0.0641 - val_loss: 0.0614\n",
            "Epoch 15/30\n",
            "900/900 [==============================] - 0s 55us/step - loss: 0.0596 - val_loss: 0.0580\n",
            "Epoch 16/30\n",
            "900/900 [==============================] - 0s 51us/step - loss: 0.0567 - val_loss: 0.0559\n",
            "Epoch 17/30\n",
            "900/900 [==============================] - 0s 47us/step - loss: 0.0549 - val_loss: 0.0545\n",
            "Epoch 18/30\n",
            "900/900 [==============================] - 0s 52us/step - loss: 0.0538 - val_loss: 0.0538\n",
            "Epoch 19/30\n",
            "900/900 [==============================] - 0s 56us/step - loss: 0.0531 - val_loss: 0.0531\n",
            "Epoch 20/30\n",
            "900/900 [==============================] - 0s 51us/step - loss: 0.0527 - val_loss: 0.0528\n",
            "Epoch 21/30\n",
            "900/900 [==============================] - 0s 50us/step - loss: 0.0524 - val_loss: 0.0528\n",
            "Epoch 22/30\n",
            "900/900 [==============================] - 0s 58us/step - loss: 0.0522 - val_loss: 0.0525\n",
            "Epoch 23/30\n",
            "900/900 [==============================] - 0s 50us/step - loss: 0.0521 - val_loss: 0.0524\n",
            "Epoch 24/30\n",
            "900/900 [==============================] - 0s 47us/step - loss: 0.0520 - val_loss: 0.0523\n",
            "Epoch 25/30\n",
            "900/900 [==============================] - 0s 44us/step - loss: 0.0520 - val_loss: 0.0523\n",
            "Epoch 26/30\n",
            "900/900 [==============================] - 0s 45us/step - loss: 0.0520 - val_loss: 0.0524\n",
            "Epoch 27/30\n",
            "900/900 [==============================] - 0s 47us/step - loss: 0.0519 - val_loss: 0.0522\n",
            "Epoch 28/30\n",
            "900/900 [==============================] - 0s 51us/step - loss: 0.0519 - val_loss: 0.0523\n",
            "Epoch 29/30\n",
            "900/900 [==============================] - 0s 39us/step - loss: 0.0519 - val_loss: 0.0522\n",
            "Epoch 30/30\n",
            "900/900 [==============================] - 0s 39us/step - loss: 0.0519 - val_loss: 0.0523\n",
            "Evaluate on test data\n",
            "test loss: 0.05227200895547867\n",
            "Generate predictions for 3 samples\n",
            "[[ 0.00053671  0.01338353 -0.00731204  0.01202996  0.04199107  0.03933121\n",
            "   0.07779877  0.11608855  0.14361401  0.20555091  0.16512409  0.14292452\n",
            "   0.08671707  0.05837686  0.02045976 -0.00311799  0.04908751]\n",
            " [ 0.01308748  0.0064986   0.01166584  0.00631289  0.01635176  0.02156097\n",
            "   0.0697982   0.10013307  0.12081213  0.15782672  0.1690444   0.14203623\n",
            "   0.09402753  0.06600262  0.0287693   0.0023044   0.00879775]\n",
            " [ 0.01340822  0.0031295   0.01759847  0.00352162 -0.00793545  0.01377279\n",
            "   0.06062901  0.0865472   0.11309965  0.12538308  0.17963889  0.14746037\n",
            "   0.1045832   0.07096501  0.03885292  0.00794718 -0.0163575 ]]\n",
            "Model: \"sequential_2\"\n",
            "_________________________________________________________________\n",
            "Layer (type)                 Output Shape              Param #   \n",
            "=================================================================\n",
            "dense_2 (Dense)              (None, 10)                40        \n",
            "_________________________________________________________________\n",
            "dense_3 (Dense)              (None, 10)                110       \n",
            "_________________________________________________________________\n",
            "dense_4 (Dense)              (None, 17)                187       \n",
            "=================================================================\n",
            "Total params: 337\n",
            "Trainable params: 337\n",
            "Non-trainable params: 0\n",
            "_________________________________________________________________\n"
          ],
          "name": "stdout"
        },
        {
          "output_type": "execute_result",
          "data": {
            "text/plain": [
              "<IPython.core.display.SVG object>"
            ],
            "image/svg+xml": "<svg height=\"352pt\" viewBox=\"0.00 0.00 181.00 264.00\" width=\"241pt\" xmlns=\"http://www.w3.org/2000/svg\" xmlns:xlink=\"http://www.w3.org/1999/xlink\">\n<g class=\"graph\" id=\"graph0\" transform=\"scale(1.3333 1.3333) rotate(0) translate(4 260)\">\n<title>G</title>\n<polygon fill=\"#ffffff\" points=\"-4,4 -4,-260 177,-260 177,4 -4,4\" stroke=\"transparent\"/>\n<!-- 140289749408176 -->\n<g class=\"node\" id=\"node1\">\n<title>140289749408176</title>\n<polygon fill=\"none\" points=\"0,-219.5 0,-255.5 173,-255.5 173,-219.5 0,-219.5\" stroke=\"#000000\"/>\n<text fill=\"#000000\" font-family=\"Times,serif\" font-size=\"14.00\" text-anchor=\"middle\" x=\"86.5\" y=\"-233.8\">dense_2_input: InputLayer</text>\n</g>\n<!-- 140289749406888 -->\n<g class=\"node\" id=\"node2\">\n<title>140289749406888</title>\n<polygon fill=\"none\" points=\"33,-146.5 33,-182.5 140,-182.5 140,-146.5 33,-146.5\" stroke=\"#000000\"/>\n<text fill=\"#000000\" font-family=\"Times,serif\" font-size=\"14.00\" text-anchor=\"middle\" x=\"86.5\" y=\"-160.8\">dense_2: Dense</text>\n</g>\n<!-- 140289749408176&#45;&gt;140289749406888 -->\n<g class=\"edge\" id=\"edge1\">\n<title>140289749408176-&gt;140289749406888</title>\n<path d=\"M86.5,-219.4551C86.5,-211.3828 86.5,-201.6764 86.5,-192.6817\" fill=\"none\" stroke=\"#000000\"/>\n<polygon fill=\"#000000\" points=\"90.0001,-192.5903 86.5,-182.5904 83.0001,-192.5904 90.0001,-192.5903\" stroke=\"#000000\"/>\n</g>\n<!-- 140289749407280 -->\n<g class=\"node\" id=\"node3\">\n<title>140289749407280</title>\n<polygon fill=\"none\" points=\"33,-73.5 33,-109.5 140,-109.5 140,-73.5 33,-73.5\" stroke=\"#000000\"/>\n<text fill=\"#000000\" font-family=\"Times,serif\" font-size=\"14.00\" text-anchor=\"middle\" x=\"86.5\" y=\"-87.8\">dense_3: Dense</text>\n</g>\n<!-- 140289749406888&#45;&gt;140289749407280 -->\n<g class=\"edge\" id=\"edge2\">\n<title>140289749406888-&gt;140289749407280</title>\n<path d=\"M86.5,-146.4551C86.5,-138.3828 86.5,-128.6764 86.5,-119.6817\" fill=\"none\" stroke=\"#000000\"/>\n<polygon fill=\"#000000\" points=\"90.0001,-119.5903 86.5,-109.5904 83.0001,-119.5904 90.0001,-119.5903\" stroke=\"#000000\"/>\n</g>\n<!-- 140289749407672 -->\n<g class=\"node\" id=\"node4\">\n<title>140289749407672</title>\n<polygon fill=\"none\" points=\"33,-.5 33,-36.5 140,-36.5 140,-.5 33,-.5\" stroke=\"#000000\"/>\n<text fill=\"#000000\" font-family=\"Times,serif\" font-size=\"14.00\" text-anchor=\"middle\" x=\"86.5\" y=\"-14.8\">dense_4: Dense</text>\n</g>\n<!-- 140289749407280&#45;&gt;140289749407672 -->\n<g class=\"edge\" id=\"edge3\">\n<title>140289749407280-&gt;140289749407672</title>\n<path d=\"M86.5,-73.4551C86.5,-65.3828 86.5,-55.6764 86.5,-46.6817\" fill=\"none\" stroke=\"#000000\"/>\n<polygon fill=\"#000000\" points=\"90.0001,-46.5903 86.5,-36.5904 83.0001,-46.5904 90.0001,-46.5903\" stroke=\"#000000\"/>\n</g>\n</g>\n</svg>"
          },
          "metadata": {
            "tags": []
          },
          "execution_count": 9
        }
      ]
    },
    {
      "cell_type": "code",
      "metadata": {
        "id": "ss56l70i308p",
        "colab_type": "code",
        "colab": {}
      },
      "source": [
        "def DLSN_mc(X,y):   # change numbers of filter in convolutional\n",
        "    #create model\n",
        "    X_train, X_test, y_train, y_test = train_test_split(X, y, test_size=0.13, random_state=42)\n",
        "    num_out_layer=int(max(y_train)+1)\n",
        "    X_train=np.expand_dims(X_train, axis=3)\n",
        "    X_test=np.expand_dims(X_test, axis=3)\n",
        "    num_filters = 32\n",
        "    filter_size = 4\n",
        "    pool_size = 2\n",
        "\n",
        "    model = Sequential([\n",
        "      Conv2D(num_filters, filter_size, input_shape=(10, 6, 1)),\n",
        "      MaxPooling2D(pool_size=pool_size),\n",
        "      Flatten(),\n",
        "      Dense(num_out_layer, activation='relu'),\n",
        "    ])\n",
        "    model.compile(optimizer='adam', loss='mean_squared_error',)\n",
        "    early_stopping_monitor = EarlyStopping(patience=3)\n",
        "    model.fit(X_train, to_categorical(y_train), \n",
        "              validation_data=(X_test, to_categorical(y_test,num_classes=num_out_layer)),\n",
        "              epochs=30, callbacks=[early_stopping_monitor],)\n",
        "    # Evaluate the model on the test data using `evaluate`\n",
        "    print(\"Evaluate on test data\")\n",
        "    results = model.evaluate(X_test, to_categorical(y_test,num_classes=num_out_layer), verbose=0)\n",
        "    print(\"test loss:\", results)\n",
        "    # Generate predictions (probabilities -- the output of the last layer)\n",
        "    # on new data using `predict`\n",
        "\n",
        "    print(\"Generate predictions for 3 samples\")\n",
        "    predictions = model.predict(X_test[:7])\n",
        "\n",
        "    print(predictions)\n",
        "    \n",
        "    return model\n",
        "\n",
        "\n"
      ],
      "execution_count": null,
      "outputs": []
    },
    {
      "cell_type": "code",
      "metadata": {
        "id": "ywNH-U2VtnWY",
        "colab_type": "code",
        "colab": {
          "base_uri": "https://localhost:8080/",
          "height": 425
        },
        "outputId": "47ea9adc-94d4-44a5-8ae1-30e58425bb18"
      },
      "source": [
        "model_mc=DLSN_mc(X,y)\n",
        "y_test[:7]\n"
      ],
      "execution_count": null,
      "outputs": [
        {
          "output_type": "stream",
          "text": [
            "Train on 870 samples, validate on 130 samples\n",
            "Epoch 1/30\n",
            "870/870 [==============================] - 0s 199us/step - loss: 0.5420 - val_loss: 0.0589\n",
            "Epoch 2/30\n",
            "870/870 [==============================] - 0s 98us/step - loss: 0.0588 - val_loss: 0.0588\n",
            "Epoch 3/30\n",
            "870/870 [==============================] - 0s 85us/step - loss: 0.0588 - val_loss: 0.0588\n",
            "Epoch 4/30\n",
            "870/870 [==============================] - 0s 75us/step - loss: 0.0588 - val_loss: 0.0588\n",
            "Epoch 5/30\n",
            "870/870 [==============================] - 0s 73us/step - loss: 0.0588 - val_loss: 0.0588\n",
            "Epoch 6/30\n",
            "870/870 [==============================] - 0s 75us/step - loss: 0.0588 - val_loss: 0.0588\n",
            "Evaluate on test data\n",
            "test loss: 0.05883375962193196\n",
            "Generate predictions for 3 samples\n",
            "[[0. 0. 0. 0. 0. 0. 0. 0. 0. 0. 0. 0. 0. 0. 0. 0. 0.]\n",
            " [0. 0. 0. 0. 0. 0. 0. 0. 0. 0. 0. 0. 0. 0. 0. 0. 0.]\n",
            " [0. 0. 0. 0. 0. 0. 0. 0. 0. 0. 0. 0. 0. 0. 0. 0. 0.]\n",
            " [0. 0. 0. 0. 0. 0. 0. 0. 0. 0. 0. 0. 0. 0. 0. 0. 0.]\n",
            " [0. 0. 0. 0. 0. 0. 0. 0. 0. 0. 0. 0. 0. 0. 0. 0. 0.]\n",
            " [0. 0. 0. 0. 0. 0. 0. 0. 0. 0. 0. 0. 0. 0. 0. 0. 0.]\n",
            " [0. 0. 0. 0. 0. 0. 0. 0. 0. 0. 0. 0. 0. 0. 0. 0. 0.]]\n"
          ],
          "name": "stdout"
        },
        {
          "output_type": "execute_result",
          "data": {
            "text/plain": [
              "array([ 5.6, 11.2, 13. ,  6.9,  8.5, 10.2, 11.3])"
            ]
          },
          "metadata": {
            "tags": []
          },
          "execution_count": 90
        }
      ]
    },
    {
      "cell_type": "code",
      "metadata": {
        "id": "5Ox03GfkWtv_",
        "colab_type": "code",
        "colab": {
          "base_uri": "https://localhost:8080/",
          "height": 730
        },
        "outputId": "bef206eb-6168-4273-9c30-dbbd45456f9c"
      },
      "source": [
        "\n",
        "# Summary of neural network\n",
        "model_mc.summary()\n",
        "\n",
        "# Output network visualization\n",
        "SVG(model_to_dot(model_mc,show_layer_names=True, rankdir='TB',\n",
        "    expand_nested=False, dpi=70).create(prog='dot', format='svg'))"
      ],
      "execution_count": null,
      "outputs": [
        {
          "output_type": "stream",
          "text": [
            "Model: \"sequential_13\"\n",
            "_________________________________________________________________\n",
            "Layer (type)                 Output Shape              Param #   \n",
            "=================================================================\n",
            "conv2d_10 (Conv2D)           (None, 7, 3, 32)          544       \n",
            "_________________________________________________________________\n",
            "max_pooling2d_10 (MaxPooling (None, 3, 1, 32)          0         \n",
            "_________________________________________________________________\n",
            "flatten_10 (Flatten)         (None, 96)                0         \n",
            "_________________________________________________________________\n",
            "dense_19 (Dense)             (None, 17)                1649      \n",
            "=================================================================\n",
            "Total params: 2,193\n",
            "Trainable params: 2,193\n",
            "Non-trainable params: 0\n",
            "_________________________________________________________________\n"
          ],
          "name": "stdout"
        },
        {
          "output_type": "execute_result",
          "data": {
            "text/plain": [
              "<IPython.core.display.SVG object>"
            ],
            "image/svg+xml": "<svg height=\"328pt\" viewBox=\"0.00 0.00 237.00 337.00\" width=\"230pt\" xmlns=\"http://www.w3.org/2000/svg\" xmlns:xlink=\"http://www.w3.org/1999/xlink\">\n<g class=\"graph\" id=\"graph0\" transform=\"scale(.9722 .9722) rotate(0) translate(4 333)\">\n<title>G</title>\n<polygon fill=\"#ffffff\" points=\"-4,4 -4,-333 233,-333 233,4 -4,4\" stroke=\"transparent\"/>\n<!-- 140289744227912 -->\n<g class=\"node\" id=\"node1\">\n<title>140289744227912</title>\n<polygon fill=\"none\" points=\"19,-292.5 19,-328.5 210,-328.5 210,-292.5 19,-292.5\" stroke=\"#000000\"/>\n<text fill=\"#000000\" font-family=\"Times,serif\" font-size=\"14.00\" text-anchor=\"middle\" x=\"114.5\" y=\"-306.8\">conv2d_10_input: InputLayer</text>\n</g>\n<!-- 140289744216752 -->\n<g class=\"node\" id=\"node2\">\n<title>140289744216752</title>\n<polygon fill=\"none\" points=\"44.5,-219.5 44.5,-255.5 184.5,-255.5 184.5,-219.5 44.5,-219.5\" stroke=\"#000000\"/>\n<text fill=\"#000000\" font-family=\"Times,serif\" font-size=\"14.00\" text-anchor=\"middle\" x=\"114.5\" y=\"-233.8\">conv2d_10: Conv2D</text>\n</g>\n<!-- 140289744227912&#45;&gt;140289744216752 -->\n<g class=\"edge\" id=\"edge1\">\n<title>140289744227912-&gt;140289744216752</title>\n<path d=\"M114.5,-292.4551C114.5,-284.3828 114.5,-274.6764 114.5,-265.6817\" fill=\"none\" stroke=\"#000000\"/>\n<polygon fill=\"#000000\" points=\"118.0001,-265.5903 114.5,-255.5904 111.0001,-265.5904 118.0001,-265.5903\" stroke=\"#000000\"/>\n</g>\n<!-- 140289744216472 -->\n<g class=\"node\" id=\"node3\">\n<title>140289744216472</title>\n<polygon fill=\"none\" points=\"0,-146.5 0,-182.5 229,-182.5 229,-146.5 0,-146.5\" stroke=\"#000000\"/>\n<text fill=\"#000000\" font-family=\"Times,serif\" font-size=\"14.00\" text-anchor=\"middle\" x=\"114.5\" y=\"-160.8\">max_pooling2d_10: MaxPooling2D</text>\n</g>\n<!-- 140289744216752&#45;&gt;140289744216472 -->\n<g class=\"edge\" id=\"edge2\">\n<title>140289744216752-&gt;140289744216472</title>\n<path d=\"M114.5,-219.4551C114.5,-211.3828 114.5,-201.6764 114.5,-192.6817\" fill=\"none\" stroke=\"#000000\"/>\n<polygon fill=\"#000000\" points=\"118.0001,-192.5903 114.5,-182.5904 111.0001,-192.5904 118.0001,-192.5903\" stroke=\"#000000\"/>\n</g>\n<!-- 140289744216416 -->\n<g class=\"node\" id=\"node4\">\n<title>140289744216416</title>\n<polygon fill=\"none\" points=\"54,-73.5 54,-109.5 175,-109.5 175,-73.5 54,-73.5\" stroke=\"#000000\"/>\n<text fill=\"#000000\" font-family=\"Times,serif\" font-size=\"14.00\" text-anchor=\"middle\" x=\"114.5\" y=\"-87.8\">flatten_10: Flatten</text>\n</g>\n<!-- 140289744216472&#45;&gt;140289744216416 -->\n<g class=\"edge\" id=\"edge3\">\n<title>140289744216472-&gt;140289744216416</title>\n<path d=\"M114.5,-146.4551C114.5,-138.3828 114.5,-128.6764 114.5,-119.6817\" fill=\"none\" stroke=\"#000000\"/>\n<polygon fill=\"#000000\" points=\"118.0001,-119.5903 114.5,-109.5904 111.0001,-119.5904 118.0001,-119.5903\" stroke=\"#000000\"/>\n</g>\n<!-- 140289744216248 -->\n<g class=\"node\" id=\"node5\">\n<title>140289744216248</title>\n<polygon fill=\"none\" points=\"57.5,-.5 57.5,-36.5 171.5,-36.5 171.5,-.5 57.5,-.5\" stroke=\"#000000\"/>\n<text fill=\"#000000\" font-family=\"Times,serif\" font-size=\"14.00\" text-anchor=\"middle\" x=\"114.5\" y=\"-14.8\">dense_19: Dense</text>\n</g>\n<!-- 140289744216416&#45;&gt;140289744216248 -->\n<g class=\"edge\" id=\"edge4\">\n<title>140289744216416-&gt;140289744216248</title>\n<path d=\"M114.5,-73.4551C114.5,-65.3828 114.5,-55.6764 114.5,-46.6817\" fill=\"none\" stroke=\"#000000\"/>\n<polygon fill=\"#000000\" points=\"118.0001,-46.5903 114.5,-36.5904 111.0001,-46.5904 118.0001,-46.5903\" stroke=\"#000000\"/>\n</g>\n</g>\n</svg>"
          },
          "metadata": {
            "tags": []
          },
          "execution_count": 91
        }
      ]
    },
    {
      "cell_type": "code",
      "metadata": {
        "id": "8ZigGabBT-FT",
        "colab_type": "code",
        "colab": {}
      },
      "source": [
        "with pd.ExcelFile('/content/drive/My Drive/output_values/output_n10_3_combined.xlsx') as reader:\n",
        "    \n",
        "    closeness_n10_3_c=pd.read_excel(reader,sheet_name=\"closeness_centrality\")\n",
        "    betweenness_n10_3_c=pd.read_excel(reader,sheet_name=\"betweenness_centrality\")\n",
        "    eigenvector_n10_3_c=pd.read_excel(reader,sheet_name=\"eigenvector_centrality\")\n",
        "    page_rank_n10_3_c=pd.read_excel(reader,sheet_name=\"page_rank\")\n",
        "    triangles_n10_3_c=pd.read_excel(reader,sheet_name=\"triangles\")\n",
        "    clustering_n10_3_c=pd.read_excel(reader,sheet_name=\"clustering\")\n",
        "    wiener_index_n10_3_c=pd.read_excel(reader,sheet_name=\"wiener_index\")\n",
        "    transitivity_n10_3_c=pd.read_excel(reader,sheet_name=\"transitivity\")\n",
        "    eccentricity_n10_3_c=pd.read_excel(reader,sheet_name=\"eccentricity\")\n",
        "\n",
        "    diameter_radius_center_periphery_density_n10_3_c=pd.read_excel(reader,sheet_name=\"d_r_c_p_d\")\n",
        "    Efficiency_loss_n10_3_c=pd.read_excel(reader,sheet_name=\"Efficiency_loss\")\n"
      ],
      "execution_count": null,
      "outputs": []
    },
    {
      "cell_type": "code",
      "metadata": {
        "id": "URkPjKz5UGvi",
        "colab_type": "code",
        "colab": {
          "base_uri": "https://localhost:8080/",
          "height": 68
        },
        "outputId": "a675c2f2-429c-4ac9-d0c2-98fc3fa9ab17"
      },
      "source": [
        "X_c, Xa_c, y_c=com_data(10560, closeness_n10_3_c, betweenness_n10_3_c, eigenvector_n10_3_c,\n",
        "                        page_rank_n10_3_c,triangles_n10_3_c,clustering_n10_3_c,\n",
        "                        wiener_index_n10_3_c,transitivity_n10_3_c,\n",
        "                        diameter_radius_center_periphery_density_n10_3_c,\n",
        "                        Efficiency_loss_n10_3_c)\n",
        "\n",
        "\n",
        "\n"
      ],
      "execution_count": null,
      "outputs": [
        {
          "output_type": "stream",
          "text": [
            "(10560, 10, 6)\n",
            "(10560,)\n",
            "(10560, 3)\n"
          ],
          "name": "stdout"
        }
      ]
    },
    {
      "cell_type": "code",
      "metadata": {
        "id": "s7hPxKXAfY31",
        "colab_type": "code",
        "colab": {
          "base_uri": "https://localhost:8080/",
          "height": 1000
        },
        "outputId": "7fe0eede-8745-4aef-fa2e-0d826dbee47e"
      },
      "source": [
        "X_c_train, X_c_test, y_c_train, y_c_test = train_test_split(X_c, y_c, test_size=0.23, random_state=42)\n",
        "model_c=DLSN(X_c,y_c)"
      ],
      "execution_count": null,
      "outputs": [
        {
          "output_type": "stream",
          "text": [
            "Train on 9187 samples, validate on 1373 samples\n",
            "Epoch 1/30\n",
            "9187/9187 [==============================] - 1s 72us/step - loss: 0.1028 - val_loss: 0.0070\n",
            "Epoch 2/30\n",
            "9187/9187 [==============================] - 1s 68us/step - loss: 0.0069 - val_loss: 0.0069\n",
            "Epoch 3/30\n",
            "9187/9187 [==============================] - 1s 65us/step - loss: 0.0069 - val_loss: 0.0069\n",
            "Epoch 4/30\n",
            "9187/9187 [==============================] - 1s 64us/step - loss: 0.0069 - val_loss: 0.0069\n",
            "Epoch 5/30\n",
            "9187/9187 [==============================] - 1s 69us/step - loss: 0.0069 - val_loss: 0.0069\n",
            "Epoch 6/30\n",
            "9187/9187 [==============================] - 1s 68us/step - loss: 0.0069 - val_loss: 0.0069\n",
            "Epoch 7/30\n",
            "9187/9187 [==============================] - 1s 80us/step - loss: 0.0069 - val_loss: 0.0069\n",
            "Epoch 8/30\n",
            "9187/9187 [==============================] - 1s 78us/step - loss: 0.0069 - val_loss: 0.0069\n",
            "Epoch 9/30\n",
            "9187/9187 [==============================] - 1s 81us/step - loss: 0.0068 - val_loss: 0.0069\n",
            "Epoch 10/30\n",
            "9187/9187 [==============================] - 1s 71us/step - loss: 0.0068 - val_loss: 0.0069\n",
            "Epoch 11/30\n",
            "9187/9187 [==============================] - 1s 75us/step - loss: 0.0068 - val_loss: 0.0068\n",
            "Epoch 12/30\n",
            "9187/9187 [==============================] - 1s 78us/step - loss: 0.0068 - val_loss: 0.0068\n",
            "Epoch 13/30\n",
            "9187/9187 [==============================] - 1s 74us/step - loss: 0.0068 - val_loss: 0.0068\n",
            "Epoch 14/30\n",
            "9187/9187 [==============================] - 1s 68us/step - loss: 0.0068 - val_loss: 0.0068\n",
            "Epoch 15/30\n",
            "9187/9187 [==============================] - 1s 62us/step - loss: 0.0068 - val_loss: 0.0068\n",
            "Epoch 16/30\n",
            "9187/9187 [==============================] - 1s 77us/step - loss: 0.0068 - val_loss: 0.0068\n",
            "Epoch 17/30\n",
            "9187/9187 [==============================] - 1s 65us/step - loss: 0.0068 - val_loss: 0.0068\n",
            "Epoch 18/30\n",
            "9187/9187 [==============================] - 1s 66us/step - loss: 0.0068 - val_loss: 0.0068\n",
            "Epoch 19/30\n",
            "9187/9187 [==============================] - 1s 65us/step - loss: 0.0068 - val_loss: 0.0068\n",
            "Epoch 20/30\n",
            "9187/9187 [==============================] - 1s 64us/step - loss: 0.0068 - val_loss: 0.0068\n",
            "Epoch 21/30\n",
            "9187/9187 [==============================] - 1s 76us/step - loss: 0.0068 - val_loss: 0.0068\n",
            "Epoch 22/30\n",
            "9187/9187 [==============================] - 1s 75us/step - loss: 0.0068 - val_loss: 0.0068\n",
            "Epoch 23/30\n",
            "9187/9187 [==============================] - 1s 69us/step - loss: 0.0068 - val_loss: 0.0068\n",
            "Evaluate on test data\n",
            "test loss: 0.006848930712933099\n",
            "Generate predictions for 3 samples\n",
            "[[0. 0. 0. 0. 0. 0. 0. 0. 0. 0. 0. 0. 0. 0. 0. 0. 0. 0. 0. 0. 0. 0. 0. 0.\n",
            "  0. 0. 0. 0. 0. 0. 0. 0. 0. 0. 0. 0. 0. 0. 0. 0. 0. 0. 0. 0. 0. 0. 0. 0.\n",
            "  0. 0. 0. 0. 0. 0. 0. 0. 0. 0. 0. 0. 0. 0. 0. 0. 0. 0. 0. 0. 0. 0. 0. 0.\n",
            "  0. 0. 0. 0. 0. 0. 0. 0. 0. 0. 0. 0. 0. 0. 0. 0. 0. 0. 0. 0. 0. 0. 0. 0.\n",
            "  0. 0. 0. 0. 0. 0. 0. 0. 0. 0. 0. 0. 0. 0. 0. 0. 0. 0. 0. 0. 0. 0. 0. 0.\n",
            "  0. 0. 0. 0. 0. 0. 0. 0. 0. 0. 0. 0. 0. 0. 0. 0. 0. 0. 0. 0. 0. 0. 0. 0.\n",
            "  0. 0.]\n",
            " [0. 0. 0. 0. 0. 0. 0. 0. 0. 0. 0. 0. 0. 0. 0. 0. 0. 0. 0. 0. 0. 0. 0. 0.\n",
            "  0. 0. 0. 0. 0. 0. 0. 0. 0. 0. 0. 0. 0. 0. 0. 0. 0. 0. 0. 0. 0. 0. 0. 0.\n",
            "  0. 0. 0. 0. 0. 0. 0. 0. 0. 0. 0. 0. 0. 0. 0. 0. 0. 0. 0. 0. 0. 0. 0. 0.\n",
            "  0. 0. 0. 0. 0. 0. 0. 0. 0. 0. 0. 0. 0. 0. 0. 0. 0. 0. 0. 0. 0. 0. 0. 0.\n",
            "  0. 0. 0. 0. 0. 0. 0. 0. 0. 0. 0. 0. 0. 0. 0. 0. 0. 0. 0. 0. 0. 0. 0. 0.\n",
            "  0. 0. 0. 0. 0. 0. 0. 0. 0. 0. 0. 0. 0. 0. 0. 0. 0. 0. 0. 0. 0. 0. 0. 0.\n",
            "  0. 0.]\n",
            " [0. 0. 0. 0. 0. 0. 0. 0. 0. 0. 0. 0. 0. 0. 0. 0. 0. 0. 0. 0. 0. 0. 0. 0.\n",
            "  0. 0. 0. 0. 0. 0. 0. 0. 0. 0. 0. 0. 0. 0. 0. 0. 0. 0. 0. 0. 0. 0. 0. 0.\n",
            "  0. 0. 0. 0. 0. 0. 0. 0. 0. 0. 0. 0. 0. 0. 0. 0. 0. 0. 0. 0. 0. 0. 0. 0.\n",
            "  0. 0. 0. 0. 0. 0. 0. 0. 0. 0. 0. 0. 0. 0. 0. 0. 0. 0. 0. 0. 0. 0. 0. 0.\n",
            "  0. 0. 0. 0. 0. 0. 0. 0. 0. 0. 0. 0. 0. 0. 0. 0. 0. 0. 0. 0. 0. 0. 0. 0.\n",
            "  0. 0. 0. 0. 0. 0. 0. 0. 0. 0. 0. 0. 0. 0. 0. 0. 0. 0. 0. 0. 0. 0. 0. 0.\n",
            "  0. 0.]]\n"
          ],
          "name": "stdout"
        }
      ]
    },
    {
      "cell_type": "code",
      "metadata": {
        "id": "NNo0rJBNe2P9",
        "colab_type": "code",
        "colab": {
          "base_uri": "https://localhost:8080/",
          "height": 730
        },
        "outputId": "3ccbebc6-9045-4705-9754-d60e99240e72"
      },
      "source": [
        "# Summary of neural network\n",
        "model_mc.summary()\n",
        "# Output network visualization\n",
        "SVG(model_to_dot(model_c,show_layer_names=True, rankdir='TB',\n",
        "    expand_nested=False, dpi=70).create(prog='dot', format='svg'))"
      ],
      "execution_count": null,
      "outputs": [
        {
          "output_type": "stream",
          "text": [
            "Model: \"sequential_13\"\n",
            "_________________________________________________________________\n",
            "Layer (type)                 Output Shape              Param #   \n",
            "=================================================================\n",
            "conv2d_10 (Conv2D)           (None, 7, 3, 32)          544       \n",
            "_________________________________________________________________\n",
            "max_pooling2d_10 (MaxPooling (None, 3, 1, 32)          0         \n",
            "_________________________________________________________________\n",
            "flatten_10 (Flatten)         (None, 96)                0         \n",
            "_________________________________________________________________\n",
            "dense_19 (Dense)             (None, 17)                1649      \n",
            "=================================================================\n",
            "Total params: 2,193\n",
            "Trainable params: 2,193\n",
            "Non-trainable params: 0\n",
            "_________________________________________________________________\n"
          ],
          "name": "stdout"
        },
        {
          "output_type": "execute_result",
          "data": {
            "text/plain": [
              "<IPython.core.display.SVG object>"
            ],
            "image/svg+xml": "<svg height=\"328pt\" viewBox=\"0.00 0.00 236.00 337.00\" width=\"229pt\" xmlns=\"http://www.w3.org/2000/svg\" xmlns:xlink=\"http://www.w3.org/1999/xlink\">\n<g class=\"graph\" id=\"graph0\" transform=\"scale(.9722 .9722) rotate(0) translate(4 333)\">\n<title>G</title>\n<polygon fill=\"#ffffff\" points=\"-4,4 -4,-333 232,-333 232,4 -4,4\" stroke=\"transparent\"/>\n<!-- 140289745102216 -->\n<g class=\"node\" id=\"node1\">\n<title>140289745102216</title>\n<polygon fill=\"none\" points=\"18.5,-292.5 18.5,-328.5 209.5,-328.5 209.5,-292.5 18.5,-292.5\" stroke=\"#000000\"/>\n<text fill=\"#000000\" font-family=\"Times,serif\" font-size=\"14.00\" text-anchor=\"middle\" x=\"114\" y=\"-306.8\">conv2d_11_input: InputLayer</text>\n</g>\n<!-- 140289745042176 -->\n<g class=\"node\" id=\"node2\">\n<title>140289745042176</title>\n<polygon fill=\"none\" points=\"44,-219.5 44,-255.5 184,-255.5 184,-219.5 44,-219.5\" stroke=\"#000000\"/>\n<text fill=\"#000000\" font-family=\"Times,serif\" font-size=\"14.00\" text-anchor=\"middle\" x=\"114\" y=\"-233.8\">conv2d_11: Conv2D</text>\n</g>\n<!-- 140289745102216&#45;&gt;140289745042176 -->\n<g class=\"edge\" id=\"edge1\">\n<title>140289745102216-&gt;140289745042176</title>\n<path d=\"M114,-292.4551C114,-284.3828 114,-274.6764 114,-265.6817\" fill=\"none\" stroke=\"#000000\"/>\n<polygon fill=\"#000000\" points=\"117.5001,-265.5903 114,-255.5904 110.5001,-265.5904 117.5001,-265.5903\" stroke=\"#000000\"/>\n</g>\n<!-- 140289741222408 -->\n<g class=\"node\" id=\"node3\">\n<title>140289741222408</title>\n<polygon fill=\"none\" points=\"0,-146.5 0,-182.5 228,-182.5 228,-146.5 0,-146.5\" stroke=\"#000000\"/>\n<text fill=\"#000000\" font-family=\"Times,serif\" font-size=\"14.00\" text-anchor=\"middle\" x=\"114\" y=\"-160.8\">max_pooling2d_11: MaxPooling2D</text>\n</g>\n<!-- 140289745042176&#45;&gt;140289741222408 -->\n<g class=\"edge\" id=\"edge2\">\n<title>140289745042176-&gt;140289741222408</title>\n<path d=\"M114,-219.4551C114,-211.3828 114,-201.6764 114,-192.6817\" fill=\"none\" stroke=\"#000000\"/>\n<polygon fill=\"#000000\" points=\"117.5001,-192.5903 114,-182.5904 110.5001,-192.5904 117.5001,-192.5903\" stroke=\"#000000\"/>\n</g>\n<!-- 140289741222464 -->\n<g class=\"node\" id=\"node4\">\n<title>140289741222464</title>\n<polygon fill=\"none\" points=\"54,-73.5 54,-109.5 174,-109.5 174,-73.5 54,-73.5\" stroke=\"#000000\"/>\n<text fill=\"#000000\" font-family=\"Times,serif\" font-size=\"14.00\" text-anchor=\"middle\" x=\"114\" y=\"-87.8\">flatten_11: Flatten</text>\n</g>\n<!-- 140289741222408&#45;&gt;140289741222464 -->\n<g class=\"edge\" id=\"edge3\">\n<title>140289741222408-&gt;140289741222464</title>\n<path d=\"M114,-146.4551C114,-138.3828 114,-128.6764 114,-119.6817\" fill=\"none\" stroke=\"#000000\"/>\n<polygon fill=\"#000000\" points=\"117.5001,-119.5903 114,-109.5904 110.5001,-119.5904 117.5001,-119.5903\" stroke=\"#000000\"/>\n</g>\n<!-- 140289741224760 -->\n<g class=\"node\" id=\"node5\">\n<title>140289741224760</title>\n<polygon fill=\"none\" points=\"57,-.5 57,-36.5 171,-36.5 171,-.5 57,-.5\" stroke=\"#000000\"/>\n<text fill=\"#000000\" font-family=\"Times,serif\" font-size=\"14.00\" text-anchor=\"middle\" x=\"114\" y=\"-14.8\">dense_20: Dense</text>\n</g>\n<!-- 140289741222464&#45;&gt;140289741224760 -->\n<g class=\"edge\" id=\"edge4\">\n<title>140289741222464-&gt;140289741224760</title>\n<path d=\"M114,-73.4551C114,-65.3828 114,-55.6764 114,-46.6817\" fill=\"none\" stroke=\"#000000\"/>\n<polygon fill=\"#000000\" points=\"117.5001,-46.5903 114,-36.5904 110.5001,-46.5904 117.5001,-46.5903\" stroke=\"#000000\"/>\n</g>\n</g>\n</svg>"
          },
          "metadata": {
            "tags": []
          },
          "execution_count": 93
        }
      ]
    },
    {
      "cell_type": "code",
      "metadata": {
        "id": "rT7ADV1AuCFl",
        "colab_type": "code",
        "colab": {
          "base_uri": "https://localhost:8080/",
          "height": 1000
        },
        "outputId": "c5ed0723-7163-40f1-8340-39892ed89d2d"
      },
      "source": [
        "model_s_c=DLSN_s(Xa_c,y_c)"
      ],
      "execution_count": null,
      "outputs": [
        {
          "output_type": "stream",
          "text": [
            "Train on 9187 samples, validate on 1373 samples\n",
            "Epoch 1/30\n",
            "9187/9187 [==============================] - 0s 53us/step - loss: 2.0569 - val_loss: 0.0075\n",
            "Epoch 2/30\n",
            "9187/9187 [==============================] - 0s 43us/step - loss: 0.0069 - val_loss: 0.0068\n",
            "Epoch 3/30\n",
            "9187/9187 [==============================] - 0s 45us/step - loss: 0.0068 - val_loss: 0.0068\n",
            "Epoch 4/30\n",
            "9187/9187 [==============================] - 0s 53us/step - loss: 0.0068 - val_loss: 0.0069\n",
            "Epoch 5/30\n",
            "9187/9187 [==============================] - 0s 45us/step - loss: 0.0068 - val_loss: 0.0068\n",
            "Epoch 6/30\n",
            "9187/9187 [==============================] - 0s 46us/step - loss: 0.0068 - val_loss: 0.0068\n",
            "Epoch 7/30\n",
            "9187/9187 [==============================] - 0s 44us/step - loss: 0.0068 - val_loss: 0.0067\n",
            "Epoch 8/30\n",
            "9187/9187 [==============================] - 0s 45us/step - loss: 0.0067 - val_loss: 0.0067\n",
            "Epoch 9/30\n",
            "9187/9187 [==============================] - 0s 47us/step - loss: 0.0067 - val_loss: 0.0067\n",
            "Epoch 10/30\n",
            "9187/9187 [==============================] - 0s 45us/step - loss: 0.0067 - val_loss: 0.0068\n",
            "Epoch 11/30\n",
            "9187/9187 [==============================] - 0s 50us/step - loss: 0.0067 - val_loss: 0.0068\n",
            "Evaluate on test data\n",
            "test loss: 0.006806564172397477\n",
            "Generate predictions for 3 samples\n",
            "[[-1.91792548e-02  6.94059581e-03  3.62133980e-02  1.36529207e-02\n",
            "   1.53163746e-02 -1.02176107e-02  1.46462247e-02  5.39464280e-02\n",
            "   4.16886955e-02  7.36035407e-02  1.11885712e-01  7.38759339e-02\n",
            "   4.91079576e-02  1.26382969e-02  1.15550458e-02  2.22864598e-02\n",
            "   8.56097136e-03 -2.06034817e-02  6.97424263e-03  2.85095349e-03\n",
            "  -1.13898143e-02 -9.06190649e-03  1.33272866e-02 -8.41337442e-03\n",
            "   9.04507376e-03  6.39942288e-03  3.53643894e-02 -7.97260366e-03\n",
            "   9.81214643e-03 -9.19973105e-03 -7.13158026e-03  5.33010811e-03\n",
            "   1.04020201e-02 -1.53062865e-04  2.53202021e-02  1.53997988e-02\n",
            "   2.09297016e-02 -3.56246084e-02  1.82488188e-02 -5.24278730e-03\n",
            "   1.14500523e-02 -1.07525513e-02  1.48339495e-02 -4.24151868e-03\n",
            "   2.90104747e-03  1.39578804e-03 -1.05668232e-02  1.42964199e-02\n",
            "   2.29169428e-03  1.12985969e-02 -9.45031643e-05 -3.31281126e-03\n",
            "  -1.35203525e-02 -4.24464792e-03  1.88432373e-02 -4.67279926e-03\n",
            "  -9.31859482e-03 -1.22553241e-02  1.03698820e-02  1.56385452e-03\n",
            "  -2.98068449e-02 -2.38669608e-02 -1.45201385e-03  1.97085142e-02\n",
            "   2.35359706e-02 -2.57135779e-02  7.14401901e-03  1.42935161e-02\n",
            "   8.62404332e-03  7.48042017e-03 -7.82629102e-03  1.22804828e-02\n",
            "   1.00504197e-01  3.43277305e-03  5.61146811e-03  6.45637512e-04\n",
            "   2.21965555e-02  2.89595500e-03  1.34318173e-02 -2.05964595e-03\n",
            "   1.45023242e-02 -3.39118764e-04 -5.51669672e-03  5.34050167e-03\n",
            "   2.23565381e-03 -2.28755083e-02  1.65717322e-02  1.42864473e-02\n",
            "   3.05346660e-02 -5.01744449e-04  4.27782387e-02 -9.72598232e-03\n",
            "   7.36073405e-03 -2.42859125e-03  3.51251289e-03  1.01784822e-02\n",
            "   2.09603682e-02 -3.17658484e-03 -1.41672306e-02 -2.60937363e-02\n",
            "   5.97151220e-02 -1.18435025e-02  1.07949749e-02 -1.69888400e-02\n",
            "   3.49789113e-03  7.71905482e-03  1.86596848e-02  1.02081895e-02\n",
            "   2.20986158e-02  6.76658005e-03  5.42335585e-03 -1.33682955e-02\n",
            "  -4.28400934e-03  1.59520432e-02  7.86190294e-03  2.01518536e-02\n",
            "  -1.05268136e-02 -6.77139126e-03  2.24934630e-02 -4.30137292e-03\n",
            "   1.26362890e-02  2.40776688e-02 -1.23180058e-02 -1.03313327e-02\n",
            "   1.21678673e-02 -2.66087428e-03  6.68433495e-03  1.73797831e-02\n",
            "  -8.02784786e-03 -7.54397362e-04  1.17929727e-02 -9.48210806e-03\n",
            "  -1.43271685e-03  7.25137442e-03 -5.36907092e-03 -1.41252540e-02\n",
            "   1.85298994e-02  1.35066099e-02  9.62668657e-03  1.34380907e-02\n",
            "   9.15388018e-03  5.73077798e-03 -1.15690567e-02  2.27586105e-02\n",
            "   1.66789908e-03  2.60029733e-03]\n",
            " [-2.08834708e-02  6.04461879e-03  3.80237103e-02  1.49041414e-02\n",
            "   1.63446143e-02 -1.15847029e-02  1.30029842e-02  5.66140935e-02\n",
            "   4.09095436e-02  7.31934607e-02  1.14652917e-01  7.27835000e-02\n",
            "   4.82305773e-02  1.33742355e-02  1.30207837e-02  2.46506780e-02\n",
            "   8.59977398e-03 -2.16786303e-02  7.25080818e-03  3.28624621e-03\n",
            "  -1.31883249e-02 -9.65890661e-03  1.45144174e-02 -9.05984640e-03\n",
            "   8.21275450e-03  7.60030001e-03  3.71460319e-02 -8.64267908e-03\n",
            "   1.11712515e-02 -9.15967673e-03 -7.52580538e-03  4.36379761e-03\n",
            "   1.03930794e-02  9.29417089e-04  2.52715051e-02  1.57278031e-02\n",
            "   2.23341063e-02 -3.56868356e-02  1.79015622e-02 -7.03760237e-03\n",
            "   1.26975328e-02 -1.26165077e-02  1.64225325e-02 -6.09140843e-03\n",
            "   2.68234313e-03  5.16939908e-04 -1.32507011e-02  1.39402822e-02\n",
            "   2.51324475e-03  1.23491883e-02  1.06394291e-05 -3.37217748e-03\n",
            "  -1.39072463e-02 -3.91133875e-03  2.08281912e-02 -5.34920767e-03\n",
            "  -1.01602124e-02 -1.25525724e-02  1.17166191e-02  1.24275684e-03\n",
            "  -3.23722884e-02 -2.42424700e-02 -2.15511024e-03  2.23124325e-02\n",
            "   2.36167945e-02 -2.83433348e-02  7.03953207e-03  1.53317098e-02\n",
            "   9.13402066e-03  8.36817175e-03 -8.79546255e-03  1.38855167e-02\n",
            "   9.94401947e-02  2.45358795e-03  5.44600561e-03  1.36703253e-04\n",
            "   2.41912846e-02  2.34425440e-03  1.49924457e-02 -2.29310244e-03\n",
            "   1.43270865e-02 -1.30256824e-03 -6.45976141e-03  4.23171371e-03\n",
            "   1.66416448e-03 -2.47077402e-02  1.72017533e-02  1.58119090e-02\n",
            "   3.05264406e-02 -1.52444094e-03  4.36833948e-02 -9.75334086e-03\n",
            "   7.66412169e-03 -4.01848555e-03  2.64362618e-03  1.01548787e-02\n",
            "   1.88796893e-02 -4.50602919e-03 -1.57880299e-02 -2.70375162e-02\n",
            "   5.80883771e-02 -1.33445859e-02  1.12042204e-02 -1.90570019e-02\n",
            "   3.44329327e-03  8.53268802e-03  1.89475752e-02  1.06930248e-02\n",
            "   2.44402289e-02  7.72657245e-03  6.23612478e-03 -1.69513691e-02\n",
            "  -4.48308885e-03  1.73419043e-02  8.17721151e-03  2.15047300e-02\n",
            "  -1.21584311e-02 -7.52086006e-03  2.45660357e-02 -4.19846550e-03\n",
            "   1.46140903e-02  2.36806720e-02 -1.32292416e-02 -1.17995739e-02\n",
            "   1.29743181e-02 -2.28608027e-03  7.55837746e-03  1.83726177e-02\n",
            "  -8.96739587e-03 -8.07028264e-04  1.37291104e-02 -1.05614290e-02\n",
            "  -1.05518103e-03  8.37137550e-03 -5.86358085e-03 -1.61469541e-02\n",
            "   2.07728222e-02  1.50448866e-02  1.03157163e-02  1.43479556e-02\n",
            "   1.01980343e-02  6.06945157e-03 -1.22611858e-02  2.55650356e-02\n",
            "   1.50017161e-03  2.37642229e-03]\n",
            " [ 6.35191798e-03  2.20229551e-02  1.21291876e-02  4.60922718e-04\n",
            "   2.14994699e-03  1.24610029e-02  3.50613520e-02  1.61049291e-02\n",
            "   5.45243174e-02  7.30537474e-02  7.38085955e-02  9.11515057e-02\n",
            "   5.72008453e-02  6.75621256e-03 -4.68280911e-03 -7.20573962e-03\n",
            "   1.10669294e-02 -3.83359566e-03 -1.19111687e-03 -7.63054937e-04\n",
            "   6.59302622e-03  1.12357363e-03 -4.10458352e-03  1.96111202e-03\n",
            "   1.80155728e-02 -7.19852746e-03  1.01119205e-02  2.44783796e-03\n",
            "  -3.15520167e-03 -4.30452079e-03  9.94827598e-04  1.41135678e-02\n",
            "   1.23644434e-02 -1.31426435e-02  2.59340107e-02  5.24894893e-03\n",
            "   5.55086881e-03 -2.98439115e-02  2.18669400e-02  1.35727897e-02\n",
            "  -5.86798787e-03  1.02451518e-02 -3.24878842e-03  1.61675885e-02\n",
            "   1.12910569e-03  1.26554184e-02  1.89279392e-02  1.64530352e-02\n",
            "   1.14847720e-03 -6.80416822e-03 -4.01994586e-03  1.56928599e-03\n",
            "  -3.95696610e-03 -8.15328211e-03 -7.19779264e-03  7.59660080e-03\n",
            "   4.01830208e-03 -5.26554696e-03 -3.88352573e-03  2.32741982e-03\n",
            "   6.44201785e-03 -1.74394939e-02  9.91030037e-03 -1.37163699e-02\n",
            "   1.62839927e-02  1.05081648e-02  4.92863357e-03  1.52012147e-03\n",
            "  -1.38000026e-03 -9.96492803e-04  4.93530184e-03 -1.07126050e-02\n",
            "   1.06128193e-01  1.22683272e-02  1.29709728e-02  6.36774302e-03\n",
            "  -3.78552638e-03  1.42431296e-02 -2.21195817e-03  1.85532123e-03\n",
            "   2.15943232e-02  1.36045534e-02  4.93318960e-03  1.96965858e-02\n",
            "   8.81101470e-03  1.73289515e-03  1.08719785e-02 -1.05462782e-02\n",
            "   2.48407535e-02  8.75271112e-03  3.16730589e-02 -8.29600729e-03\n",
            "   9.71928239e-05  1.70510411e-02  1.47009604e-02  5.98469935e-03\n",
            "   4.96435538e-02  1.36551112e-02  7.47688487e-03 -1.21408850e-02\n",
            "   7.80518353e-02  1.24672055e-02  1.36701018e-03  1.23805143e-02\n",
            "   8.65297765e-03  1.51994824e-03  1.63323618e-02  6.97140768e-03\n",
            "  -6.60668314e-03 -4.93321568e-03 -7.95717165e-03  3.70156281e-02\n",
            "   4.49909270e-03 -1.21337920e-03 -1.01668574e-03 -6.50435686e-05\n",
            "   6.39989227e-03  3.82214226e-03 -8.01982358e-03 -6.64386526e-03\n",
            "  -8.36040080e-03  2.45057791e-02  3.75355268e-03  1.07350126e-02\n",
            "   3.33469734e-03 -5.69260493e-03 -7.85025768e-03  1.59420073e-04\n",
            "   6.97696581e-03 -3.94325703e-04 -9.45793092e-03  2.31532007e-03\n",
            "  -1.86032057e-03 -4.10253555e-03  1.56095251e-03  1.02585889e-02\n",
            "  -9.42512602e-03 -1.00171976e-02  3.33368778e-03 -1.61506236e-03\n",
            "  -3.07246298e-03  2.45288014e-03  2.63115391e-03 -1.44417211e-02\n",
            "  -8.39429908e-04  2.31847167e-04]]\n"
          ],
          "name": "stdout"
        }
      ]
    },
    {
      "cell_type": "code",
      "metadata": {
        "id": "OAxH3ZG9cOD0",
        "colab_type": "code",
        "colab": {
          "base_uri": "https://localhost:8080/",
          "height": 602
        },
        "outputId": "d3303c13-9358-4d36-9dc3-bcfd2ee7ac5e"
      },
      "source": [
        "\n",
        "# Summary of neural network\n",
        "model_s_c.summary()\n",
        "\n",
        "# Output network visualization\n",
        "SVG(model_to_dot(model_s_c,show_layer_names=True, rankdir='TB',\n",
        "    expand_nested=False, dpi=70).create(prog='dot', format='svg'))"
      ],
      "execution_count": null,
      "outputs": [
        {
          "output_type": "stream",
          "text": [
            "Model: \"sequential_15\"\n",
            "_________________________________________________________________\n",
            "Layer (type)                 Output Shape              Param #   \n",
            "=================================================================\n",
            "dense_21 (Dense)             (None, 10)                40        \n",
            "_________________________________________________________________\n",
            "dense_22 (Dense)             (None, 10)                110       \n",
            "_________________________________________________________________\n",
            "dense_23 (Dense)             (None, 146)               1606      \n",
            "=================================================================\n",
            "Total params: 1,756\n",
            "Trainable params: 1,756\n",
            "Non-trainable params: 0\n",
            "_________________________________________________________________\n"
          ],
          "name": "stdout"
        },
        {
          "output_type": "execute_result",
          "data": {
            "text/plain": [
              "<IPython.core.display.SVG object>"
            ],
            "image/svg+xml": "<svg height=\"257pt\" viewBox=\"0.00 0.00 188.00 264.00\" width=\"183pt\" xmlns=\"http://www.w3.org/2000/svg\" xmlns:xlink=\"http://www.w3.org/1999/xlink\">\n<g class=\"graph\" id=\"graph0\" transform=\"scale(.9722 .9722) rotate(0) translate(4 260)\">\n<title>G</title>\n<polygon fill=\"#ffffff\" points=\"-4,4 -4,-260 184,-260 184,4 -4,4\" stroke=\"transparent\"/>\n<!-- 140289742581040 -->\n<g class=\"node\" id=\"node1\">\n<title>140289742581040</title>\n<polygon fill=\"none\" points=\"0,-219.5 0,-255.5 180,-255.5 180,-219.5 0,-219.5\" stroke=\"#000000\"/>\n<text fill=\"#000000\" font-family=\"Times,serif\" font-size=\"14.00\" text-anchor=\"middle\" x=\"90\" y=\"-233.8\">dense_21_input: InputLayer</text>\n</g>\n<!-- 140289728354008 -->\n<g class=\"node\" id=\"node2\">\n<title>140289728354008</title>\n<polygon fill=\"none\" points=\"33,-146.5 33,-182.5 147,-182.5 147,-146.5 33,-146.5\" stroke=\"#000000\"/>\n<text fill=\"#000000\" font-family=\"Times,serif\" font-size=\"14.00\" text-anchor=\"middle\" x=\"90\" y=\"-160.8\">dense_21: Dense</text>\n</g>\n<!-- 140289742581040&#45;&gt;140289728354008 -->\n<g class=\"edge\" id=\"edge1\">\n<title>140289742581040-&gt;140289728354008</title>\n<path d=\"M90,-219.4551C90,-211.3828 90,-201.6764 90,-192.6817\" fill=\"none\" stroke=\"#000000\"/>\n<polygon fill=\"#000000\" points=\"93.5001,-192.5903 90,-182.5904 86.5001,-192.5904 93.5001,-192.5903\" stroke=\"#000000\"/>\n</g>\n<!-- 140289743027000 -->\n<g class=\"node\" id=\"node3\">\n<title>140289743027000</title>\n<polygon fill=\"none\" points=\"33,-73.5 33,-109.5 147,-109.5 147,-73.5 33,-73.5\" stroke=\"#000000\"/>\n<text fill=\"#000000\" font-family=\"Times,serif\" font-size=\"14.00\" text-anchor=\"middle\" x=\"90\" y=\"-87.8\">dense_22: Dense</text>\n</g>\n<!-- 140289728354008&#45;&gt;140289743027000 -->\n<g class=\"edge\" id=\"edge2\">\n<title>140289728354008-&gt;140289743027000</title>\n<path d=\"M90,-146.4551C90,-138.3828 90,-128.6764 90,-119.6817\" fill=\"none\" stroke=\"#000000\"/>\n<polygon fill=\"#000000\" points=\"93.5001,-119.5903 90,-109.5904 86.5001,-119.5904 93.5001,-119.5903\" stroke=\"#000000\"/>\n</g>\n<!-- 140289743027616 -->\n<g class=\"node\" id=\"node4\">\n<title>140289743027616</title>\n<polygon fill=\"none\" points=\"33,-.5 33,-36.5 147,-36.5 147,-.5 33,-.5\" stroke=\"#000000\"/>\n<text fill=\"#000000\" font-family=\"Times,serif\" font-size=\"14.00\" text-anchor=\"middle\" x=\"90\" y=\"-14.8\">dense_23: Dense</text>\n</g>\n<!-- 140289743027000&#45;&gt;140289743027616 -->\n<g class=\"edge\" id=\"edge3\">\n<title>140289743027000-&gt;140289743027616</title>\n<path d=\"M90,-73.4551C90,-65.3828 90,-55.6764 90,-46.6817\" fill=\"none\" stroke=\"#000000\"/>\n<polygon fill=\"#000000\" points=\"93.5001,-46.5903 90,-36.5904 86.5001,-46.5904 93.5001,-46.5903\" stroke=\"#000000\"/>\n</g>\n</g>\n</svg>"
          },
          "metadata": {
            "tags": []
          },
          "execution_count": 95
        }
      ]
    },
    {
      "cell_type": "code",
      "metadata": {
        "id": "DZsN7bWwt_Nj",
        "colab_type": "code",
        "colab": {
          "base_uri": "https://localhost:8080/",
          "height": 425
        },
        "outputId": "2eb04c82-389a-4ed2-c49e-507be659f39f"
      },
      "source": [
        "model_mc_c=DLSN_mc(X_c,y_c)\n",
        "y_test[:7]"
      ],
      "execution_count": null,
      "outputs": [
        {
          "output_type": "stream",
          "text": [
            "Train on 9187 samples, validate on 1373 samples\n",
            "Epoch 1/30\n",
            "9187/9187 [==============================] - 1s 82us/step - loss: 0.0189 - val_loss: 0.0068\n",
            "Epoch 2/30\n",
            "9187/9187 [==============================] - 1s 69us/step - loss: 0.0068 - val_loss: 0.0068\n",
            "Epoch 3/30\n",
            "9187/9187 [==============================] - 1s 75us/step - loss: 0.0068 - val_loss: 0.0068\n",
            "Epoch 4/30\n",
            "9187/9187 [==============================] - 1s 65us/step - loss: 0.0068 - val_loss: 0.0068\n",
            "Epoch 5/30\n",
            "9187/9187 [==============================] - 1s 65us/step - loss: 0.0068 - val_loss: 0.0068\n",
            "Epoch 6/30\n",
            "9187/9187 [==============================] - 1s 69us/step - loss: 0.0068 - val_loss: 0.0068\n",
            "Evaluate on test data\n",
            "test loss: 0.006849710978106348\n",
            "Generate predictions for 3 samples\n",
            "[[0. 0. 0. ... 0. 0. 0.]\n",
            " [0. 0. 0. ... 0. 0. 0.]\n",
            " [0. 0. 0. ... 0. 0. 0.]\n",
            " ...\n",
            " [0. 0. 0. ... 0. 0. 0.]\n",
            " [0. 0. 0. ... 0. 0. 0.]\n",
            " [0. 0. 0. ... 0. 0. 0.]]\n"
          ],
          "name": "stdout"
        },
        {
          "output_type": "execute_result",
          "data": {
            "text/plain": [
              "array([ 5.6, 11.2, 13. ,  6.9,  8.5, 10.2, 11.3])"
            ]
          },
          "metadata": {
            "tags": []
          },
          "execution_count": 96
        }
      ]
    },
    {
      "cell_type": "code",
      "metadata": {
        "id": "-E_oRV_adHTy",
        "colab_type": "code",
        "colab": {
          "base_uri": "https://localhost:8080/",
          "height": 730
        },
        "outputId": "bba25f12-9ca8-4ee0-f9f5-c8483e23793d"
      },
      "source": [
        "\n",
        "# Summary of neural network\n",
        "model_mc_c.summary()\n",
        "\n",
        "# Output network visualization\n",
        "SVG(model_to_dot(model_mc_c,show_layer_names=True, rankdir='TB',\n",
        "    expand_nested=False, dpi=70).create(prog='dot', format='svg'))"
      ],
      "execution_count": null,
      "outputs": [
        {
          "output_type": "stream",
          "text": [
            "Model: \"sequential_16\"\n",
            "_________________________________________________________________\n",
            "Layer (type)                 Output Shape              Param #   \n",
            "=================================================================\n",
            "conv2d_12 (Conv2D)           (None, 7, 3, 32)          544       \n",
            "_________________________________________________________________\n",
            "max_pooling2d_12 (MaxPooling (None, 3, 1, 32)          0         \n",
            "_________________________________________________________________\n",
            "flatten_12 (Flatten)         (None, 96)                0         \n",
            "_________________________________________________________________\n",
            "dense_24 (Dense)             (None, 146)               14162     \n",
            "=================================================================\n",
            "Total params: 14,706\n",
            "Trainable params: 14,706\n",
            "Non-trainable params: 0\n",
            "_________________________________________________________________\n"
          ],
          "name": "stdout"
        },
        {
          "output_type": "execute_result",
          "data": {
            "text/plain": [
              "<IPython.core.display.SVG object>"
            ],
            "image/svg+xml": "<svg height=\"328pt\" viewBox=\"0.00 0.00 237.00 337.00\" width=\"230pt\" xmlns=\"http://www.w3.org/2000/svg\" xmlns:xlink=\"http://www.w3.org/1999/xlink\">\n<g class=\"graph\" id=\"graph0\" transform=\"scale(.9722 .9722) rotate(0) translate(4 333)\">\n<title>G</title>\n<polygon fill=\"#ffffff\" points=\"-4,4 -4,-333 233,-333 233,4 -4,4\" stroke=\"transparent\"/>\n<!-- 140289720249536 -->\n<g class=\"node\" id=\"node1\">\n<title>140289720249536</title>\n<polygon fill=\"none\" points=\"19,-292.5 19,-328.5 210,-328.5 210,-292.5 19,-292.5\" stroke=\"#000000\"/>\n<text fill=\"#000000\" font-family=\"Times,serif\" font-size=\"14.00\" text-anchor=\"middle\" x=\"114.5\" y=\"-306.8\">conv2d_12_input: InputLayer</text>\n</g>\n<!-- 140289730494592 -->\n<g class=\"node\" id=\"node2\">\n<title>140289730494592</title>\n<polygon fill=\"none\" points=\"44.5,-219.5 44.5,-255.5 184.5,-255.5 184.5,-219.5 44.5,-219.5\" stroke=\"#000000\"/>\n<text fill=\"#000000\" font-family=\"Times,serif\" font-size=\"14.00\" text-anchor=\"middle\" x=\"114.5\" y=\"-233.8\">conv2d_12: Conv2D</text>\n</g>\n<!-- 140289720249536&#45;&gt;140289730494592 -->\n<g class=\"edge\" id=\"edge1\">\n<title>140289720249536-&gt;140289730494592</title>\n<path d=\"M114.5,-292.4551C114.5,-284.3828 114.5,-274.6764 114.5,-265.6817\" fill=\"none\" stroke=\"#000000\"/>\n<polygon fill=\"#000000\" points=\"118.0001,-265.5903 114.5,-255.5904 111.0001,-265.5904 118.0001,-265.5903\" stroke=\"#000000\"/>\n</g>\n<!-- 140289720248640 -->\n<g class=\"node\" id=\"node3\">\n<title>140289720248640</title>\n<polygon fill=\"none\" points=\"0,-146.5 0,-182.5 229,-182.5 229,-146.5 0,-146.5\" stroke=\"#000000\"/>\n<text fill=\"#000000\" font-family=\"Times,serif\" font-size=\"14.00\" text-anchor=\"middle\" x=\"114.5\" y=\"-160.8\">max_pooling2d_12: MaxPooling2D</text>\n</g>\n<!-- 140289730494592&#45;&gt;140289720248640 -->\n<g class=\"edge\" id=\"edge2\">\n<title>140289730494592-&gt;140289720248640</title>\n<path d=\"M114.5,-219.4551C114.5,-211.3828 114.5,-201.6764 114.5,-192.6817\" fill=\"none\" stroke=\"#000000\"/>\n<polygon fill=\"#000000\" points=\"118.0001,-192.5903 114.5,-182.5904 111.0001,-192.5904 118.0001,-192.5903\" stroke=\"#000000\"/>\n</g>\n<!-- 140289720248920 -->\n<g class=\"node\" id=\"node4\">\n<title>140289720248920</title>\n<polygon fill=\"none\" points=\"54,-73.5 54,-109.5 175,-109.5 175,-73.5 54,-73.5\" stroke=\"#000000\"/>\n<text fill=\"#000000\" font-family=\"Times,serif\" font-size=\"14.00\" text-anchor=\"middle\" x=\"114.5\" y=\"-87.8\">flatten_12: Flatten</text>\n</g>\n<!-- 140289720248640&#45;&gt;140289720248920 -->\n<g class=\"edge\" id=\"edge3\">\n<title>140289720248640-&gt;140289720248920</title>\n<path d=\"M114.5,-146.4551C114.5,-138.3828 114.5,-128.6764 114.5,-119.6817\" fill=\"none\" stroke=\"#000000\"/>\n<polygon fill=\"#000000\" points=\"118.0001,-119.5903 114.5,-109.5904 111.0001,-119.5904 118.0001,-119.5903\" stroke=\"#000000\"/>\n</g>\n<!-- 140289720249032 -->\n<g class=\"node\" id=\"node5\">\n<title>140289720249032</title>\n<polygon fill=\"none\" points=\"57.5,-.5 57.5,-36.5 171.5,-36.5 171.5,-.5 57.5,-.5\" stroke=\"#000000\"/>\n<text fill=\"#000000\" font-family=\"Times,serif\" font-size=\"14.00\" text-anchor=\"middle\" x=\"114.5\" y=\"-14.8\">dense_24: Dense</text>\n</g>\n<!-- 140289720248920&#45;&gt;140289720249032 -->\n<g class=\"edge\" id=\"edge4\">\n<title>140289720248920-&gt;140289720249032</title>\n<path d=\"M114.5,-73.4551C114.5,-65.3828 114.5,-55.6764 114.5,-46.6817\" fill=\"none\" stroke=\"#000000\"/>\n<polygon fill=\"#000000\" points=\"118.0001,-46.5903 114.5,-36.5904 111.0001,-46.5904 118.0001,-46.5903\" stroke=\"#000000\"/>\n</g>\n</g>\n</svg>"
          },
          "metadata": {
            "tags": []
          },
          "execution_count": 97
        }
      ]
    }
  ]
}